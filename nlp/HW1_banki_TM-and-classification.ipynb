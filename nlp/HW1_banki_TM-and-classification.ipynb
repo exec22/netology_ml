{
 "cells": [
  {
   "cell_type": "code",
   "execution_count": 1,
   "metadata": {},
   "outputs": [],
   "source": [
    "import json\n",
    "\n",
    "import bz2\n",
    "import regex\n",
    "from tqdm import tqdm\n",
    "from tqdm import tqdm_notebook\n",
    "from tqdm import tqdm_gui\n",
    "from scipy import sparse"
   ]
  },
  {
   "cell_type": "code",
   "execution_count": 2,
   "metadata": {},
   "outputs": [
    {
     "name": "stdout",
     "output_type": "stream",
     "text": [
      "Populating the interactive namespace from numpy and matplotlib\n"
     ]
    }
   ],
   "source": [
    "import pandas as pd\n",
    "import numpy as np\n",
    "import nltk\n",
    "import matplotlib.pyplot as plt\n",
    "import seaborn as sns\n",
    "%matplotlib inline\n",
    "%pylab inline"
   ]
  },
  {
   "cell_type": "code",
   "execution_count": 3,
   "metadata": {
    "scrolled": true
   },
   "outputs": [
    {
     "name": "stderr",
     "output_type": "stream",
     "text": [
      "201030it [01:21, 2465.87it/s]\n"
     ]
    }
   ],
   "source": [
    "responses = []\n",
    "with bz2.BZ2File('banki_responses.json.bz2', 'r') as thefile:\n",
    "    for row in tqdm(thefile):\n",
    "        resp = json.loads(row)\n",
    "        if not resp['rating_not_checked'] and (len(resp['text'].split()) > 0):\n",
    "            responses.append(resp)"
   ]
  },
  {
   "cell_type": "markdown",
   "metadata": {},
   "source": [
    "#  Домашнее задание по NLP # 1 [100 баллов]\n",
    "## Классификация по тональности \n",
    "\n",
    "В этом домашнем задании вам предстоит классифицировать по тональности отзывы на банки с сайта banki.ru.\n",
    "\n",
    "Данные содержат непосредственно тексты отзывов, некоторую дополнительную информацию, а также оценку по шкале от 1 до 5. \n",
    "\n",
    "Тексты хранятся в json-ах в массиве responses.\n",
    "\n",
    "Посмотрим на пример отзыва:"
   ]
  },
  {
   "cell_type": "code",
   "execution_count": 4,
   "metadata": {},
   "outputs": [
    {
     "data": {
      "text/plain": [
       "{'city': 'г. Саратов',\n",
       " 'rating_not_checked': False,\n",
       " 'title': 'Карта ко вкладу',\n",
       " 'num_comments': 0,\n",
       " 'bank_license': 'лицензия № 880',\n",
       " 'author': 'ronnichka',\n",
       " 'bank_name': 'Югра',\n",
       " 'datetime': '2015-06-03 20:56:57',\n",
       " 'text': 'Здравствуйте! Хотела написать, что мне месяц не выдают карту ко вкладу, ссылаясь на \"нам же их из Самары везут\" (на секундочку 5 часов езды от нашего города). Но! Прочитала, что людям 3,5 месяцев не выдают карту, и поняла, что у меня все хорошо, пока что. И подарок мне дали, и кулер в отделении есть. Так что я, конечно, готова ждать. Правда хотелось бы не очень долго.',\n",
       " 'rating_grade': 3}"
      ]
     },
     "execution_count": 4,
     "metadata": {},
     "output_type": "execute_result"
    }
   ],
   "source": [
    "responses[99]"
   ]
  },
  {
   "cell_type": "code",
   "execution_count": 5,
   "metadata": {},
   "outputs": [],
   "source": [
    "from collections import Counter\n",
    "from collections import defaultdict"
   ]
  },
  {
   "cell_type": "code",
   "execution_count": 6,
   "metadata": {},
   "outputs": [],
   "source": [
    "cities = []\n",
    "for i in range(len(responses)):\n",
    "    cities.append(responses[i]['city'])\n",
    "\n",
    "cities_cnt = Counter(cities)\n",
    "#cities_cnt.most_common()"
   ]
  },
  {
   "cell_type": "code",
   "execution_count": 7,
   "metadata": {},
   "outputs": [],
   "source": [
    "banks = []\n",
    "for i in range(len(responses)):\n",
    "    banks.append(responses[i]['bank_name'])\n",
    "\n",
    "banks_cnt = Counter(banks)\n",
    "#banks_cnt.most_common()"
   ]
  },
  {
   "cell_type": "markdown",
   "metadata": {},
   "source": [
    "## Часть 1. Анализ текстов [40/100]\n",
    "\n",
    "1. Посчитайте количество отзывов в разных городах и на разные банки\n",
    "2. Постройте гистограмы длин слов в символах и в словах\n",
    "3. Найдите 10 самых частых:\n",
    "    * слов\n",
    "    * слов без стоп-слов\n",
    "    * лемм \n",
    "* существительных\n",
    "4. Постройте кривые Ципфа и Хипса\n",
    "5. Ответьте на следующие вопросы:\n",
    "    * какое слово встречается чаще, \"сотрудник\" или \"клиент\"?\n",
    "    * сколько раз встречается слова \"мошенничество\" и \"доверие\"?\n",
    "6. В поле \"rating_grade\" записана оценка отзыва по шкале от 1 до 5. Используйте меру $tf-idf$, для того, чтобы найти ключевые слова и биграмы для положительных отзывов (с оценкой 5) и отрицательных отзывов (с оценкой 1)"
   ]
  },
  {
   "cell_type": "code",
   "execution_count": 8,
   "metadata": {},
   "outputs": [],
   "source": [
    "# city process  - lowcase, remove \"г. \""
   ]
  },
  {
   "cell_type": "code",
   "execution_count": 9,
   "metadata": {},
   "outputs": [
    {
     "name": "stdout",
     "output_type": "stream",
     "text": [
      "[('москва', 56750), ('none', 15174), ('санкт-петербург', 14651), ('новосибирск', 2379), ('екатеринбург', 2374), ('нижний новгород', 2035), ('ростов-на-дону', 1933), ('самара', 1784), ('челябинск', 1539), ('казань', 1515), ('уфа', 1317), ('краснодар', 1292), ('красноярск', 1264), ('воронеж', 1232), ('пермь', 1197), ('омск', 1057), ('волгоград', 1049), ('саратов', 963), ('иркутск', 770), ('калининград', 766)] \n",
      "\n",
      "[('Сбербанк России', 26327), ('Альфа-Банк', 10224), ('ВТБ 24', 8185), ('Русский Стандарт', 7943), ('Хоум Кредит Банк', 7549), ('Тинькофф Банк', 5387), ('Национальный Банк «Траст»', 4607), ('Ренессанс Кредит', 3849), ('Связной Банк', 3775), ('ОТП Банк', 3237), ('Восточный Экспресс Банк', 3138), ('Райффайзенбанк', 3057), ('Московский Кредитный Банк', 2944), ('Ситибанк', 2848), ('Авангард', 2733), ('Промсвязьбанк', 2586), ('ЮниКредит Банк', 2488), ('Банк Москвы', 2456), ('Ханты-Мансийский банк Открытие', 2158), ('МТС Банк', 1870)]\n"
     ]
    }
   ],
   "source": [
    "##\n",
    "## 1 Посчитайте количество отзывов в разных городах и на разные банки\n",
    "##\n",
    "\n",
    "cities = []\n",
    "banks = []\n",
    "for i in range(len(responses)):\n",
    "    city = str(responses[i]['city'])\n",
    "    city = city.lower().replace(\"г. \", \"\")\n",
    "    cities.append(city)\n",
    "    banks.append(responses[i]['bank_name'])\n",
    "    \n",
    "cities_cnt = Counter(cities)\n",
    "banks_cnt = Counter(banks)\n",
    "\n",
    "print ( cities_cnt.most_common(20),\"\\n\" )\n",
    "print ( banks_cnt.most_common(20) )"
   ]
  },
  {
   "cell_type": "code",
   "execution_count": 10,
   "metadata": {},
   "outputs": [],
   "source": [
    "from nltk.tokenize import toktok"
   ]
  },
  {
   "cell_type": "code",
   "execution_count": 11,
   "metadata": {},
   "outputs": [
    {
     "name": "stderr",
     "output_type": "stream",
     "text": [
      "100%|██████████| 153499/153499 [00:49<00:00, 3105.00it/s]\n"
     ]
    },
    {
     "data": {
      "image/png": "[encoded data removed]",
      "text/plain": [
       "<Figure size 432x288 with 1 Axes>"
      ]
     },
     "metadata": {
      "needs_background": "light"
     },
     "output_type": "display_data"
    },
    {
     "data": {
      "image/png": "[encoded data removed]",
      "text/plain": [
       "<Figure size 432x288 with 1 Axes>"
      ]
     },
     "metadata": {
      "needs_background": "light"
     },
     "output_type": "display_data"
    }
   ],
   "source": [
    "##\n",
    "## 2 Постройте гистограмы длин слов в символах и в словах\n",
    "##\n",
    "from nltk.tokenize import toktok\n",
    "lens = []\n",
    "words = []\n",
    "toktok = toktok.ToktokTokenizer()\n",
    "#lenresp = 10000\n",
    "lenresp = len (responses)\n",
    "for i in tqdm ( range( lenresp ) ) :\n",
    "    resp = responses[i]['text']\n",
    "    if len(resp) < 5000:\n",
    "        lens.append( len(resp) )\n",
    "        words.append( len( toktok.tokenize(resp) ) )\n",
    "    \n",
    "n, bins, patches = plt.hist(lens, histtype = 'bar')\n",
    "plt.xlabel(\"lens\")\n",
    "plt.show()\n",
    "\n",
    "n, bins, patches = plt.hist(words, histtype = 'bar')\n",
    "plt.xlabel(\"words\")\n",
    "plt.show()\n",
    "\n",
    "# lens_cnt = Counter(lens)\n",
    "# plt.bar( lens_cnt.keys(), lens_cnt.values(),200)\n",
    "# plt.show\n",
    "\n",
    "# n, bins, patches = plt.hist(words, histtype = 'bar')\n",
    "# plt.xlabel(\"words\")\n",
    "# plt.show()\n"
   ]
  },
  {
   "cell_type": "code",
   "execution_count": 12,
   "metadata": {},
   "outputs": [],
   "source": [
    "from pymorphy2 import MorphAnalyzer\n",
    "from nltk.corpus import stopwords\n",
    "from collections import Counter\n",
    "import re"
   ]
  },
  {
   "cell_type": "code",
   "execution_count": 13,
   "metadata": {},
   "outputs": [
    {
     "name": "stderr",
     "output_type": "stream",
     "text": [
      "100%|██████████| 153499/153499 [58:35<00:00, 43.66it/s] \n"
     ]
    }
   ],
   "source": [
    "##\n",
    "## 3 Найдите 10 самых частых слов, слов без стоп слов, лемм, существительных\n",
    "##\n",
    "words = []\n",
    "words_nostop = []\n",
    "lemms = []\n",
    "nouns = []\n",
    "n_types = []\n",
    "n_tokens = []\n",
    "cnt = Counter()\n",
    "resp_good = []\n",
    "resp_bad = []\n",
    "resp_bi_good = []\n",
    "resp_bi_bad = []\n",
    "resp_all_text = []\n",
    "# lenresp = 50000\n",
    "#lenresp = len(responses)\n",
    "pm2 = MorphAnalyzer()\n",
    "mystopwords = stopwords.words('russian') + ['это','наш','тыс','млн','млрд','также','т','д','я','на','в','..'\\\n",
    "                                            ,'спб','хотя','usd','это','сам','себя','чтоть','весь','кто',\\\n",
    "                                           'который','самый','тот','такой','один','вообще','ваш','мой',\\\n",
    "                                           'очень','мы','ооо','зао','бюро','кб','мочь','мой','ваш','срок']\n",
    "for i in tqdm ( range( lenresp ) ) :\n",
    "    resp = responses[i]['text']\n",
    "    resp_current = []\n",
    "    for word in resp.split():\n",
    "        word = word.lower()\n",
    "        word = re.sub(r\"[\\d\\.\\,\\-\\%]\", \"\", word)  # no digits\n",
    "        if not word == \"\":\n",
    "            words.append( word )\n",
    "            cnt.update([word])\n",
    "            n_types.append(len(cnt))\n",
    "            #n_tokens.append( sum(x for x in cnt.values()) )\n",
    "            if (len(n_tokens)) > 0:\n",
    "                n_tokens.append(n_tokens[-1] + 1)\n",
    "            else: \n",
    "                n_tokens.append(1)\n",
    "        if not word in mystopwords and not word == \"\":\n",
    "            words_nostop.append( word ) \n",
    "            parse = pm2.parse(word)\n",
    "            lemms.append( parse[0][2] )\n",
    "            if 'NOUN' in parse[0][1]:\n",
    "                nouns.append( parse[0][2] )\n",
    "            rating = responses[i]['rating_grade']\n",
    "            if 'UNKN' not in parse[0][1]:\n",
    "                resp_current.append( parse[0][2] )  \n",
    "                if rating == 1:\n",
    "                    resp_bad.append( parse[0][2] )\n",
    "                elif rating == 5:\n",
    "                    resp_good.append( parse[0][2] )  \n",
    "    if len(resp_current) > 0:\n",
    "        resp_all_text.append( resp_current )\n",
    "        if rating == 1:\n",
    "            resp_bi_bad.append( \" \".join(resp_current) )\n",
    "        elif rating == 5:\n",
    "            resp_bi_good.append( \" \".join(resp_current) )  \n"
   ]
  },
  {
   "cell_type": "code",
   "execution_count": 14,
   "metadata": {},
   "outputs": [
    {
     "name": "stdout",
     "output_type": "stream",
     "text": [
      "Words: [('в', 1309200), ('и', 1050581), ('не', 842255), ('на', 697402), ('что', 614249), ('я', 565495), ('с', 450330), ('по', 359109), ('мне', 317811), ('банка', 247337)] \n",
      "\n",
      "Words no stopwords: [('банка', 247337), ('банк', 181175), ('деньги', 123189), ('карту', 100778), ('карты', 95197), ('кредит', 74942), ('заявление', 67270), ('день', 63990), ('отделение', 63930), ('время', 62197)] \n",
      "\n",
      "Lemms: [('банка', 353821), ('карта', 315109), ('банк', 228659), ('деньга', 168916), ('мой', 158892), ('год', 149663), ('день', 149043), ('кредит', 144551), ('отделение', 138337), ('счёт', 133227)] \n",
      "\n",
      "Nouns: [('банка', 353821), ('карта', 315109), ('банк', 228659), ('деньга', 168916), ('год', 149663), ('день', 149043), ('кредит', 144551), ('отделение', 138337), ('счёт', 133227), ('сотрудник', 129336)] \n",
      "\n",
      "\"сотрудник\" встречается чаще, чем \"клиент\"\n",
      "Мошенничество:2798 доверие:1931\n"
     ]
    }
   ],
   "source": [
    "words_cnt = Counter(words)\n",
    "words_nostop_cnt = Counter(words_nostop)\n",
    "lemms_cnt = Counter(lemms)\n",
    "nouns_cnt = Counter(nouns)\n",
    "\n",
    "print ('Words:',words_cnt.most_common(10), \"\\n\")\n",
    "print ('Words no stopwords:', words_nostop_cnt.most_common(10), \"\\n\")\n",
    "print ('Lemms:', lemms_cnt.most_common(10), \"\\n\")\n",
    "print ('Nouns:', nouns_cnt.most_common(10), \"\\n\")\n",
    "\n",
    "if lemms_cnt['сотрудник'] > lemms_cnt['клиент']:\n",
    "    print ('\"сотрудник\" встречается чаще, чем \"клиент\"')\n",
    "else:\n",
    "    print ('\"клиент\" встречается чаще, чем \"сотрудник\"')\n",
    "    \n",
    "print ( f\"Мошенничество:{lemms_cnt['мошенничество']} доверие:{lemms_cnt['доверие']}\" )\n"
   ]
  },
  {
   "cell_type": "code",
   "execution_count": 15,
   "metadata": {},
   "outputs": [],
   "source": [
    "resp_good_cnt = Counter(resp_good)\n",
    "resp_bad_cnt = Counter(resp_bad)"
   ]
  },
  {
   "cell_type": "code",
   "execution_count": 16,
   "metadata": {},
   "outputs": [
    {
     "data": {
      "image/png": "[encoded data removed]",
      "text/plain": [
       "<Figure size 432x288 with 1 Axes>"
      ]
     },
     "metadata": {
      "needs_background": "light"
     },
     "output_type": "display_data"
    }
   ],
   "source": [
    "##\n",
    "## 5 Постройте кривые Ципфа и Хипса\n",
    "##\n",
    "freqs = list(lemms_cnt.values())\n",
    "freqs = sorted(freqs, reverse = True)\n",
    "\n",
    "fig, ax = plt.subplots()\n",
    "ax.plot(freqs, range(len(lemms_cnt)))\n",
    "plt.title(\"Кривая Ципфа\")\n",
    "plt.show()"
   ]
  },
  {
   "cell_type": "code",
   "execution_count": 17,
   "metadata": {},
   "outputs": [
    {
     "data": {
      "text/plain": [
       "35245140"
      ]
     },
     "execution_count": 17,
     "metadata": {},
     "output_type": "execute_result"
    }
   ],
   "source": [
    "len(n_tokens)"
   ]
  },
  {
   "cell_type": "code",
   "execution_count": 18,
   "metadata": {},
   "outputs": [
    {
     "data": {
      "image/png": "[encoded data removed]",
      "text/plain": [
       "<Figure size 432x288 with 1 Axes>"
      ]
     },
     "metadata": {
      "needs_background": "light"
     },
     "output_type": "display_data"
    }
   ],
   "source": [
    "fig, ax = plt.subplots()\n",
    "ax.plot(n_types, n_tokens)\n",
    "plt.title(\"Кривая Хипса\")\n",
    "plt.show()\n"
   ]
  },
  {
   "cell_type": "code",
   "execution_count": 19,
   "metadata": {},
   "outputs": [],
   "source": [
    "##\n",
    "## 7 В поле \"rating_grade\" записана оценка отзыва по шкале от 1 до 5. \n",
    "## Используйте меру  𝑡𝑓−𝑖𝑑𝑓 , для того, чтобы найти ключевые слова и биграмы \n",
    "## для положительных отзывов (с оценкой 5) и отрицательных отзывов (с оценкой 1)\n",
    "##\n",
    "from sklearn.feature_extraction.text import TfidfVectorizer\n",
    "import numpy as np"
   ]
  },
  {
   "cell_type": "code",
   "execution_count": 20,
   "metadata": {},
   "outputs": [],
   "source": [
    "def process_text(pm2, text):\n",
    "    lemms = []\n",
    "    for word in text.split():\n",
    "        word = word.lower()\n",
    "        word = re.sub(r\"[\\d\\.\\,\\-]\", \"\", word)  # no digits\n",
    "        if not word in mystopwords and not word == \"\":\n",
    "            parse = pm2.parse(word)\n",
    "            lemms.append( parse[0][2] )\n",
    "    return lemms"
   ]
  },
  {
   "cell_type": "code",
   "execution_count": 21,
   "metadata": {},
   "outputs": [],
   "source": [
    "tfidf_good = TfidfVectorizer(analyzer='word', ngram_range=(1,1), min_df = 0)\n",
    "tfidf_bad = TfidfVectorizer(analyzer='word', ngram_range=(1,1), min_df = 0)\n",
    "matrix_good =  tfidf_good.fit_transform(resp_good)\n",
    "matrix_bad  =  tfidf_bad.fit_transform(resp_bad)"
   ]
  },
  {
   "cell_type": "code",
   "execution_count": 22,
   "metadata": {},
   "outputs": [],
   "source": [
    "from tqdm import tqdm_notebook "
   ]
  },
  {
   "cell_type": "code",
   "execution_count": 23,
   "metadata": {},
   "outputs": [
    {
     "name": "stderr",
     "output_type": "stream",
     "text": [
      "100%|██████████| 1858530/1858530 [00:04<00:00, 438505.86it/s]\n"
     ]
    }
   ],
   "source": [
    "words_good = {}\n",
    "words_good_list = tfidf_good.get_feature_names()\n",
    "words_good_list_flags = [True] * len(words_good_list)\n",
    "\n",
    "for i in tqdm( range(len(matrix_good.indptr)-1)):\n",
    "    cols = matrix_good.indices[ matrix_good.indptr[i]:matrix_good.indptr[i+1] ]\n",
    "    values = matrix_good.data[ matrix_good.indptr[i]:matrix_good.indptr[i+1] ]\n",
    "    for j in range(len(cols)):\n",
    "        if words_good_list_flags[ cols[j] ]:\n",
    "            words_good[ words_good_list[ cols[j] ] ] = values[j]\n",
    "            words_good_list_flags[ cols[j] ] = False"
   ]
  },
  {
   "cell_type": "code",
   "execution_count": 24,
   "metadata": {},
   "outputs": [],
   "source": [
    "words_good_sorted = sorted( words_good.items(), key=lambda x: x[1], reverse = True )"
   ]
  },
  {
   "cell_type": "code",
   "execution_count": 25,
   "metadata": {},
   "outputs": [
    {
     "data": {
      "text/plain": [
       "[('досрочно', 1.0),\n",
       " ('закрывать', 1.0),\n",
       " ('вклад', 1.0),\n",
       " ('отпуск', 1.0),\n",
       " ('жена', 1.0),\n",
       " ('заказывать', 1.0),\n",
       " ('заранее', 1.0),\n",
       " ('забыть', 1.0),\n",
       " ('заказать', 1.0),\n",
       " ('сотрудник', 1.0),\n",
       " ('банка', 1.0),\n",
       " ('спб', 1.0),\n",
       " ('ленсовет', 1.0),\n",
       " ('наталья', 1.0),\n",
       " ('отказать', 1.0),\n",
       " ('сумма', 1.0),\n",
       " ('значительный', 1.0),\n",
       " ('работать', 1.0),\n",
       " ('быстро', 1.0),\n",
       " ('профессионально', 1.0),\n",
       " ('лишний', 1.0),\n",
       " ('жаль', 1.0),\n",
       " ('прикрыть', 1.0),\n",
       " ('приём', 1.0),\n",
       " ('офис', 1.0),\n",
       " ('озерко', 1.0),\n",
       " ('доступность', 1.0),\n",
       " ('заметить', 1.0),\n",
       " ('нести', 1.0),\n",
       " ('деньга', 1.0),\n",
       " ('брать', 1.0),\n",
       " ('кредит', 1.0),\n",
       " ('желать', 1.0),\n",
       " ('успех', 1.0),\n",
       " ('хотеть', 1.0),\n",
       " ('открыть', 1.0),\n",
       " ('год', 1.0),\n",
       " ('процент', 1.0),\n",
       " ('начисляться', 1.0),\n",
       " ('лесенка', 1.0),\n",
       " ('месяц', 1.0),\n",
       " ('общий', 1.0),\n",
       " ('объесть', 1.0),\n",
       " ('дополнительный', 1.0),\n",
       " ('взнос', 1.0),\n",
       " ('превышать', 1.0),\n",
       " ('первоначальный', 1.0),\n",
       " ('нужный', 1.0),\n",
       " ('возможность', 1.0),\n",
       " ('пополнение', 1.0)]"
      ]
     },
     "execution_count": 25,
     "metadata": {},
     "output_type": "execute_result"
    }
   ],
   "source": [
    "words_good_sorted[:50]"
   ]
  },
  {
   "cell_type": "code",
   "execution_count": 26,
   "metadata": {},
   "outputs": [
    {
     "name": "stderr",
     "output_type": "stream",
     "text": [
      "100%|██████████| 7417372/7417372 [00:16<00:00, 445207.54it/s]\n"
     ]
    }
   ],
   "source": [
    "words_bad = {}\n",
    "words_bad_list = tfidf_bad.get_feature_names()\n",
    "words_bad_list_flags = [True] * len(words_bad_list)\n",
    "\n",
    "for i in tqdm( range(len(matrix_bad.indptr)-1) ):\n",
    "    cols = matrix_bad.indices[ matrix_bad.indptr[i]:matrix_bad.indptr[i+1] ]\n",
    "    values = matrix_bad.data[ matrix_bad.indptr[i]:matrix_bad.indptr[i+1] ]\n",
    "    for j in range(len(cols)):\n",
    "        if words_bad_list_flags[ cols[j] ]:\n",
    "            words_bad[ words_bad_list[ cols[j] ] ] = values[j]\n",
    "            words_bad_list_flags[ cols[j] ] = False"
   ]
  },
  {
   "cell_type": "code",
   "execution_count": 27,
   "metadata": {},
   "outputs": [
    {
     "data": {
      "text/plain": [
       "[('открытый', 1.0),\n",
       " ('вклад', 1.0),\n",
       " ('счёт', 1.0),\n",
       " ('плюс', 1.0),\n",
       " ('это', 1.0),\n",
       " ('зарплатный', 1.0),\n",
       " ('карта', 1.0),\n",
       " ('рубль', 1.0),\n",
       " ('сам', 1.0),\n",
       " ('себя', 1.0),\n",
       " ('сегодня', 1.0),\n",
       " ('прийти', 1.0),\n",
       " ('указанный', 1.0),\n",
       " ('отделение', 1.0),\n",
       " ('цель', 1.0),\n",
       " ('пополнить', 1.0),\n",
       " ('долларовый', 1.0),\n",
       " ('дать', 1.0),\n",
       " ('операционист', 1.0),\n",
       " ('паспорт', 1.0),\n",
       " ('окошко', 1.0),\n",
       " ('написать', 1.0),\n",
       " ('приготовить', 1.0),\n",
       " ('подтверждение', 1.0),\n",
       " ('чтоть', 1.0),\n",
       " ('подобный', 1.0),\n",
       " ('прошлый', 1.0),\n",
       " ('сказать', 1.0),\n",
       " ('нужно', 1.0),\n",
       " ('положить', 1.0),\n",
       " ('деньга', 1.0),\n",
       " ('весь', 1.0),\n",
       " ('взять', 1.0),\n",
       " ('делалакрутилавертеть', 1.0),\n",
       " ('вставить', 1.0),\n",
       " ('терминал', 1.0),\n",
       " ('ввести', 1.0),\n",
       " ('пин', 1.0),\n",
       " ('получить', 1.0),\n",
       " ('ответ', 1.0),\n",
       " ('чек', 1.0),\n",
       " ('доллар', 1.0),\n",
       " ('внести', 1.0),\n",
       " ('вопрос', 1.0),\n",
       " ('банка', 1.0),\n",
       " ('понимать', 1.0),\n",
       " ('кто', 1.0),\n",
       " ('сознательно', 1.0),\n",
       " ('проводить', 1.0),\n",
       " ('такой', 1.0)]"
      ]
     },
     "execution_count": 27,
     "metadata": {},
     "output_type": "execute_result"
    }
   ],
   "source": [
    "words_bad_sorted = sorted( words_bad.items(), key=lambda x: x[1], reverse = True )\n",
    "\n",
    "words_bad_sorted[:50]"
   ]
  },
  {
   "cell_type": "code",
   "execution_count": 28,
   "metadata": {},
   "outputs": [],
   "source": [
    "# посмотрим на ключевые биграммы\n",
    "tfidf_bi_good = TfidfVectorizer(analyzer='word', ngram_range=(2,2), min_df = 0)\n",
    "tfidf_bi_bad = TfidfVectorizer(analyzer='word', ngram_range=(2,2), min_df = 0)\n",
    "matrix_bi_good =  tfidf_bi_good.fit_transform(resp_bi_good)\n",
    "matrix_bi_bad  =  tfidf_bi_bad.fit_transform(resp_bi_bad)"
   ]
  },
  {
   "cell_type": "code",
   "execution_count": 29,
   "metadata": {},
   "outputs": [
    {
     "name": "stderr",
     "output_type": "stream",
     "text": [
      "100%|██████████| 14713/14713 [00:01<00:00, 10721.80it/s]\n"
     ]
    }
   ],
   "source": [
    "words_bi_good = {}\n",
    "words_bi_good_list = tfidf_bi_good.get_feature_names()\n",
    "words_bi_good_list_flags = [True] * len(words_bi_good_list)\n",
    "\n",
    "for i in tqdm( range(len(matrix_bi_good.indptr)-1)):\n",
    "    cols = matrix_bi_good.indices[ matrix_bi_good.indptr[i]:matrix_bi_good.indptr[i+1] ]\n",
    "    values = matrix_bi_good.data[ matrix_bi_good.indptr[i]:matrix_bi_good.indptr[i+1] ]\n",
    "    for j in range(len(cols)):\n",
    "        if words_bi_good_list_flags[ cols[j] ]:\n",
    "            words_bi_good[ words_bi_good_list[ cols[j] ] ] = values[j]\n",
    "            words_bi_good_list_flags[ cols[j] ] = False\n",
    "            \n",
    "words_bi_good_sorted = sorted( words_bi_good.items(), key=lambda x: x[1], reverse = True )"
   ]
  },
  {
   "cell_type": "code",
   "execution_count": 30,
   "metadata": {},
   "outputs": [
    {
     "data": {
      "text/plain": [
       "[('маштакова анна', 0.6719516029156676),\n",
       " ('mastercard сделать', 0.5985088644142433),\n",
       " ('довольный команда', 0.5716501188317508),\n",
       " ('день корректно', 0.5416598387276468),\n",
       " ('корректно красиво', 0.5416598387276468),\n",
       " ('недоразумение проволочка', 0.5379632743916033),\n",
       " ('космонавт никакой', 0.5108987110064608),\n",
       " ('сидеть германия', 0.508662715405405),\n",
       " ('германия кредитка', 0.508662715405405),\n",
       " ('кредитка альфабанк', 0.508662715405405),\n",
       " ('райф банк', 0.507651171547205),\n",
       " ('филиал мег', 0.5031439083962906),\n",
       " ('мег профсоюзный', 0.5031439083962906),\n",
       " ('профсоюзный довольный', 0.5031439083962906),\n",
       " ('дельта нравиться', 0.5018543113392652),\n",
       " ('екатерина андрей', 0.4981345155746222),\n",
       " ('роман иван', 0.4976750123206486),\n",
       " ('банковский гарантия', 0.49545458580562785),\n",
       " ('тверская очередь', 0.4911942833949286),\n",
       " ('стоялый обслуживание', 0.4911942833949286),\n",
       " ('замена залог', 0.47980639291224264),\n",
       " ('ростовенадон вежливый', 0.4776031480153513),\n",
       " ('автомобиль никакой', 0.47310220704887296),\n",
       " ('замечание обещать', 0.47310220704887296),\n",
       " ('обещать рекомендовать', 0.47310220704887296),\n",
       " ('рекомендовать мдмбанк', 0.47045137943724524),\n",
       " ('мдмбанк общаться', 0.47045137943724524),\n",
       " ('жанна георгий', 0.46463577335712786),\n",
       " ('стародубский надежда', 0.45750857019752766),\n",
       " ('хороший уникальный', 0.4553215305556538),\n",
       " ('уникальный карта', 0.4553215305556538),\n",
       " ('карта фотка', 0.4553215305556538),\n",
       " ('фотка удостверенний', 0.4553215305556538),\n",
       " ('psb online', 0.45482284594873834),\n",
       " ('мастер работать', 0.4394802651787221),\n",
       " ('пока подвох', 0.4352558018682404),\n",
       " ('владивосток девчонка', 0.4325339385063057),\n",
       " ('проблема молодец', 0.4325339385063057),\n",
       " ('visa утеря', 0.42552689414279987),\n",
       " ('утеря перевыпустить', 0.42552689414279987),\n",
       " ('повышенный кэшбек', 0.4236855311707625),\n",
       " ('восстановить пин', 0.4231761642693541),\n",
       " ('новосибирский муниципальный', 0.41694408281270295),\n",
       " ('правда пользовалcть', 0.4162779339370924),\n",
       " ('пользовалcть остальной', 0.4162779339370924),\n",
       " ('орликовый переть', 0.4147706803947063),\n",
       " ('переть встречать', 0.4147706803947063),\n",
       " ('улыбка радость', 0.4147706803947063),\n",
       " ('вежливый сглазить', 0.41328288858325046),\n",
       " ('пак евгений', 0.41228152335934004)]"
      ]
     },
     "execution_count": 30,
     "metadata": {},
     "output_type": "execute_result"
    }
   ],
   "source": [
    "words_bi_good_sorted[:50]"
   ]
  },
  {
   "cell_type": "code",
   "execution_count": 31,
   "metadata": {},
   "outputs": [
    {
     "name": "stderr",
     "output_type": "stream",
     "text": [
      "100%|██████████| 47387/47387 [00:04<00:00, 11042.49it/s]\n"
     ]
    }
   ],
   "source": [
    "words_bi_bad = {}\n",
    "words_bi_bad_list = tfidf_bi_bad.get_feature_names()\n",
    "words_bi_bad_list_flags = [True] * len(words_bi_bad_list)\n",
    "\n",
    "for i in tqdm( range(len(matrix_bi_bad.indptr)-1) ):\n",
    "    cols = matrix_bi_bad.indices[ matrix_bi_bad.indptr[i]:matrix_bi_bad.indptr[i+1] ]\n",
    "    values = matrix_bi_bad.data[ matrix_bi_bad.indptr[i]:matrix_bi_bad.indptr[i+1] ]\n",
    "    for j in range(len(cols)):\n",
    "        if words_bi_bad_list_flags[ cols[j] ]:\n",
    "            words_bi_bad[ words_bi_bad_list[ cols[j] ] ] = values[j]\n",
    "            words_bi_bad_list_flags[ cols[j] ] = False\n",
    "            \n",
    "words_bi_bad_sorted = sorted( words_bi_bad.items(), key=lambda x: x[1], reverse = True )"
   ]
  },
  {
   "cell_type": "code",
   "execution_count": 32,
   "metadata": {},
   "outputs": [
    {
     "data": {
      "text/plain": [
       "[('ms ms', 0.8025402631688167),\n",
       " ('ив марьяна', 0.6524476042717388),\n",
       " ('банка рублёв', 0.6364950215877374),\n",
       " ('промурыжить выдача', 0.5886755848328097),\n",
       " ('анкин сергей', 0.5834934637521875),\n",
       " ('овердрафт rur', 0.5832329840035296),\n",
       " ('плат овердрафт', 0.5675043236366187),\n",
       " ('отделение велозаводский', 0.5588046823175169),\n",
       " ('волокита именно', 0.5502973625330906),\n",
       " ('оплата moscow', 0.5497449902979568),\n",
       " ('гудок гудок', 0.5413707004283994),\n",
       " ('сбербанк управление', 0.5296923709127136),\n",
       " ('кредит снежный', 0.5233742629873314),\n",
       " ('снежный прождать', 0.5233742629873314),\n",
       " ('архивный выписка', 0.5221268247389663),\n",
       " ('mosienko artem', 0.5210041470932594),\n",
       " ('отступное процент', 0.5181634413785379),\n",
       " ('красногорский филиал', 0.5165482644896662),\n",
       " ('oplata kartoj', 0.5137615268570089),\n",
       " ('sms кемерово', 0.5132389647755378),\n",
       " ('попасть снять', 0.5109509864199082),\n",
       " ('служба назначение', 0.5102693978875839),\n",
       " ('чвой си', 0.5100643482073288),\n",
       " ('ребята линия', 0.5085937835105773),\n",
       " ('hsbc uk', 0.5081204712044752),\n",
       " ('руслан альберт', 0.5079901642081563),\n",
       " ('кемерово штука', 0.5070553627902903),\n",
       " ('вероника евгений', 0.5041445418225192),\n",
       " ('первомайский первомайский', 0.5024833331418076),\n",
       " ('mastrercard gold', 0.5020056766543487),\n",
       " ('январь отстоять', 0.49793697453305646),\n",
       " ('подразделение россия', 0.49788885197685406),\n",
       " ('credit express', 0.4962479127080546),\n",
       " ('перенос баланс', 0.49363725603916375),\n",
       " ('внесение информация', 0.4896112996199346),\n",
       " ('apr зев', 0.4891532761553294),\n",
       " ('зев сергей', 0.4891532761553294),\n",
       " ('роман константин', 0.48727258408377866),\n",
       " ('ломоносовский проспект', 0.4857645359779622),\n",
       " ('тиньковы банка', 0.4837377680586957),\n",
       " ('счёт референс', 0.481256271045443),\n",
       " ('входящая sms', 0.48111118764798466),\n",
       " ('кредитовый операция', 0.4807004570757473),\n",
       " ('ктонибыть дозваниваться', 0.47669457353212724),\n",
       " ('роман василий', 0.47587355178739105),\n",
       " ('рубль исполнить', 0.4714420890848807),\n",
       " ('производственный отдел', 0.4713137531726732),\n",
       " ('доллар банкомат', 0.46575941266721754),\n",
       " ('тучный женщина', 0.46547975939461833),\n",
       " ('приходить визит', 0.46291745771552095)]"
      ]
     },
     "execution_count": 32,
     "metadata": {},
     "output_type": "execute_result"
    }
   ],
   "source": [
    "words_bi_bad_sorted[:50]"
   ]
  },
  {
   "cell_type": "code",
   "execution_count": 33,
   "metadata": {},
   "outputs": [],
   "source": [
    "# Попробуем сравнить результат с BigramAssocMeasures и BigramCollocationFinder\n",
    "#%%time \n",
    "import nltk\n",
    "from nltk.collocations import *\n",
    "N_best = 100\n",
    "\n",
    "bigram_measures_good = nltk.collocations.BigramAssocMeasures() # класс для мер ассоциации биграм\n",
    "finder_good = BigramCollocationFinder.from_words(resp_good) # класс для хранения и извлечения биграм\n",
    "finder_good.apply_freq_filter(1) # избавимся от биграм, которые встречаются реже трех раз\n",
    "raw_freq_ranking_good = [' '.join(i) for i in finder_good.nbest(bigram_measures_good.raw_freq, N_best)] # выбираем топ-10 биграм по частоте \n",
    "tscore_ranking_good = [' '.join(i) for i in finder_good.nbest(bigram_measures_good.student_t, N_best)] # выбираем топ-100 биграм по каждой мере \n",
    "pmi_ranking_good =  [' '.join(i) for i in finder_good.nbest(bigram_measures_good.pmi, N_best)]\n",
    "llr_ranking_good = [' '. join(i) for i in finder_good.nbest(bigram_measures_good.likelihood_ratio, N_best)]\n",
    "chi2_ranking_good =  [' '.join(i) for i in finder_good.nbest(bigram_measures_good.chi_sq, N_best)]"
   ]
  },
  {
   "cell_type": "code",
   "execution_count": 34,
   "metadata": {},
   "outputs": [
    {
     "data": {
      "text/html": [
       "<div>\n",
       "<style scoped>\n",
       "    .dataframe tbody tr th:only-of-type {\n",
       "        vertical-align: middle;\n",
       "    }\n",
       "\n",
       "    .dataframe tbody tr th {\n",
       "        vertical-align: top;\n",
       "    }\n",
       "\n",
       "    .dataframe thead th {\n",
       "        text-align: right;\n",
       "    }\n",
       "</style>\n",
       "<table border=\"1\" class=\"dataframe\">\n",
       "  <thead>\n",
       "    <tr style=\"text-align: right;\">\n",
       "      <th></th>\n",
       "      <th>raw_freq</th>\n",
       "      <th>pmi</th>\n",
       "      <th>t-score</th>\n",
       "      <th>chi2</th>\n",
       "      <th>llr</th>\n",
       "    </tr>\n",
       "  </thead>\n",
       "  <tbody>\n",
       "    <tr>\n",
       "      <th>0</th>\n",
       "      <td>кредитный карта</td>\n",
       "      <td>\"acropolis rentacar\"</td>\n",
       "      <td>кредитный карта</td>\n",
       "      <td>\"acropolis rentacar\"</td>\n",
       "      <td>кредитный карта</td>\n",
       "    </tr>\n",
       "    <tr>\n",
       "      <th>1</th>\n",
       "      <td>сотрудник банка</td>\n",
       "      <td>\"all airlines\"</td>\n",
       "      <td>сотрудник банка</td>\n",
       "      <td>\"all airlines\"</td>\n",
       "      <td>следующий день</td>\n",
       "    </tr>\n",
       "    <tr>\n",
       "      <th>2</th>\n",
       "      <td>другой банка</td>\n",
       "      <td>\"american express\")</td>\n",
       "      <td>другой банка</td>\n",
       "      <td>\"american express\")</td>\n",
       "      <td>процентный ставка</td>\n",
       "    </tr>\n",
       "    <tr>\n",
       "      <th>3</th>\n",
       "      <td>клиент банка</td>\n",
       "      <td>\"caisse d'epargne\"</td>\n",
       "      <td>следующий день</td>\n",
       "      <td>\"caisse d'epargne\"</td>\n",
       "      <td>являться клиент</td>\n",
       "    </tr>\n",
       "    <tr>\n",
       "      <th>4</th>\n",
       "      <td>следующий день</td>\n",
       "      <td>\"call your</td>\n",
       "      <td>являться клиент</td>\n",
       "      <td>\"call your</td>\n",
       "      <td>денежный средство</td>\n",
       "    </tr>\n",
       "    <tr>\n",
       "      <th>5</th>\n",
       "      <td>являться клиент</td>\n",
       "      <td>\"comfort idea</td>\n",
       "      <td>клиент банка</td>\n",
       "      <td>\"comfort idea</td>\n",
       "      <td>хотеть выразить</td>\n",
       "    </tr>\n",
       "    <tr>\n",
       "      <th>6</th>\n",
       "      <td>отделение банка</td>\n",
       "      <td>\"d secure\"</td>\n",
       "      <td>дебетовый карта</td>\n",
       "      <td>\"d secure\"</td>\n",
       "      <td>сотрудник банка</td>\n",
       "    </tr>\n",
       "    <tr>\n",
       "      <th>7</th>\n",
       "      <td>дебетовый карта</td>\n",
       "      <td>\"diners club\"</td>\n",
       "      <td>отделение банка</td>\n",
       "      <td>\"diners club\"</td>\n",
       "      <td>выразить благодарность</td>\n",
       "    </tr>\n",
       "    <tr>\n",
       "      <th>8</th>\n",
       "      <td>процентный ставка</td>\n",
       "      <td>\"global blue\"</td>\n",
       "      <td>процентный ставка</td>\n",
       "      <td>\"global blue\"</td>\n",
       "      <td>другой банка</td>\n",
       "    </tr>\n",
       "    <tr>\n",
       "      <th>9</th>\n",
       "      <td>открыть вклад</td>\n",
       "      <td>\"id _____________\"</td>\n",
       "      <td>открыть вклад</td>\n",
       "      <td>\"id _____________\"</td>\n",
       "      <td>дебетовый карта</td>\n",
       "    </tr>\n",
       "  </tbody>\n",
       "</table>\n",
       "</div>"
      ],
      "text/plain": [
       "            raw_freq                   pmi            t-score  \\\n",
       "0    кредитный карта  \"acropolis rentacar\"    кредитный карта   \n",
       "1    сотрудник банка        \"all airlines\"    сотрудник банка   \n",
       "2       другой банка   \"american express\")       другой банка   \n",
       "3       клиент банка    \"caisse d'epargne\"     следующий день   \n",
       "4     следующий день            \"call your    являться клиент   \n",
       "5    являться клиент         \"comfort idea       клиент банка   \n",
       "6    отделение банка            \"d secure\"    дебетовый карта   \n",
       "7    дебетовый карта         \"diners club\"    отделение банка   \n",
       "8  процентный ставка         \"global blue\"  процентный ставка   \n",
       "9      открыть вклад    \"id _____________\"      открыть вклад   \n",
       "\n",
       "                   chi2                     llr  \n",
       "0  \"acropolis rentacar\"         кредитный карта  \n",
       "1        \"all airlines\"          следующий день  \n",
       "2   \"american express\")       процентный ставка  \n",
       "3    \"caisse d'epargne\"         являться клиент  \n",
       "4            \"call your       денежный средство  \n",
       "5         \"comfort idea         хотеть выразить  \n",
       "6            \"d secure\"         сотрудник банка  \n",
       "7         \"diners club\"  выразить благодарность  \n",
       "8         \"global blue\"            другой банка  \n",
       "9    \"id _____________\"         дебетовый карта  "
      ]
     },
     "execution_count": 34,
     "metadata": {},
     "output_type": "execute_result"
    }
   ],
   "source": [
    "rankings_good = pd.DataFrame({ 'chi2': chi2_ranking_good, 'llr':llr_ranking_good, 't-score' : tscore_ranking_good, 'pmi': pmi_ranking_good, 'raw_freq':raw_freq_ranking_good})\n",
    "rankings_good = rankings_good[['raw_freq', 'pmi', 't-score', 'chi2', 'llr']]\n",
    "rankings_good.head(10)"
   ]
  },
  {
   "cell_type": "code",
   "execution_count": 35,
   "metadata": {},
   "outputs": [],
   "source": [
    "N_best = 100\n",
    "\n",
    "bigram_measures_bad = nltk.collocations.BigramAssocMeasures() # класс для мер ассоциации биграм\n",
    "finder_bad = BigramCollocationFinder.from_words(resp_bad) # класс для хранения и извлечения биграм\n",
    "finder_bad.apply_freq_filter(3) # избавимся от биграм, которые встречаются реже трех раз\n",
    "raw_freq_ranking_bad = [' '.join(i) for i in finder_bad.nbest(bigram_measures_bad.raw_freq, N_best)] # выбираем топ-10 биграм по частоте \n",
    "tscore_ranking_bad = [' '.join(i) for i in finder_bad.nbest(bigram_measures_bad.student_t, N_best)] # выбираем топ-100 биграм по каждой мере \n",
    "pmi_ranking_bad =  [' '.join(i) for i in finder_bad.nbest(bigram_measures_bad.pmi, N_best)]\n",
    "llr_ranking_bad = [' '. join(i) for i in finder_bad.nbest(bigram_measures_bad.likelihood_ratio, N_best)]\n",
    "chi2_ranking_bad =  [' '.join(i) for i in finder_bad.nbest(bigram_measures_bad.chi_sq, N_best)]"
   ]
  },
  {
   "cell_type": "code",
   "execution_count": 36,
   "metadata": {},
   "outputs": [
    {
     "data": {
      "text/html": [
       "<div>\n",
       "<style scoped>\n",
       "    .dataframe tbody tr th:only-of-type {\n",
       "        vertical-align: middle;\n",
       "    }\n",
       "\n",
       "    .dataframe tbody tr th {\n",
       "        vertical-align: top;\n",
       "    }\n",
       "\n",
       "    .dataframe thead th {\n",
       "        text-align: right;\n",
       "    }\n",
       "</style>\n",
       "<table border=\"1\" class=\"dataframe\">\n",
       "  <thead>\n",
       "    <tr style=\"text-align: right;\">\n",
       "      <th></th>\n",
       "      <th>raw_freq</th>\n",
       "      <th>pmi</th>\n",
       "      <th>t-score</th>\n",
       "      <th>chi2</th>\n",
       "      <th>llr</th>\n",
       "    </tr>\n",
       "  </thead>\n",
       "  <tbody>\n",
       "    <tr>\n",
       "      <th>0</th>\n",
       "      <td>сотрудник банка</td>\n",
       "      <td>\"golden times\"</td>\n",
       "      <td>сотрудник банка</td>\n",
       "      <td>\"golden times\"</td>\n",
       "      <td>денежный средство</td>\n",
       "    </tr>\n",
       "    <tr>\n",
       "      <th>1</th>\n",
       "      <td>отделение банка</td>\n",
       "      <td>caps lock</td>\n",
       "      <td>денежный средство</td>\n",
       "      <td>(invalid img)</td>\n",
       "      <td>горячий линия</td>\n",
       "    </tr>\n",
       "    <tr>\n",
       "      <th>2</th>\n",
       "      <td>кредитный карта</td>\n",
       "      <td>computer ksa</td>\n",
       "      <td>написать заявление</td>\n",
       "      <td>british airways</td>\n",
       "      <td>сей пора</td>\n",
       "    </tr>\n",
       "    <tr>\n",
       "      <th>3</th>\n",
       "      <td>денежный средство</td>\n",
       "      <td>déjà vu</td>\n",
       "      <td>кредитный карта</td>\n",
       "      <td>caps lock</td>\n",
       "      <td>написать заявление</td>\n",
       "    </tr>\n",
       "    <tr>\n",
       "      <th>4</th>\n",
       "      <td>написать заявление</td>\n",
       "      <td>israeli shekel</td>\n",
       "      <td>отделение банка</td>\n",
       "      <td>computer ksa</td>\n",
       "      <td>сотрудник банка</td>\n",
       "    </tr>\n",
       "    <tr>\n",
       "      <th>5</th>\n",
       "      <td>горячий линия</td>\n",
       "      <td>izmenenie ostatka:</td>\n",
       "      <td>горячий линия</td>\n",
       "      <td>déjà vu</td>\n",
       "      <td>служба поддержка</td>\n",
       "    </tr>\n",
       "    <tr>\n",
       "      <th>6</th>\n",
       "      <td>рабочий день</td>\n",
       "      <td>larisag nepomnyashchikh</td>\n",
       "      <td>рабочий день</td>\n",
       "      <td>golden times</td>\n",
       "      <td>кредитный карта</td>\n",
       "    </tr>\n",
       "    <tr>\n",
       "      <th>7</th>\n",
       "      <td>следующий день</td>\n",
       "      <td>valid thru</td>\n",
       "      <td>следующий день</td>\n",
       "      <td>hotels com</td>\n",
       "      <td>досрочный погашение</td>\n",
       "    </tr>\n",
       "    <tr>\n",
       "      <th>8</th>\n",
       "      <td>сей пора</td>\n",
       "      <td>анри барбюс</td>\n",
       "      <td>сей пора</td>\n",
       "      <td>israeli shekel</td>\n",
       "      <td>рабочий день</td>\n",
       "    </tr>\n",
       "    <tr>\n",
       "      <th>9</th>\n",
       "      <td>служба поддержка</td>\n",
       "      <td>блокадный ленинград</td>\n",
       "      <td>служба поддержка</td>\n",
       "      <td>izmenenie ostatka:</td>\n",
       "      <td>следующий день</td>\n",
       "    </tr>\n",
       "  </tbody>\n",
       "</table>\n",
       "</div>"
      ],
      "text/plain": [
       "             raw_freq                      pmi             t-score  \\\n",
       "0     сотрудник банка           \"golden times\"     сотрудник банка   \n",
       "1     отделение банка                caps lock   денежный средство   \n",
       "2     кредитный карта             computer ksa  написать заявление   \n",
       "3   денежный средство                  déjà vu     кредитный карта   \n",
       "4  написать заявление           israeli shekel     отделение банка   \n",
       "5       горячий линия       izmenenie ostatka:       горячий линия   \n",
       "6        рабочий день  larisag nepomnyashchikh        рабочий день   \n",
       "7      следующий день               valid thru      следующий день   \n",
       "8            сей пора              анри барбюс            сей пора   \n",
       "9    служба поддержка      блокадный ленинград    служба поддержка   \n",
       "\n",
       "                 chi2                  llr  \n",
       "0      \"golden times\"    денежный средство  \n",
       "1       (invalid img)        горячий линия  \n",
       "2     british airways             сей пора  \n",
       "3           caps lock   написать заявление  \n",
       "4        computer ksa      сотрудник банка  \n",
       "5             déjà vu     служба поддержка  \n",
       "6        golden times      кредитный карта  \n",
       "7          hotels com  досрочный погашение  \n",
       "8      israeli shekel         рабочий день  \n",
       "9  izmenenie ostatka:       следующий день  "
      ]
     },
     "execution_count": 36,
     "metadata": {},
     "output_type": "execute_result"
    }
   ],
   "source": [
    "rankings_bad = pd.DataFrame({ 'chi2': chi2_ranking_bad, 'llr':llr_ranking_bad, 't-score' : tscore_ranking_bad, 'pmi': pmi_ranking_bad, 'raw_freq':raw_freq_ranking_bad})\n",
    "rankings_bad = rankings_bad[['raw_freq', 'pmi', 't-score', 'chi2', 'llr']]\n",
    "rankings_bad.head(10)"
   ]
  },
  {
   "cell_type": "code",
   "execution_count": 37,
   "metadata": {},
   "outputs": [],
   "source": [
    "# так гораздо лучше, хотя косяков много - надо бы почистить лучше данные"
   ]
  },
  {
   "cell_type": "markdown",
   "metadata": {},
   "source": [
    "## Часть 2. Тематическое моделирование [20/100]\n",
    "\n",
    "1. Постройте несколько тематических моделей коллекции документов с разным числом тем. Приведите примеры понятных (интерпретируемых) тем.\n",
    "2. Найдите темы, в которых упомянуты конкретные банки (Сбербанк, ВТБ, другой банк). Можете ли вы их прокомментировать / объяснить?\n",
    "\n",
    "Эта часть задания может быть сделана с использованием gensim. "
   ]
  },
  {
   "cell_type": "code",
   "execution_count": 38,
   "metadata": {},
   "outputs": [],
   "source": [
    "import gensim\n",
    "from gensim import corpora\n",
    "from pprint import pprint\n",
    "# Plotting tools\n",
    "import pyLDAvis\n",
    "import pyLDAvis.gensim  # don't skip this\n",
    "import matplotlib.pyplot as plt\n",
    "%matplotlib inline\n",
    "\n",
    "# Enable logging for gensim - optional\n",
    "# import logging\n",
    "# logging.basicConfig(format='%(asctime)s : %(levelname)s : %(message)s', level=logging.ERROR)\n",
    "\n",
    "import warnings\n",
    "warnings.filterwarnings(\"ignore\",category=DeprecationWarning)"
   ]
  },
  {
   "cell_type": "code",
   "execution_count": 39,
   "metadata": {},
   "outputs": [],
   "source": [
    "dictionary = corpora.Dictionary(resp_all_text[:lenresp])\n",
    "corpus = [dictionary.doc2bow(text) for text in resp_all_text]"
   ]
  },
  {
   "cell_type": "code",
   "execution_count": 40,
   "metadata": {},
   "outputs": [],
   "source": [
    "#[[(dictionary[id], freq) for id, freq in cp] for cp in corpus[:1]]"
   ]
  },
  {
   "cell_type": "code",
   "execution_count": 41,
   "metadata": {},
   "outputs": [],
   "source": [
    "lda_model = gensim.models.ldamodel.LdaModel(corpus=corpus,\n",
    "                                           id2word=dictionary,\n",
    "                                           num_topics=7, \n",
    "                                           random_state=100,\n",
    "                                           update_every=1,\n",
    "                                           chunksize=100,\n",
    "                                           passes=10,\n",
    "                                           alpha='auto',\n",
    "                                           per_word_topics=True)"
   ]
  },
  {
   "cell_type": "code",
   "execution_count": 42,
   "metadata": {},
   "outputs": [
    {
     "name": "stdout",
     "output_type": "stream",
     "text": [
      "[(5,\n",
      "  '0.031*\"банка\" + 0.023*\"мой\" + 0.020*\"банк\" + 0.017*\"сотрудник\" + '\n",
      "  '0.017*\"ваш\" + 0.015*\"клиент\" + 0.015*\"письмо\" + 0.013*\"дать\" + 0.012*\"год\" '\n",
      "  '+ 0.010*\"который\"'),\n",
      " (3,\n",
      "  '0.069*\"документ\" + 0.030*\"–\" + 0.025*\"анкета\" + 0.022*\"мы\" + 0.019*\"наш\" + '\n",
      "  '0.018*\"заполнить\" + 0.017*\"паспорт\" + 0.015*\"справка\" + 0.012*\"копия\" + '\n",
      "  '0.011*\"получение\"'),\n",
      " (4,\n",
      "  '0.043*\"банка\" + 0.026*\"банк\" + 0.020*\"вклад\" + 0.020*\"клиент\" + '\n",
      "  '0.016*\"обслуживание\" + 0.010*\"открыть\" + 0.009*\"хороший\" + 0.009*\"процент\" '\n",
      "  '+ 0.008*\"сайт\" + 0.008*\"быстро\"'),\n",
      " (1,\n",
      "  '0.028*\"деньга\" + 0.027*\"день\" + 0.019*\"банка\" + 0.018*\"отделение\" + '\n",
      "  '0.016*\"мой\" + 0.015*\"сказать\" + 0.013*\"позвонить\" + 0.012*\"заявление\" + '\n",
      "  '0.011*\"банк\" + 0.011*\"получить\"'),\n",
      " (2,\n",
      "  '0.014*\"работать\" + 0.011*\"человек\" + 0.011*\"один\" + 0.011*\"очередь\" + '\n",
      "  '0.010*\"минута\" + 0.010*\"такой\" + 0.010*\"просто\" + 0.009*\"время\" + '\n",
      "  '0.009*\"весь\" + 0.008*\"клиент\"')]\n"
     ]
    }
   ],
   "source": [
    "pprint(lda_model.print_topics(5))"
   ]
  },
  {
   "cell_type": "code",
   "execution_count": 43,
   "metadata": {},
   "outputs": [
    {
     "data": {
      "text/plain": [
       "-7.85026074537226"
      ]
     },
     "execution_count": 43,
     "metadata": {},
     "output_type": "execute_result"
    }
   ],
   "source": [
    "lda_model.log_perplexity(corpus)"
   ]
  },
  {
   "cell_type": "code",
   "execution_count": 44,
   "metadata": {},
   "outputs": [
    {
     "data": {
      "text/plain": [
       "[(0, 0.058299266),\n",
       " (1, 0.108884886),\n",
       " (2, 0.12977049),\n",
       " (3, 0.04226758),\n",
       " (4, 0.032765687),\n",
       " (5, 0.61409026),\n",
       " (6, 0.01392176)]"
      ]
     },
     "execution_count": 44,
     "metadata": {},
     "output_type": "execute_result"
    }
   ],
   "source": [
    "lda_model.get_document_topics(corpus[0])"
   ]
  },
  {
   "cell_type": "code",
   "execution_count": 45,
   "metadata": {},
   "outputs": [
    {
     "name": "stderr",
     "output_type": "stream",
     "text": [
      "C:\\ProgramData\\Anaconda3\\lib\\site-packages\\pyLDAvis\\_prepare.py:257: FutureWarning: Sorting because non-concatenation axis is not aligned. A future version\n",
      "of pandas will change to not sort by default.\n",
      "\n",
      "To accept the future behavior, pass 'sort=False'.\n",
      "\n",
      "To retain the current behavior and silence the warning, pass 'sort=True'.\n",
      "\n",
      "  return pd.concat([default_term_info] + list(topic_dfs))\n"
     ]
    }
   ],
   "source": [
    "pyLDAvis.enable_notebook()\n",
    "vis = pyLDAvis.gensim.prepare(lda_model, corpus, dictionary, mds='mmds')\n"
   ]
  },
  {
   "cell_type": "code",
   "execution_count": 46,
   "metadata": {},
   "outputs": [
    {
     "data": {
      "text/html": [
       "\n",
       "<link rel=\"stylesheet\" type=\"text/css\" href=\"https://cdn.rawgit.com/bmabey/pyLDAvis/files/ldavis.v1.0.0.css\">\n",
       "\n",
       "\n",
       "<div id=\"ldavis_el4964150849966724925298142\"></div>\n",
       "<script type=\"text/javascript\">\n",
       "\n",
       "var ldavis_el4964150849966724925298142_data = {\"mdsDat\": {\"x\": [-0.014302120668478014, -0.09880186073260659, -0.33263287806905795, -0.2782024373281122, 0.2514217499889303, 0.31860906546188245, 0.15390848134744206], \"y\": [-0.006092964481443667, -0.36056434165903395, -0.12637816686533304, 0.2537067034720856, -0.2501207843381285, 0.06535565043243745, 0.42409390343941605], \"topics\": [1, 2, 3, 4, 5, 6, 7], \"cluster\": [1, 1, 1, 1, 1, 1, 1], \"Freq\": [30.35738182067871, 22.280372619628906, 12.746880531311035, 11.892330169677734, 9.302924156188965, 8.934264183044434, 4.485841274261475]}, \"tinfo\": {\"Category\": [\"Default\", \"Default\", \"Default\", \"Default\", \"Default\", \"Default\", \"Default\", \"Default\", \"Default\", \"Default\", \"Default\", \"Default\", \"Default\", \"Default\", \"Default\", \"Default\", \"Default\", \"Default\", \"Default\", \"Default\", \"Default\", \"Default\", \"Default\", \"Default\", \"Default\", \"Default\", \"Default\", \"Default\", \"Default\", \"Default\", \"Topic1\", \"Topic1\", \"Topic1\", \"Topic1\", \"Topic1\", \"Topic1\", \"Topic1\", \"Topic1\", \"Topic1\", \"Topic1\", \"Topic1\", \"Topic1\", \"Topic1\", \"Topic1\", \"Topic1\", \"Topic1\", \"Topic1\", \"Topic1\", \"Topic1\", \"Topic1\", \"Topic1\", \"Topic1\", \"Topic1\", \"Topic1\", \"Topic1\", \"Topic1\", \"Topic1\", \"Topic1\", \"Topic1\", \"Topic1\", \"Topic1\", \"Topic1\", \"Topic1\", \"Topic1\", \"Topic1\", \"Topic1\", \"Topic1\", \"Topic1\", \"Topic1\", \"Topic1\", \"Topic1\", \"Topic1\", \"Topic1\", \"Topic1\", \"Topic1\", \"Topic1\", \"Topic1\", \"Topic1\", \"Topic1\", \"Topic1\", \"Topic1\", \"Topic1\", \"Topic1\", \"Topic1\", \"Topic1\", \"Topic1\", \"Topic1\", \"Topic1\", \"Topic1\", \"Topic1\", \"Topic1\", \"Topic1\", \"Topic1\", \"Topic1\", \"Topic1\", \"Topic1\", \"Topic1\", \"Topic1\", \"Topic1\", \"Topic1\", \"Topic1\", \"Topic1\", \"Topic2\", \"Topic2\", \"Topic2\", \"Topic2\", \"Topic2\", \"Topic2\", \"Topic2\", \"Topic2\", \"Topic2\", \"Topic2\", \"Topic2\", \"Topic2\", \"Topic2\", \"Topic2\", \"Topic2\", \"Topic2\", \"Topic2\", \"Topic2\", \"Topic2\", \"Topic2\", \"Topic2\", \"Topic2\", \"Topic2\", \"Topic2\", \"Topic2\", \"Topic2\", \"Topic2\", \"Topic2\", \"Topic2\", \"Topic2\", \"Topic2\", \"Topic2\", \"Topic2\", \"Topic2\", \"Topic2\", \"Topic2\", \"Topic2\", \"Topic2\", \"Topic2\", \"Topic2\", \"Topic2\", \"Topic2\", \"Topic2\", \"Topic2\", \"Topic2\", \"Topic2\", \"Topic2\", \"Topic2\", \"Topic2\", \"Topic2\", \"Topic2\", \"Topic2\", \"Topic2\", \"Topic2\", \"Topic2\", \"Topic2\", \"Topic2\", \"Topic2\", \"Topic2\", \"Topic2\", \"Topic2\", \"Topic2\", \"Topic2\", \"Topic2\", \"Topic2\", \"Topic2\", \"Topic3\", \"Topic3\", \"Topic3\", \"Topic3\", \"Topic3\", \"Topic3\", \"Topic3\", \"Topic3\", \"Topic3\", \"Topic3\", \"Topic3\", \"Topic3\", \"Topic3\", \"Topic3\", \"Topic3\", \"Topic3\", \"Topic3\", \"Topic3\", \"Topic3\", \"Topic3\", \"Topic3\", \"Topic3\", \"Topic3\", \"Topic3\", \"Topic3\", \"Topic3\", \"Topic3\", \"Topic3\", \"Topic3\", \"Topic3\", \"Topic3\", \"Topic3\", \"Topic3\", \"Topic3\", \"Topic3\", \"Topic3\", \"Topic3\", \"Topic3\", \"Topic3\", \"Topic3\", \"Topic3\", \"Topic3\", \"Topic3\", \"Topic3\", \"Topic3\", \"Topic3\", \"Topic3\", \"Topic3\", \"Topic3\", \"Topic3\", \"Topic3\", \"Topic3\", \"Topic3\", \"Topic3\", \"Topic3\", \"Topic3\", \"Topic3\", \"Topic3\", \"Topic3\", \"Topic3\", \"Topic3\", \"Topic3\", \"Topic3\", \"Topic3\", \"Topic4\", \"Topic4\", \"Topic4\", \"Topic4\", \"Topic4\", \"Topic4\", \"Topic4\", \"Topic4\", \"Topic4\", \"Topic4\", \"Topic4\", \"Topic4\", \"Topic4\", \"Topic4\", \"Topic4\", \"Topic4\", \"Topic4\", \"Topic4\", \"Topic4\", \"Topic4\", \"Topic4\", \"Topic4\", \"Topic4\", \"Topic4\", \"Topic4\", \"Topic4\", \"Topic4\", \"Topic4\", \"Topic4\", \"Topic4\", \"Topic4\", \"Topic4\", \"Topic4\", \"Topic4\", \"Topic4\", \"Topic4\", \"Topic4\", \"Topic4\", \"Topic4\", \"Topic4\", \"Topic4\", \"Topic4\", \"Topic4\", \"Topic4\", \"Topic4\", \"Topic4\", \"Topic4\", \"Topic4\", \"Topic4\", \"Topic4\", \"Topic4\", \"Topic4\", \"Topic5\", \"Topic5\", \"Topic5\", \"Topic5\", \"Topic5\", \"Topic5\", \"Topic5\", \"Topic5\", \"Topic5\", \"Topic5\", \"Topic5\", \"Topic5\", \"Topic5\", \"Topic5\", \"Topic5\", \"Topic5\", \"Topic5\", \"Topic5\", \"Topic5\", \"Topic5\", \"Topic5\", \"Topic5\", \"Topic5\", \"Topic5\", \"Topic5\", \"Topic5\", \"Topic5\", \"Topic5\", \"Topic5\", \"Topic5\", \"Topic5\", \"Topic5\", \"Topic5\", \"Topic5\", \"Topic5\", \"Topic5\", \"Topic5\", \"Topic5\", \"Topic5\", \"Topic5\", \"Topic5\", \"Topic5\", \"Topic5\", \"Topic5\", \"Topic5\", \"Topic5\", \"Topic5\", \"Topic5\", \"Topic5\", \"Topic5\", \"Topic5\", \"Topic5\", \"Topic5\", \"Topic5\", \"Topic5\", \"Topic5\", \"Topic5\", \"Topic5\", \"Topic5\", \"Topic5\", \"Topic5\", \"Topic5\", \"Topic5\", \"Topic5\", \"Topic5\", \"Topic5\", \"Topic5\", \"Topic5\", \"Topic5\", \"Topic5\", \"Topic5\", \"Topic6\", \"Topic6\", \"Topic6\", \"Topic6\", \"Topic6\", \"Topic6\", \"Topic6\", \"Topic6\", \"Topic6\", \"Topic6\", \"Topic6\", \"Topic6\", \"Topic6\", \"Topic6\", \"Topic6\", \"Topic6\", \"Topic6\", \"Topic6\", \"Topic6\", \"Topic6\", \"Topic6\", \"Topic6\", \"Topic6\", \"Topic6\", \"Topic6\", \"Topic6\", \"Topic6\", \"Topic6\", \"Topic6\", \"Topic6\", \"Topic6\", \"Topic6\", \"Topic6\", \"Topic6\", \"Topic6\", \"Topic6\", \"Topic6\", \"Topic6\", \"Topic6\", \"Topic6\", \"Topic6\", \"Topic6\", \"Topic6\", \"Topic6\", \"Topic6\", \"Topic6\", \"Topic6\", \"Topic6\", \"Topic6\", \"Topic6\", \"Topic6\", \"Topic6\", \"Topic6\", \"Topic6\", \"Topic7\", \"Topic7\", \"Topic7\", \"Topic7\", \"Topic7\", \"Topic7\", \"Topic7\", \"Topic7\", \"Topic7\", \"Topic7\", \"Topic7\", \"Topic7\", \"Topic7\", \"Topic7\", \"Topic7\", \"Topic7\", \"Topic7\", \"Topic7\", \"Topic7\", \"Topic7\", \"Topic7\", \"Topic7\", \"Topic7\", \"Topic7\", \"Topic7\", \"Topic7\", \"Topic7\", \"Topic7\", \"Topic7\", \"Topic7\", \"Topic7\", \"Topic7\", \"Topic7\", \"Topic7\", \"Topic7\", \"Topic7\", \"Topic7\", \"Topic7\", \"Topic7\", \"Topic7\", \"Topic7\", \"Topic7\", \"Topic7\", \"Topic7\", \"Topic7\", \"Topic7\", \"Topic7\", \"Topic7\", \"Topic7\", \"Topic7\", \"Topic7\", \"Topic7\", \"Topic7\"], \"Freq\": [287858.0, 179618.0, 328989.0, 158955.0, 64354.0, 174557.0, 193619.0, 149732.0, 95385.0, 91773.0, 234022.0, 78086.0, 119427.0, 58722.0, 82378.0, 52931.0, 149555.0, 66325.0, 82175.0, 64167.0, 128238.0, 85361.0, 27805.0, 52508.0, 48345.0, 52801.0, 80625.0, 51608.0, 81255.0, 103889.0, 82174.6875, 63030.8671875, 52617.21484375, 25246.787109375, 21449.740234375, 19521.908203125, 18615.611328125, 17645.302734375, 16423.654296875, 12947.7763671875, 12097.0068359375, 11935.1162109375, 11889.12109375, 11447.44921875, 11248.458984375, 8979.24609375, 8835.892578125, 8305.037109375, 7803.03759765625, 7478.9091796875, 7426.9833984375, 7313.22998046875, 6961.02783203125, 6458.380859375, 6170.42529296875, 5417.99169921875, 5317.32421875, 5286.42626953125, 5189.0576171875, 4241.2197265625, 15894.78515625, 16383.587890625, 168448.234375, 77714.96875, 29751.673828125, 11120.396484375, 175041.390625, 15106.7763671875, 25911.31640625, 27517.337890625, 11917.0576171875, 15317.16796875, 14712.87109375, 93891.609375, 24177.802734375, 27508.09765625, 115076.328125, 36286.05078125, 62023.9453125, 48498.68359375, 103666.03125, 68415.2421875, 60097.75390625, 31128.154296875, 28268.431640625, 26336.298828125, 50749.12890625, 26267.091796875, 23401.65625, 51078.8203125, 50037.4921875, 121452.203125, 41256.69921875, 65897.9296875, 39385.65234375, 71292.15625, 44771.92578125, 31846.890625, 38541.24609375, 33218.88671875, 30638.06640625, 29426.15625, 66324.578125, 51606.765625, 46367.50390625, 29002.263671875, 26419.732421875, 15218.1318359375, 12306.6689453125, 10919.7080078125, 10534.8291015625, 10041.3994140625, 9047.224609375, 8633.4267578125, 8527.3720703125, 8246.8212890625, 7705.04931640625, 7619.041015625, 6931.396484375, 6483.20849609375, 6467.67138671875, 6464.5859375, 6288.49755859375, 6097.76416015625, 5681.84033203125, 5506.10498046875, 5331.53173828125, 5316.7353515625, 5295.7041015625, 5269.1259765625, 5073.4970703125, 4852.54931640625, 7905.0849609375, 53036.01953125, 8424.27734375, 8112.4189453125, 38639.7578125, 8124.70361328125, 21641.611328125, 33599.69921875, 45108.00390625, 10247.3212890625, 8831.1142578125, 16604.267578125, 9737.31640625, 41408.86328125, 29202.287109375, 52961.62109375, 12911.3974609375, 23032.873046875, 45563.4921875, 22675.94140625, 30837.75390625, 19717.935546875, 33278.48828125, 15616.408203125, 41764.3203125, 17391.107421875, 23669.642578125, 20453.033203125, 37748.953125, 25997.884765625, 38769.6875, 24006.888671875, 30883.53515625, 34478.3046875, 25812.599609375, 21950.755859375, 52930.53515625, 25556.189453125, 14865.1708984375, 12498.033203125, 11746.2548828125, 10458.4775390625, 9598.0078125, 9448.740234375, 8975.5888671875, 8184.439453125, 7761.55908203125, 7715.74658203125, 7441.4208984375, 5900.72509765625, 5243.517578125, 5139.33251953125, 4925.11865234375, 4720.3603515625, 4699.5361328125, 4246.28662109375, 4157.01806640625, 4112.73291015625, 4050.079345703125, 4022.092529296875, 3961.61669921875, 3704.4169921875, 3485.51171875, 3450.95361328125, 3178.441650390625, 3091.2958984375, 12063.224609375, 8996.287109375, 7610.25439453125, 24463.28515625, 4682.2861328125, 20401.490234375, 41184.0859375, 17867.384765625, 12933.0439453125, 12744.3134765625, 7284.4375, 9845.0673828125, 11395.404296875, 8515.431640625, 7826.83349609375, 115235.1953125, 51995.9375, 18340.84765625, 21505.7421875, 69126.703125, 13067.802734375, 23773.046875, 13857.263671875, 12675.2158203125, 19159.20703125, 19068.142578125, 16188.1357421875, 14535.5478515625, 17271.421875, 11202.2392578125, 14298.1494140625, 15156.8994140625, 11459.9384765625, 12014.8935546875, 287856.875, 35519.03515625, 34885.48046875, 31967.361328125, 29458.99609375, 28686.396484375, 23033.28125, 21604.822265625, 17140.849609375, 16383.9384765625, 13974.474609375, 11335.6845703125, 9468.6318359375, 9213.869140625, 8480.2880859375, 8079.65478515625, 7714.86767578125, 6032.89892578125, 5757.201171875, 5635.50927734375, 5584.91943359375, 5334.03662109375, 5198.60595703125, 5157.8076171875, 5073.958984375, 4988.07373046875, 4895.8525390625, 4812.75341796875, 4253.0380859375, 3942.9345703125, 8562.251953125, 20180.166015625, 31401.427734375, 29848.650390625, 20886.05078125, 16118.73828125, 93056.328125, 18721.810546875, 14731.3984375, 28392.94140625, 10828.02734375, 36723.34375, 10091.8525390625, 15603.7236328125, 31084.822265625, 14329.8037109375, 13071.11328125, 21157.130859375, 20818.3515625, 18577.150390625, 13517.38671875, 11616.0498046875, 12077.8095703125, 9026.314453125, 6485.0849609375, 6224.18310546875, 5373.05908203125, 4409.49267578125, 4088.075439453125, 3331.991455078125, 3289.423828125, 3123.509765625, 3025.928466796875, 2975.979736328125, 2919.56201171875, 2851.310791015625, 2813.4677734375, 2777.200439453125, 2607.989990234375, 2559.840576171875, 2510.338623046875, 2396.36181640625, 2388.73779296875, 2207.864013671875, 2103.0732421875, 2111.930419921875, 2087.481689453125, 2061.53466796875, 2041.625732421875, 1999.1622314453125, 1987.2005615234375, 1889.90869140625, 8024.15673828125, 11104.2509765625, 3829.830078125, 7129.99072265625, 6076.91748046875, 15272.3837890625, 28304.7109375, 12214.033203125, 4366.2197265625, 33143.89453125, 5169.3447265625, 8872.2607421875, 4078.90869140625, 9112.146484375, 8814.982421875, 6636.75927734375, 19363.431640625, 7939.3115234375, 11618.4033203125, 43754.53515625, 13930.751953125, 33759.46484375, 18442.404296875, 18204.484375, 59724.17578125, 24333.806640625, 28618.669921875, 13470.736328125, 38005.75, 10121.6337890625, 11661.779296875, 17978.017578125, 22569.30859375, 20205.34765625, 18212.3046875, 11613.6357421875, 13933.5341796875, 10039.68359375, 12805.705078125, 9941.748046875, 10098.818359375, 179617.453125, 18848.599609375, 17580.4765625, 17686.40234375, 12999.5791015625, 10364.076171875, 9085.98828125, 8581.646484375, 8460.3056640625, 7617.52734375, 7131.57470703125, 7046.93505859375, 6925.921875, 6698.93896484375, 6512.38671875, 6070.52783203125, 5540.5458984375, 5103.0126953125, 4783.5732421875, 4694.77001953125, 4355.60791015625, 4338.2509765625, 4201.5498046875, 4196.36328125, 4153.69091796875, 4114.67529296875, 3682.51025390625, 3502.07763671875, 3355.294189453125, 3188.61376953125, 49678.15234375, 4716.3828125, 19389.4765625, 22915.96484375, 63306.01953125, 12618.2373046875, 23412.5625, 55195.37109375, 10896.7919921875, 40088.55859375, 24634.39453125, 41361.921875, 28733.8984375, 39400.4375, 12393.193359375, 37190.4140625, 39382.82421875, 32511.646484375, 11822.7099609375, 12574.7763671875, 9310.513671875, 9436.81640625, 9706.5693359375, 9410.8701171875, 64353.515625, 27804.115234375, 22901.47265625, 16268.5458984375, 9838.6728515625, 8296.064453125, 7599.19970703125, 6809.18408203125, 5348.04052734375, 4806.37744140625, 4410.658203125, 4295.728515625, 3843.03857421875, 3501.385009765625, 3454.92431640625, 3183.515380859375, 3055.247802734375, 2761.702392578125, 2762.3369140625, 2371.766357421875, 2289.64404296875, 2266.8515625, 2206.047119140625, 2023.9178466796875, 1860.7108154296875, 1791.9385986328125, 1796.9039306640625, 1754.17919921875, 1739.18310546875, 1676.1591796875, 20221.55859375, 11343.546875, 9258.6201171875, 13970.1123046875, 8430.61328125, 17326.521484375, 16557.66796875, 7224.67626953125, 3869.167724609375, 6209.2451171875, 4963.56640625, 10142.8408203125, 4590.56884765625, 6385.3330078125, 6890.35791015625, 5625.482421875, 5042.12158203125, 8973.0830078125, 7384.58740234375, 7573.30126953125, 5181.2421875, 4884.81640625, 5197.326171875], \"Term\": [\"\\u043a\\u0430\\u0440\\u0442\\u0430\", \"\\u043a\\u0440\\u0435\\u0434\\u0438\\u0442\", \"\\u0431\\u0430\\u043d\\u043a\\u0430\", \"\\u0441\\u0447\\u0451\\u0442\", \"\\u0434\\u043e\\u043a\\u0443\\u043c\\u0435\\u043d\\u0442\", \"\\u0434\\u0435\\u043d\\u044c\", \"\\u0434\\u0435\\u043d\\u044c\\u0433\\u0430\", \"\\u043c\\u043e\\u0439\", \"\\u043a\\u0440\\u0435\\u0434\\u0438\\u0442\\u043d\\u044b\\u0439\", \"\\u0441\\u0443\\u043c\\u043c\\u0430\", \"\\u0431\\u0430\\u043d\\u043a\", \"\\u0440\\u0443\\u0431\\u043b\\u044c\", \"\\u043a\\u043b\\u0438\\u0435\\u043d\\u0442\", \"\\u043f\\u043b\\u0430\\u0442\\u0451\\u0436\", \"\\u043c\\u0435\\u0441\\u044f\\u0446\", \"\\u0432\\u043a\\u043b\\u0430\\u0434\", \"\\u043e\\u0442\\u0434\\u0435\\u043b\\u0435\\u043d\\u0438\\u0435\", \"\\u0440\\u0430\\u0431\\u043e\\u0442\\u0430\\u0442\\u044c\", \"\\u043f\\u043e\\u0437\\u0432\\u043e\\u043d\\u0438\\u0442\\u044c\", \"\\u0434\\u043e\\u0433\\u043e\\u0432\\u043e\\u0440\", \"\\u0433\\u043e\\u0434\", \"\\u0434\\u0430\\u0442\\u044c\", \"\\u2013\", \"\\u043f\\u0440\\u043e\\u0446\\u0435\\u043d\\u0442\", \"\\u0432\\u0430\\u0448\", \"\\u043e\\u0431\\u0441\\u043b\\u0443\\u0436\\u0438\\u0432\\u0430\\u043d\\u0438\\u0435\", \"\\u0437\\u0430\\u044f\\u0432\\u043b\\u0435\\u043d\\u0438\\u0435\", \"\\u043e\\u0447\\u0435\\u0440\\u0435\\u0434\\u044c\", \"\\u0431\\u0430\\u043d\\u043a\\u043e\\u043c\\u0430\\u0442\", \"\\u0441\\u043e\\u0442\\u0440\\u0443\\u0434\\u043d\\u0438\\u043a\", \"\\u043f\\u043e\\u0437\\u0432\\u043e\\u043d\\u0438\\u0442\\u044c\", \"\\u043d\\u0435\\u0434\\u0435\\u043b\\u044f\", \"\\u043d\\u0430\\u043f\\u0438\\u0441\\u0430\\u0442\\u044c\", \"\\u0432\\u044b\\u0434\\u0430\\u0442\\u044c\", \"\\u043e\\u0431\\u0435\\u0449\\u0430\\u0442\\u044c\", \"\\u043f\\u0435\\u0440\\u0435\\u0437\\u0432\\u043e\\u043d\\u0438\\u0442\\u044c\", \"\\u0440\\u0430\\u0441\\u0441\\u043c\\u043e\\u0442\\u0440\\u0435\\u043d\\u0438\\u0435\", \"\\u043f\\u0440\\u043e\\u0448\\u043b\\u044b\\u0439\", \"\\u043a\\u0430\\u0441\\u0441\\u0438\\u0440\", \"\\u0441\\u0435\\u0439\", \"\\u043f\\u0440\\u0438\\u0435\\u0437\\u0436\\u0430\\u0442\\u044c\", \"\\u043f\\u043b\\u0430\\u0441\\u0442\\u0438\\u043a\\u043e\\u0432\\u044b\\u0439\", \"\\u0432\\u044b\\u044f\\u0441\\u043d\\u0438\\u0442\\u044c\", \"\\u0432\\u0435\\u0447\\u0435\\u0440\\u043e\\u043c\", \"\\u043f\\u043e\\u043d\\u0435\\u0434\\u0435\\u043b\\u044c\\u043d\\u0438\\u043a\", \"\\u043f\\u044f\\u0442\\u043d\\u0438\\u0446\\u0430\", \"\\u043a\\u0443\\u043f\\u044e\\u0440\\u0430\", \"\\u0440\\u043e\\u0441\\u0431\\u0430\\u043d\\u043a\", \"\\u0437\\u0430\\u043a\\u0440\\u044b\\u0442\\u044b\\u0439\", \"\\u043a\\u0432\\u0438\\u0442\\u0430\\u043d\\u0446\\u0438\\u044f\", \"\\u043e\\u0431\\u0435\\u0434\", \"\\u043b\\u0438\\u043d\\u0438\\u044f\", \"\\u0447\\u0435\\u043a\", \"\\u0436\\u0430\\u043b\\u044c\", \"\\u043f\\u0440\\u043e\\u0432\\u0435\\u0440\\u043a\\u0430\", \"\\u0431\\u043b\\u0430\\u043d\\u043a\", \"\\u0435\\u0437\\u0434\\u0438\\u0442\\u044c\", \"\\u0441\\u043f\\u0440\\u0430\\u0432\\u043e\\u0447\\u043d\\u044b\\u0439\", \"\\u043e\\u0442\\u043f\\u0443\\u0441\\u043a\", \"\\u043f\\u0430\\u0432\\u0435\\u043b\\u0435\\u0446\\u043a\\u0438\\u0439\", \"\\u0434\\u043e\\u0437\\u0432\\u043e\\u043d\\u0438\\u0442\\u044c\\u0441\\u044f\", \"\\u043e\\u0448\\u0438\\u0431\\u043a\\u0430\", \"\\u0434\\u0435\\u043d\\u044c\", \"\\u0437\\u0430\\u044f\\u0432\\u043b\\u0435\\u043d\\u0438\\u0435\", \"\\u0442\\u0435\\u0447\\u0435\\u043d\\u0438\\u0435\", \"\\u0443\\u0442\\u043e\\u0447\\u043d\\u0438\\u0442\\u044c\", \"\\u0434\\u0435\\u043d\\u044c\\u0433\\u0430\", \"\\u0437\\u0430\\u0431\\u0440\\u0430\\u0442\\u044c\", \"\\u043f\\u0440\\u0438\\u043d\\u044f\\u0442\\u044c\", \"\\u043e\\u0442\\u0432\\u0435\\u0442\\u0438\\u0442\\u044c\", \"\\u043f\\u043e\\u0435\\u0445\\u0430\\u0442\\u044c\", \"\\u043f\\u043e\\u0440\\u0430\", \"\\u0441\\u043d\\u043e\\u0432\\u0430\", \"\\u0441\\u043a\\u0430\\u0437\\u0430\\u0442\\u044c\", \"\\u043e\\u043f\\u0435\\u0440\\u0430\\u0442\\u043e\\u0440\", \"\\u0441\\u043e\\u043e\\u0431\\u0449\\u0438\\u0442\\u044c\", \"\\u043e\\u0442\\u0434\\u0435\\u043b\\u0435\\u043d\\u0438\\u0435\", \"\\u0437\\u0430\\u044f\\u0432\\u043a\\u0430\", \"\\u0437\\u0432\\u043e\\u043d\\u0438\\u0442\\u044c\", \"\\u043e\\u0442\\u0432\\u0435\\u0442\", \"\\u043c\\u043e\\u0439\", \"\\u043f\\u043e\\u043b\\u0443\\u0447\\u0438\\u0442\\u044c\", \"\\u0431\\u0430\\u043d\\u043a\\u043e\\u043c\\u0430\\u0442\", \"\\u0441\\u043b\\u0435\\u0434\\u0443\\u044e\\u0449\\u0438\\u0439\", \"\\u043c\\u043e\\u0441\\u043a\\u0432\\u0430\", \"\\u0443\\u0437\\u043d\\u0430\\u0442\\u044c\", \"\\u0442\\u0435\\u043b\\u0435\\u0444\\u043e\\u043d\", \"\\u0441\\u0435\\u0433\\u043e\\u0434\\u043d\\u044f\", \"\\u0441\\u0431\\u0435\\u0440\\u0431\\u0430\\u043d\\u043a\", \"\\u0434\\u0430\\u0442\\u044c\", \"\\u043c\\u043e\\u0447\\u044c\", \"\\u0431\\u0430\\u043d\\u043a\\u0430\", \"\\u043f\\u0440\\u043e\\u0431\\u043b\\u0435\\u043c\\u0430\", \"\\u0441\\u0447\\u0451\\u0442\", \"\\u0432\\u043e\\u043f\\u0440\\u043e\\u0441\", \"\\u0431\\u0430\\u043d\\u043a\", \"\\u0433\\u043e\\u0434\", \"\\u0440\\u0435\\u0448\\u0438\\u0442\\u044c\", \"\\u0441\\u043e\\u0442\\u0440\\u0443\\u0434\\u043d\\u0438\\u043a\", \"\\u043c\\u0435\\u0441\\u044f\\u0446\", \"\\u0432\\u0440\\u0435\\u043c\\u044f\", \"\\u043a\\u043e\\u0442\\u043e\\u0440\\u044b\\u0439\", \"\\u0440\\u0430\\u0431\\u043e\\u0442\\u0430\\u0442\\u044c\", \"\\u043e\\u0447\\u0435\\u0440\\u0435\\u0434\\u044c\", \"\\u043c\\u0438\\u043d\\u0443\\u0442\\u0430\", \"\\u043a\\u0430\\u0441\\u0441\\u0430\", \"\\u0434\\u0443\\u043c\\u0430\\u0442\\u044c\", \"\\u0447\\u0442\\u043e\\u0442\\u044c\", \"\\u043b\\u0430\\u0434\\u043d\\u044b\\u0439\", \"\\u0441\\u043f\\u0440\\u0430\\u0448\\u0438\\u0432\\u0430\\u0442\\u044c\", \"\\u0441\\u0438\\u0434\\u0435\\u0442\\u044c\", \"\\u0443\\u0434\\u043e\\u0431\\u043d\\u044b\\u0439\", \"\\u0441\\u0442\\u043e\\u044f\\u0442\\u044c\", \"\\u043d\\u0430\\u0432\\u0435\\u0440\\u043d\\u043e\\u0435\", \"\\u043f\\u0440\\u0438\\u044f\\u0442\\u043d\\u043e\", \"\\u043d\\u0430\\u0440\\u043e\\u0434\", \"\\u043f\\u043e\\u0442\\u0440\\u0430\\u0442\\u0438\\u0442\\u044c\", \"\\u043c\\u043e\\u043b\\u043e\\u0434\\u0430\\u044f\", \"\\u043e\\u0436\\u0438\\u0434\\u0430\\u043d\\u0438\\u0435\", \"\\u043a\\u043e\\u043c\\u043f\\u044c\\u044e\\u0442\\u0435\\u0440\", \"\\u043e\\u0431\\u0441\\u043b\\u0443\\u0436\\u0438\\u0432\\u0430\\u0442\\u044c\", \"\\u043a\\u043e\\u0440\\u043e\\u0447\\u0435\", \"\\u043a\\u0443\\u0447\\u0430\", \"\\u0431\\u0443\\u043c\\u0430\\u0436\\u043a\\u0430\", \"\\u0438\\u0441\\u043a\\u0430\\u0442\\u044c\", \"\\u0433\\u043e\\u0441\\u043f\\u043e\\u0434\\u0438\\u043d\", \"\\u0437\\u0430\\u043b\", \"\\u0443\\u0445\\u043e\\u0434\\u0438\\u0442\\u044c\", \"\\u0434\\u0435\\u0432\\u043e\\u0447\\u043a\\u0430\", \"\\u043c\\u0438\\u043b\\u044b\\u0439\", \"\\u0437\\u0430\\u0442\\u043e\", \"\\u0433\\u043b\\u0430\\u0437\", \"\\u0442\\u0438\\u043f\", \"\\u0447\\u0435\\u043b\\u043e\\u0432\\u0435\\u043a\", \"\\u0440\\u044f\\u0434\", \"\\u043c\\u043e\\u043b\", \"\\u0434\\u0435\\u0432\\u0443\\u0448\\u043a\\u0430\", \"\\u043f\\u043e\\u0434\\u043e\\u0439\\u0442\\u0438\", \"\\u0447\\u0430\\u0441\", \"\\u0433\\u043e\\u0432\\u043e\\u0440\\u0438\\u0442\\u044c\", \"\\u043f\\u0440\\u043e\\u0441\\u0442\\u043e\", \"\\u0441\\u0431\\u0435\\u0440\", \"\\u043a\\u0430\\u043a\\u0442\\u043e\", \"\\u043d\\u043e\\u0440\\u043c\\u0430\\u043b\\u044c\\u043d\\u044b\\u0439\", \"\\u0432\\u0440\\u043e\\u0434\\u0435\", \"\\u0432\\u0435\\u0441\\u044c\", \"\\u0437\\u043d\\u0430\\u0442\\u044c\", \"\\u043e\\u0434\\u0438\\u043d\", \"\\u043f\\u043e\\u043d\\u044f\\u0442\\u044c\", \"\\u0441\\u0442\\u0430\\u0442\\u044c\", \"\\u0442\\u0430\\u043a\\u043e\\u0439\", \"\\u043e\\u0431\\u0449\\u0438\\u0439\", \"\\u0445\\u043e\\u0442\\u0435\\u0442\\u044c\", \"\\u0434\\u0435\\u043b\\u0430\\u0442\\u044c\", \"\\u0440\\u0430\\u0431\\u043e\\u0442\\u0430\", \"\\u0434\\u0430\\u0432\\u0430\\u0442\\u044c\", \"\\u0432\\u0440\\u0435\\u043c\\u044f\", \"\\u0438\\u0434\\u0442\\u0438\", \"\\u0441\\u0430\\u043c\\u044b\\u0439\", \"\\u0434\\u0435\\u043b\\u043e\", \"\\u0441\\u0432\\u043e\\u0439\", \"\\u0434\\u0440\\u0443\\u0433\\u043e\\u0439\", \"\\u043a\\u043b\\u0438\\u0435\\u043d\\u0442\", \"\\u0442\\u043e\\u0442\", \"\\u043a\\u043e\\u0442\\u043e\\u0440\\u044b\\u0439\", \"\\u043e\\u0442\\u0434\\u0435\\u043b\\u0435\\u043d\\u0438\\u0435\", \"\\u043c\\u043e\\u0447\\u044c\", \"\\u0441\\u043e\\u0442\\u0440\\u0443\\u0434\\u043d\\u0438\\u043a\", \"\\u0432\\u043a\\u043b\\u0430\\u0434\", \"\\u043e\\u0442\\u043a\\u0440\\u044b\\u0442\\u044c\", \"\\u0434\\u0435\\u043f\\u043e\\u0437\\u0438\\u0442\", \"\\u0434\\u043e\\u0432\\u043e\\u043b\\u044c\\u043d\\u044b\\u0439\", \"\\u043e\\u0442\\u043a\\u0440\\u044b\\u0442\\u0438\\u0435\", \"\\u043e\\u0442\\u043a\\u0440\\u044b\\u0432\\u0430\\u0442\\u044c\", \"\\u0432\\u044b\\u0441\\u043e\\u043a\\u0438\\u0439\", \"\\u043f\\u0440\\u043e\\u0434\\u0443\\u043a\\u0442\", \"\\u043f\\u043e\\u043d\\u0440\\u0430\\u0432\\u0438\\u0442\\u044c\\u0441\\u044f\", \"\\u0446\\u0435\\u043b\\u043e\\u0435\", \"\\u0443\\u0440\\u043e\\u0432\\u0435\\u043d\\u044c\", \"\\u043d\\u0440\\u0430\\u0432\\u0438\\u0442\\u044c\\u0441\\u044f\", \"\\u043e\\u0446\\u0435\\u043d\\u043a\\u0430\", \"\\u043c\\u043d\\u043e\\u0433\\u0438\\u0439\", \"\\u0447\\u0451\\u0442\\u043a\\u043e\", \"\\u0430\\u043a\\u0446\\u0438\\u044f\", \"\\u043f\\u043b\\u0430\\u043d\", \"\\u043e\\u0442\\u043b\\u0438\\u0447\\u043d\\u044b\\u0439\", \"\\u0430\\u0432\\u0430\\u043d\\u0433\\u0430\\u0440\\u0434\", \"\\u0440\\u044b\\u043d\\u043e\\u043a\", \"\\u0432\\u0430\\u043b\\u044e\\u0442\\u043d\\u044b\\u0439\", \"\\u0440\\u0435\\u0439\\u0442\\u0438\\u043d\\u0433\", \"\\u0443\\u0432\\u0435\\u043b\\u0438\\u0447\\u0438\\u0442\\u044c\", \"\\u0432\\u0435\\u0441\\u044c\\u043c\\u0430\", \"\\u043f\\u0440\\u0438\\u043c\\u0435\\u0440\", \"\\u043f\\u0440\\u0438\\u043b\\u0438\\u0447\\u043d\\u044b\\u0439\", \"\\u0431\\u043e\\u043b\\u044c\\u0448\\u0438\\u043d\\u0441\\u0442\\u0432\\u043e\", \"\\u0440\\u0430\\u0434\\u043e\\u0432\\u0430\\u0442\\u044c\", \"\\u043f\\u043e\\u0434\\u0430\\u0440\\u043e\\u043a\", \"\\u043c\\u0435\\u043b\\u043a\\u0438\\u0439\", \"\\u0443\\u0434\\u043e\\u0431\\u043d\\u043e\", \"\\u043f\\u0440\\u0438\\u044f\\u0442\\u043d\\u044b\\u0439\", \"\\u043e\\u043f\\u044b\\u0442\", \"\\u0445\\u043e\\u0440\\u043e\\u0448\\u0438\\u0439\", \"\\u0432\\u044b\\u0431\\u043e\\u0440\", \"\\u0431\\u044b\\u0441\\u0442\\u0440\\u043e\", \"\\u043e\\u0431\\u0441\\u043b\\u0443\\u0436\\u0438\\u0432\\u0430\\u043d\\u0438\\u0435\", \"\\u043e\\u0442\\u0437\\u044b\\u0432\", \"\\u043f\\u043b\\u044e\\u0441\", \"\\u043e\\u043f\\u0435\\u0440\\u0430\\u0446\\u0438\\u043e\\u043d\\u0438\\u0441\\u0442\\u043a\\u0430\", \"\\u0432\\u043f\\u043e\\u043b\\u043d\\u0435\", \"\\u0434\\u043e\\u0441\\u0442\\u0430\\u0442\\u043e\\u0447\\u043d\\u043e\", \"\\u0432\\u043f\\u0435\\u0447\\u0430\\u0442\\u043b\\u0435\\u043d\\u0438\\u0435\", \"\\u043e\\u0431\\u0441\\u043b\\u0443\\u0436\\u0438\\u0432\\u0430\\u0442\\u044c\\u0441\\u044f\", \"\\u043a\\u0430\\u0447\\u0435\\u0441\\u0442\\u0432\\u043e\", \"\\u0431\\u0430\\u043d\\u043a\\u0430\", \"\\u043a\\u043b\\u0438\\u0435\\u043d\\u0442\", \"\\u0443\\u0441\\u043b\\u043e\\u0432\\u0438\\u0435\", \"\\u0441\\u0430\\u0439\\u0442\", \"\\u0431\\u0430\\u043d\\u043a\", \"\\u043f\\u043e\\u043b\\u043e\\u0436\\u0438\\u0442\\u0435\\u043b\\u044c\\u043d\\u044b\\u0439\", \"\\u043f\\u0440\\u043e\\u0446\\u0435\\u043d\\u0442\", \"\\u0432\\u0435\\u0436\\u043b\\u0438\\u0432\\u044b\\u0439\", \"\\u0441\\u0442\\u0430\\u0432\\u043a\\u0430\", \"\\u043e\\u0444\\u0438\\u0441\", \"\\u0432\\u043e\\u043f\\u0440\\u043e\\u0441\", \"\\u0440\\u0430\\u0431\\u043e\\u0442\\u0430\", \"\\u0434\\u0440\\u0443\\u0433\\u043e\\u0439\", \"\\u0433\\u043e\\u0434\", \"\\u0431\\u043e\\u043b\\u044c\\u0448\\u043e\\u0439\", \"\\u043f\\u0440\\u043e\\u0431\\u043b\\u0435\\u043c\\u0430\", \"\\u0441\\u0432\\u043e\\u0439\", \"\\u044f\\u0432\\u043b\\u044f\\u0442\\u044c\\u0441\\u044f\", \"\\u0432\\u0440\\u0435\\u043c\\u044f\", \"\\u043a\\u0430\\u0440\\u0442\\u0430\", \"\\u043a\\u043e\\u043c\\u0438\\u0441\\u0441\\u0438\\u044f\", \"\\u0441\\u0438\\u0442\\u0438\\u0431\\u0430\\u043d\\u043a\", \"\\u043f\\u0435\\u0440\\u0435\\u0432\\u043e\\u0434\", \"\\u043e\\u043f\\u0435\\u0440\\u0430\\u0446\\u0438\\u044f\", \"\\u043b\\u0438\\u043c\\u0438\\u0442\", \"\\u0441\\u0438\\u0442\\u0438\", \"\\u043f\\u0435\\u0440\\u0441\\u043e\\u043d\\u0430\\u043b\", \"\\u0434\\u0435\\u0431\\u0435\\u0442\\u043e\\u0432\\u044b\\u0439\", \"visa\", \"\\u0441\\u043d\\u044f\\u0442\\u0438\\u0435\", \"\\u0441\\u0438\\u0442\\u0438\\u0444\\u043e\\u043d\", \"\\u0430\\u043a\\u0442\\u0438\\u0432\\u0438\\u0440\\u043e\\u0432\\u0430\\u0442\\u044c\", \"\\u0437\\u0430\\u0431\\u043b\\u043e\\u043a\\u0438\\u0440\\u043e\\u0432\\u0430\\u0442\\u044c\", \"\\u043e\\u0432\\u0435\\u0440\\u0434\\u0440\\u0430\\u0444\\u0442\", \"\\u0432\\u044b\\u043f\\u0443\\u0441\\u043a\", \"\\u0432\\u044b\\u043f\\u0443\\u0441\\u0442\\u0438\\u0442\\u044c\", \"\\u0441\\u043f\\u0438\\u0441\\u0430\\u043d\\u0438\\u0435\", \"\\u043f\\u0435\\u0440\\u0435\\u0432\\u044b\\u043f\\u0443\\u0441\\u043a\", \"\\u0442\\u0440\\u0430\\u043d\\u0437\\u0430\\u043a\\u0446\\u0438\\u044f\", \"\\u0438\\u043d\\u0442\\u0435\\u0440\\u043d\\u0435\\u0442\\u0431\\u0430\\u043d\\u043a\", \"classic\", \"\\u0432\\u0438\\u0437\\u0430\", \"\\u043f\\u043b\\u0430\\u0442\\u0451\\u0436\\u043d\\u044b\\u0439\", \"\\u043f\\u0438\\u043d\\u043a\\u043e\\u0434\", \"\\u0431\\u0430\\u043b\\u0430\\u043d\\u0441\", \"\\u043a\\u0430\\u0440\\u0442\\u043e\\u0447\\u043d\\u044b\\u0439\", \"\\u043f\\u043e\\u0434\\u043a\\u043b\\u044e\\u0447\\u0438\\u0442\\u044c\", \"\\u043a\\u043e\\u0434\", \"\\u043a\\u043e\\u043d\\u0432\\u0435\\u0440\\u0442\\u0430\\u0446\\u0438\\u044f\", \"\\u0441\\u043f\\u0438\\u0441\\u0430\\u0442\\u044c\", \"\\u043a\\u0440\\u0435\\u0434\\u0438\\u0442\\u043a\\u0430\", \"\\u043f\\u043e\\u043b\\u044c\\u0437\\u043e\\u0432\\u0430\\u0442\\u044c\\u0441\\u044f\", \"\\u0443\\u0441\\u043b\\u0443\\u0433\\u0430\", \"\\u0432\\u044b\\u043f\\u0438\\u0441\\u043a\\u0430\", \"\\u0438\\u043d\\u0442\\u0435\\u0440\\u043d\\u0435\\u0442\", \"\\u0441\\u0447\\u0451\\u0442\", \"\\u0441\\u0438\\u0441\\u0442\\u0435\\u043c\\u0430\", \"\\u043d\\u0430\\u043b\\u0438\\u0447\\u043d\\u044b\\u0439\", \"\\u043a\\u0430\\u0440\\u0442\\u043e\\u0447\\u043a\\u0430\", \"\\u0441\\u043d\\u0438\\u043c\\u0430\\u0442\\u044c\", \"\\u0440\\u0443\\u0431\\u043b\\u044c\", \"\\u043e\\u0441\\u0442\\u0430\\u0442\\u043e\\u043a\", \"\\u0441\\u0440\\u0435\\u0434\\u0441\\u0442\\u0432\\u043e\", \"\\u043a\\u0440\\u0435\\u0434\\u0438\\u0442\\u043d\\u044b\\u0439\", \"\\u0441\\u043d\\u044f\\u0442\\u044c\", \"\\u043e\\u043f\\u043b\\u0430\\u0442\\u0430\", \"\\u0431\\u0430\\u043d\\u043a\\u043e\\u043c\\u0430\\u0442\", \"\\u0441\\u0443\\u043c\\u043c\\u0430\", \"\\u0434\\u0435\\u043d\\u044c\\u0433\\u0430\", \"\\u0431\\u0430\\u043d\\u043a\", \"\\u043e\\u0431\\u0441\\u043b\\u0443\\u0436\\u0438\\u0432\\u0430\\u043d\\u0438\\u0435\", \"\\u043f\\u043e\\u0440\\u0443\\u0447\\u0438\\u0442\\u0435\\u043b\\u044c\", \"\\u0440\\u0444\", \"\\u0437\\u0430\\u043a\\u043e\\u043d\", \"\\u043f\\u043e\\u0441\\u0442\\u0443\\u043f\\u0430\\u0442\\u044c\", \"\\u0434\\u043e\\u043c\\u0430\\u0448\\u043d\\u0438\\u0439\", \"\\u0445\\u0430\\u043c\\u0438\\u0442\\u044c\", \"\\u0447\\u0430\\u0441\\u0442\\u043d\\u043e\\u0435\", \"\\u043d\\u0430\\u0440\\u0443\\u0448\\u0435\\u043d\\u0438\\u0435\", \"\\u0430\\u0432\\u0442\\u043e\\u043e\\u0442\\u0432\\u0435\\u0442\\u0447\\u0438\\u043a\", \"\\u043e\\u0442\\u0432\\u0435\\u0442\\u0441\\u0442\\u0432\\u0435\\u043d\\u043d\\u043e\\u0441\\u0442\\u044c\", \"\\u043f\\u0435\\u0440\\u0441\\u043e\\u043d\\u0430\\u043b\\u044c\\u043d\\u044b\\u0439\", \"\\u043e\\u0430\\u043e\", \"\\u043f\\u0440\\u043e\\u0434\\u043e\\u043b\\u0436\\u0430\\u0442\\u044c\\u0441\\u044f\", \"\\u043f\\u0440\\u0435\\u043a\\u0440\\u0430\\u0442\\u0438\\u0442\\u044c\", \"\\u043f\\u043e\\u0442\\u0440\\u0435\\u0431\\u0438\\u0442\\u0435\\u043b\\u044c\", \"\\u043f\\u0440\\u0435\\u0434\\u0441\\u0442\\u0430\\u0432\\u043b\\u044f\\u0442\\u044c\\u0441\\u044f\", \"\\u044d\\u043a\\u0441\\u043f\\u0440\\u0435\\u0441\\u0441\", \"\\u043d\\u0430\\u0437\\u0432\\u0430\\u043d\\u0438\\u0432\\u0430\\u0442\\u044c\", \"\\u0443\\u0433\\u0440\\u043e\\u0437\\u0430\", \"\\u0442\\u0430\\u0439\\u043d\\u0430\", \"\\u0430\\u0433\\u0435\\u043d\\u0442\\u0441\\u0442\\u0432\\u043e\", \"\\u0447\\u0435\\u0441\\u0442\\u044c\", \"\\u0441\\u0443\\u0434\\u0435\\u0431\\u043d\\u044b\\u0439\", \"\\u0444\\u0438\\u043d\\u0430\\u043d\\u0441\", \"\\u0430\\u043a\\u0442\", \"\\u0441\\u0442\\u0430\\u0442\\u044c\\u044f\", \"\\u043c\\u043e\\u0440\\u0430\\u043b\\u044c\\u043d\\u044b\\u0439\", \"\\u0434\\u043e\\u043b\\u0436\\u043d\\u0438\\u043a\", \"\\u0437\\u0430\\u043a\\u043e\\u043d\\u043e\\u0434\\u0430\\u0442\\u0435\\u043b\\u044c\\u0441\\u0442\\u0432\\u043e\", \"\\u0433\\u0440\\u0430\\u0436\\u0434\\u0430\\u043d\\u0441\\u043a\\u0438\\u0439\", \"\\u043e\\u0441\\u043d\\u043e\\u0432\\u0430\\u043d\\u0438\\u0435\", \"\\u0441\\u0443\\u0434\", \"\\u0433\\u0440\\u0443\\u0431\\u044b\\u0439\", \"\\u043f\\u0438\\u0441\\u044c\\u043c\\u0435\\u043d\\u043d\\u044b\\u0439\", \"\\u0446\\u0431\", \"\\u043f\\u0440\\u0430\\u0432\\u043e\", \"\\u043f\\u0438\\u0441\\u044c\\u043c\\u043e\", \"\\u0442\\u0440\\u0435\\u0431\\u043e\\u0432\\u0430\\u043d\\u0438\\u0435\", \"\\u044e\\u0440\\u0438\\u0441\\u0442\", \"\\u0432\\u0430\\u0448\", \"\\u043e\\u0431\\u044f\\u0437\\u0430\\u0442\\u044c\", \"\\u0443\\u0432\\u0430\\u0436\\u0430\\u0435\\u043c\\u044b\\u0439\", \"\\u043d\\u0430\\u043f\\u0440\\u0430\\u0432\\u0438\\u0442\\u044c\", \"\\u0442\\u0435\\u043b\\u0435\\u0444\\u043e\\u043d\\u043d\\u044b\\u0439\", \"\\u0434\\u0435\\u043d\\u0435\\u0436\\u043d\\u044b\\u0439\", \"\\u043e\\u0444\\u0438\\u0446\\u0438\\u0430\\u043b\\u044c\\u043d\\u044b\\u0439\", \"\\u0438\\u043c\\u0435\\u0442\\u044c\", \"\\u0442\\u0440\\u0435\\u0431\\u043e\\u0432\\u0430\\u0442\\u044c\", \"\\u0434\\u0430\\u043d\\u043d\\u044b\\u0439\", \"\\u043c\\u043e\\u0439\", \"\\u044f\\u0432\\u043b\\u044f\\u0442\\u044c\\u0441\\u044f\", \"\\u0441\\u043e\\u0442\\u0440\\u0443\\u0434\\u043d\\u0438\\u043a\", \"\\u0437\\u0432\\u043e\\u043d\\u043e\\u043a\", \"\\u0438\\u043d\\u0444\\u043e\\u0440\\u043c\\u0430\\u0446\\u0438\\u044f\", \"\\u0431\\u0430\\u043d\\u043a\\u0430\", \"\\u0434\\u0430\\u0442\\u044c\", \"\\u043a\\u043b\\u0438\\u0435\\u043d\\u0442\", \"\\u044f\", \"\\u0431\\u0430\\u043d\\u043a\", \"\\u0430\\u0434\\u0440\\u0435\\u0441\", \"\\u043e\\u0442\\u0434\\u0435\\u043b\", \"\\u0442\\u0435\\u043b\\u0435\\u0444\\u043e\\u043d\", \"\\u0433\\u043e\\u0434\", \"\\u043a\\u043e\\u0442\\u043e\\u0440\\u044b\\u0439\", \"\\u0441\\u0432\\u043e\\u0439\", \"\\u043f\\u0440\\u043e\\u0441\\u0438\\u0442\\u044c\", \"\\u0434\\u043e\\u0433\\u043e\\u0432\\u043e\\u0440\", \"\\u043b\\u0438\\u0446\\u043e\", \"\\u043e\\u0442\\u0432\\u0435\\u0442\", \"\\u043f\\u0440\\u0435\\u0442\\u0435\\u043d\\u0437\\u0438\\u044f\", \"\\u0431\\u044b\\u0442\\u044c\", \"\\u043a\\u0440\\u0435\\u0434\\u0438\\u0442\", \"\\u043f\\u043e\\u0433\\u0430\\u0448\\u0435\\u043d\\u0438\\u0435\", \"\\u043f\\u043e\\u0433\\u0430\\u0441\\u0438\\u0442\\u044c\", \"\\u0437\\u0430\\u0440\\u043f\\u043b\\u0430\\u0442\\u0430\", \"\\u0448\\u0442\\u0440\\u0430\\u0444\", \"\\u043f\\u043e\\u0442\\u0440\\u0435\\u0431\\u0438\\u0442\\u0435\\u043b\\u044c\\u0441\\u043a\\u0438\\u0439\", \"\\u043f\\u0440\\u043e\\u0441\\u0440\\u043e\\u0447\\u043a\\u0430\", \"\\u0432\\u0437\\u043d\\u043e\\u0441\", \"\\u043e\\u0434\\u043e\\u0431\\u0440\\u0438\\u0442\\u044c\", \"\\u043a\\u0440\\u0435\\u0434\\u0438\\u0442\\u043e\\u0432\\u0430\\u043d\\u0438\\u0435\", \"\\u0434\\u043e\\u0441\\u0440\\u043e\\u0447\\u043d\\u044b\\u0439\", \"\\u0430\\u0432\\u0442\\u043e\\u043a\\u0440\\u0435\\u0434\\u0438\\u0442\", \"\\u0435\\u0436\\u0435\\u043c\\u0435\\u0441\\u044f\\u0447\\u043d\\u044b\\u0439\", \"\\u0438\\u043f\\u043e\\u0442\\u0435\\u0447\\u043d\\u044b\\u0439\", \"\\u0434\\u043e\\u0441\\u0440\\u043e\\u0447\\u043d\\u043e\", \"\\u0433\\u0440\\u0430\\u0444\\u0438\\u043a\", \"\\u0441\\u0442\\u0440\\u0430\\u0445\\u043e\\u0432\\u043a\\u0430\", \"\\u0430\\u0432\\u0442\\u043e\\u043c\\u043e\\u0431\\u0438\\u043b\\u044c\", \"\\u0442\\u0440\\u0443\\u0434\\u043e\\u0432\\u043e\\u0439\", \"\\u0438\\u043f\\u043e\\u0442\\u0435\\u043a\\u0430\", \"\\u043f\\u0435\\u0440\\u0435\\u043f\\u043b\\u0430\\u0442\\u0430\", \"\\u0441\\u0430\\u043b\\u043e\\u043d\", \"\\u043f\\u043e\\u0434\\u043f\\u0438\\u0441\\u0430\\u043d\\u0438\\u0435\", \"\\u0430\\u0432\\u0442\\u043e\\u0441\\u0430\\u043b\\u043e\\u043d\", \"\\u043f\\u043e\\u0433\\u0430\\u0448\\u0430\\u0442\\u044c\", \"\\u0433\\u0430\\u0441\\u0438\\u0442\\u044c\", \"\\u0441\\u0442\\u0440\\u0430\\u0445\\u043e\\u0432\\u043e\\u0439\", \"\\u0438\\u043d\\u0441\\u043f\\u0435\\u043a\\u0442\\u043e\\u0440\", \"\\u0440\\u0435\\u0433\\u0443\\u043b\\u044f\\u0440\\u043d\\u043e\", \"\\u0437\\u0430\\u043b\\u043e\\u0433\", \"\\u043f\\u043b\\u0430\\u0442\\u0451\\u0436\", \"\\u0432\\u044b\\u043f\\u043b\\u0430\\u0442\\u0438\\u0442\\u044c\", \"\\u0437\\u0430\\u0434\\u043e\\u043b\\u0436\\u0435\\u043d\\u043d\\u043e\\u0441\\u0442\\u044c\", \"\\u043f\\u043b\\u0430\\u0442\\u0438\\u0442\\u044c\", \"\\u043a\\u0440\\u0435\\u0434\\u0438\\u0442\\u043d\\u044b\\u0439\", \"\\u0437\\u0430\\u043f\\u043b\\u0430\\u0442\\u0438\\u0442\\u044c\", \"\\u0431\\u0440\\u0430\\u0442\\u044c\", \"\\u0441\\u0443\\u043c\\u043c\\u0430\", \"\\u0434\\u043e\\u043b\\u0433\", \"\\u0434\\u043e\\u0433\\u043e\\u0432\\u043e\\u0440\", \"\\u0432\\u0437\\u044f\\u0442\\u044c\", \"\\u0440\\u0443\\u0431\\u043b\\u044c\", \"\\u043f\\u0440\\u043e\\u0446\\u0435\\u043d\\u0442\", \"\\u043c\\u0435\\u0441\\u044f\\u0446\", \"\\u043e\\u043f\\u043b\\u0430\\u0442\\u0438\\u0442\\u044c\", \"\\u0433\\u043e\\u0434\", \"\\u0431\\u0430\\u043d\\u043a\", \"\\u0431\\u0430\\u043d\\u043a\\u0430\", \"\\u0443\\u0441\\u043b\\u043e\\u0432\\u0438\\u0435\", \"\\u0434\\u043e\\u043b\\u0436\\u043d\\u044b\\u0439\", \"\\u0438\\u0441\\u0442\\u043e\\u0440\\u0438\\u044f\", \"\\u043e\\u043f\\u043b\\u0430\\u0442\\u0430\", \"\\u043e\\u0444\\u043e\\u0440\\u043c\\u0438\\u0442\\u044c\", \"\\u043c\\u0435\\u043d\\u0435\\u0434\\u0436\\u0435\\u0440\", \"\\u0434\\u043e\\u043a\\u0443\\u043c\\u0435\\u043d\\u0442\", \"\\u2013\", \"\\u0430\\u043d\\u043a\\u0435\\u0442\\u0430\", \"\\u043f\\u0430\\u0441\\u043f\\u043e\\u0440\\u0442\", \"\\u043a\\u0432\\u0430\\u0440\\u0442\\u0438\\u0440\\u0430\", \"\\u0436\\u0435\\u043d\\u0430\", \"\\u0441\\u0434\\u0435\\u043b\\u043a\\u0430\", \"\\u043d\\u0434\\u0444\\u043b\", \"\\u0437\\u0430\\u043f\\u043e\\u043b\\u043d\\u0435\\u043d\\u0438\\u0435\", \"\\u0444\\u0438\\u0440\\u043c\\u0430\", \"\\u0440\\u0435\\u0433\\u0438\\u0441\\u0442\\u0440\\u0430\\u0446\\u0438\\u044f\", \"\\u043f\\u0438\\u0442\\u0435\\u0440\", \"\\u043f\\u0440\\u043e\\u043f\\u0438\\u0441\\u043a\\u0430\", \"\\u0441\\u043e\\u0431\\u0440\\u0430\\u0442\\u044c\", \"\\u0434\\u043e\\u0432\\u0435\\u0440\\u0435\\u043d\\u043d\\u043e\\u0441\\u0442\\u044c\", \"\\u0434\\u0438\\u0440\\u0435\\u043a\\u0442\\u043e\\u0440\", \"\\u043a\\u043d\\u0438\\u0436\\u043a\\u0430\", \"\\u043f\\u0435\\u0447\\u0430\\u0442\\u044c\", \"\\u043f\\u0440\\u043e\\u0434\\u0430\\u0432\\u0435\\u0446\", \"\\u0430\\u0431\\u0441\\u043e\\u043b\\u044e\\u0442\", \"\\u043a\\u043e\\u043c\\u0438\\u0442\\u0435\\u0442\", \"\\u0431\\u0443\\u0445\\u0433\\u0430\\u043b\\u0442\\u0435\\u0440\\u0438\\u044f\", \"\\u044f\\u0449\\u0438\\u043a\", \"\\u043a\\u043d\\u0438\\u0433\\u0430\", \"\\u0441\\u043e\\u043b\\u0438\\u0434\\u043d\\u044b\\u0439\", \"\\u043d\\u0430\\u043b\\u043e\\u0433\\u043e\\u0432\\u044b\\u0439\", \"\\u043e\\u0431\\u044a\\u044f\\u0432\\u0438\\u0442\\u044c\", \"\\u043f\\u0440\\u0435\\u0434\\u043f\\u0440\\u0438\\u044f\\u0442\\u0438\\u0435\", \"\\u043f\\u0440\\u0438\\u0442\\u043e\\u043c\", \"\\u0438\\u043d\\u043e\\u0441\\u0442\\u0440\\u0430\\u043d\\u043d\\u044b\\u0439\", \"\\u043c\\u044b\", \"\\u043a\\u043e\\u043f\\u0438\\u044f\", \"\\u043a\\u043e\\u043c\\u043f\\u0430\\u043d\\u0438\\u044f\", \"\\u0441\\u043f\\u0440\\u0430\\u0432\\u043a\\u0430\", \"\\u0434\\u043e\\u0445\\u043e\\u0434\", \"\\u043d\\u0430\\u0448\", \"\\u0437\\u0430\\u043f\\u043e\\u043b\\u043d\\u0438\\u0442\\u044c\", \"\\u043f\\u043e\\u0434\\u043f\\u0438\\u0441\\u0430\\u0442\\u044c\", \"\\u043f\\u0430\\u043a\\u0435\\u0442\", \"\\u0437\\u0430\\u043f\\u043e\\u043b\\u043d\\u044f\\u0442\\u044c\", \"\\u043f\\u0440\\u0438\\u043d\\u0435\\u0441\\u0442\\u0438\", \"\\u043f\\u043e\\u043b\\u0443\\u0447\\u0435\\u043d\\u0438\\u0435\", \"\\u0431\\u0435\\u0437\\u043e\\u043f\\u0430\\u0441\\u043d\\u043e\\u0441\\u0442\\u044c\", \"\\u043e\\u0442\\u043a\\u0430\\u0437\\u0430\\u0442\\u044c\", \"\\u043d\\u0435\\u043e\\u0431\\u0445\\u043e\\u0434\\u0438\\u043c\\u044b\\u0439\", \"\\u043f\\u0440\\u0435\\u0434\\u043e\\u0441\\u0442\\u0430\\u0432\\u0438\\u0442\\u044c\", \"\\u0444\\u043e\\u0440\\u043c\\u0430\", \"\\u043f\\u043e\\u043b\\u0443\\u0447\\u0438\\u0442\\u044c\", \"\\u0434\\u043e\\u0433\\u043e\\u0432\\u043e\\u0440\", \"\\u0434\\u0430\\u0442\\u044c\", \"\\u043e\\u0442\\u043a\\u0430\\u0437\", \"\\u0432\\u0442\\u0431\", \"\\u0440\\u0435\\u0448\\u0435\\u043d\\u0438\\u0435\"], \"Total\": [287858.0, 179618.0, 328989.0, 158955.0, 64354.0, 174557.0, 193619.0, 149732.0, 95385.0, 91773.0, 234022.0, 78086.0, 119427.0, 58722.0, 82378.0, 52931.0, 149555.0, 66325.0, 82175.0, 64167.0, 128238.0, 85361.0, 27805.0, 52508.0, 48345.0, 52801.0, 80625.0, 51608.0, 81255.0, 103889.0, 82175.9375, 63032.125, 52618.47265625, 25248.044921875, 21450.998046875, 19523.1640625, 18616.869140625, 17646.55859375, 16424.908203125, 12949.03125, 12098.2626953125, 11936.373046875, 11890.376953125, 11448.705078125, 11249.7138671875, 8980.501953125, 8837.1474609375, 8306.29296875, 7804.29296875, 7480.1650390625, 7428.2392578125, 7314.48583984375, 6962.28271484375, 6459.63916015625, 6171.68212890625, 5419.2470703125, 5318.58203125, 5287.68212890625, 5190.31298828125, 4242.4775390625, 15952.00390625, 16533.14453125, 174557.328125, 80625.453125, 30418.6328125, 11286.0517578125, 193619.578125, 15508.2734375, 27337.515625, 29158.267578125, 12185.404296875, 15911.7158203125, 15385.400390625, 116552.71875, 26418.3046875, 30470.158203125, 149555.71875, 41665.71875, 81392.8828125, 61305.28515625, 149732.96875, 93047.984375, 81255.9296875, 37222.22265625, 34059.98828125, 31221.9140625, 71802.265625, 31728.40625, 27313.39453125, 85361.453125, 83363.1875, 328989.46875, 63634.9453125, 158955.28125, 71059.75, 234022.671875, 128238.6796875, 53174.7578125, 103889.375, 82378.640625, 85952.0703125, 108774.4453125, 66325.8984375, 51608.09765625, 46368.83203125, 29003.591796875, 26421.064453125, 15219.4619140625, 12307.9990234375, 10921.0380859375, 10536.1591796875, 10042.73046875, 9048.5546875, 8634.7568359375, 8528.7021484375, 8248.1513671875, 7706.37939453125, 7620.37109375, 6932.72607421875, 6484.5390625, 6469.0009765625, 6465.91748046875, 6289.82861328125, 6099.09423828125, 5683.17041015625, 5507.43701171875, 5332.859375, 5318.0654296875, 5297.0341796875, 5270.4560546875, 5074.8291015625, 4853.8798828125, 7920.54248046875, 54670.1796875, 8476.236328125, 8166.986328125, 40163.9921875, 8194.0947265625, 22443.96875, 35598.77734375, 50134.46875, 10614.349609375, 9050.0087890625, 18225.787109375, 10199.9423828125, 53210.52734375, 40548.375, 86325.0625, 14714.359375, 31131.484375, 80488.34375, 32957.1875, 51302.76953125, 27956.51171875, 59421.91796875, 20171.19140625, 85952.0703125, 23728.73828125, 38363.67578125, 32345.255859375, 99565.109375, 51476.4765625, 119427.5546875, 50257.10546875, 108774.4453125, 149555.71875, 83363.1875, 103889.375, 52931.859375, 25557.515625, 14866.49609375, 12499.359375, 11747.580078125, 10459.802734375, 9599.333984375, 9450.0654296875, 8976.9140625, 8185.76513671875, 7762.88525390625, 7717.07275390625, 7442.74658203125, 5902.0517578125, 5244.84326171875, 5140.65869140625, 4926.4462890625, 4721.68603515625, 4700.8623046875, 4247.61328125, 4158.34423828125, 4114.05859375, 4051.407470703125, 4023.418701171875, 3962.94384765625, 3705.743408203125, 3486.838134765625, 3452.279052734375, 3179.7666015625, 3092.623046875, 12200.7294921875, 9300.802734375, 7837.5107421875, 26694.361328125, 4749.68359375, 23471.41015625, 52801.25, 20969.619140625, 14699.2685546875, 14807.853515625, 8005.57421875, 11538.279296875, 14049.1611328125, 9827.9130859375, 9030.5625, 328989.46875, 119427.5546875, 30164.6953125, 39176.3046875, 234022.671875, 19316.30078125, 52508.08203125, 21341.06640625, 19927.97265625, 55142.59375, 71059.75, 59421.91796875, 51476.4765625, 128238.6796875, 19985.673828125, 63634.9453125, 99565.109375, 27983.912109375, 85952.0703125, 287858.125, 35520.30859375, 34886.7578125, 31968.63671875, 29460.271484375, 28687.66796875, 23034.556640625, 21606.099609375, 17142.119140625, 16385.208984375, 13975.7470703125, 11336.95703125, 9469.904296875, 9215.1416015625, 8481.560546875, 8080.9267578125, 7716.138671875, 6034.17138671875, 5758.4716796875, 5636.78076171875, 5586.1904296875, 5335.30810546875, 5199.87744140625, 5159.080078125, 5075.23046875, 4989.3447265625, 4897.1240234375, 4814.0244140625, 4254.3095703125, 3944.206298828125, 9117.0439453125, 23293.8671875, 38972.6328125, 39054.83984375, 26051.205078125, 19319.6484375, 158955.28125, 24509.23046875, 19790.44140625, 50711.9453125, 13716.044921875, 78086.34375, 12699.916015625, 26182.685546875, 95385.5625, 24726.322265625, 22590.572265625, 81255.9296875, 91773.890625, 193619.578125, 234022.671875, 52801.25, 12078.93359375, 9027.435546875, 6486.205078125, 6225.30517578125, 5374.18115234375, 4410.615234375, 4089.198486328125, 3333.111328125, 3290.54541015625, 3124.630615234375, 3027.05078125, 2977.099365234375, 2920.68408203125, 2852.431640625, 2814.589111328125, 2778.322509765625, 2609.11328125, 2560.963623046875, 2511.4580078125, 2397.483642578125, 2389.8583984375, 2208.986572265625, 2104.192626953125, 2113.05615234375, 2088.603515625, 2062.655029296875, 2042.745361328125, 2000.282470703125, 1988.3204345703125, 1891.0296630859375, 8085.62060546875, 11288.9833984375, 3887.286865234375, 7471.71630859375, 6400.033203125, 17178.259765625, 34801.25390625, 14029.06640625, 4756.27734375, 48345.6640625, 5890.8427734375, 11137.1748046875, 4498.92578125, 12656.6953125, 12476.373046875, 8690.8642578125, 38248.02734375, 11818.53515625, 21247.65625, 149732.96875, 27983.912109375, 103889.375, 45431.13671875, 45636.85546875, 328989.46875, 85361.453125, 119427.5546875, 33374.82421875, 234022.671875, 20492.7734375, 27494.927734375, 71802.265625, 128238.6796875, 108774.4453125, 99565.109375, 32132.4453125, 64167.94140625, 20741.94140625, 61305.28515625, 31760.728515625, 51333.5625, 179618.75, 18849.890625, 17581.76953125, 17687.701171875, 13000.873046875, 10365.3701171875, 9087.28125, 8582.9404296875, 8461.599609375, 7618.822265625, 7132.86669921875, 7048.22802734375, 6927.21533203125, 6700.232421875, 6513.6787109375, 6071.8212890625, 5541.8388671875, 5104.30615234375, 4784.86962890625, 4696.06298828125, 4356.90087890625, 4339.54345703125, 4202.84423828125, 4197.65576171875, 4154.98486328125, 4115.9697265625, 3683.802978515625, 3503.371826171875, 3356.593505859375, 3189.9072265625, 58722.5234375, 4827.11376953125, 22517.708984375, 27226.591796875, 95385.5625, 15080.921875, 32439.890625, 91773.890625, 13084.255859375, 64167.94140625, 37726.98828125, 78086.34375, 52508.08203125, 82378.640625, 17641.0234375, 128238.6796875, 234022.671875, 328989.46875, 30164.6953125, 49472.83984375, 19339.6796875, 22590.572265625, 33956.64453125, 25822.9609375, 64354.828125, 27805.4296875, 22902.787109375, 16269.859375, 9839.986328125, 8297.3798828125, 7600.51220703125, 6810.498046875, 5349.35546875, 4807.69287109375, 4411.97216796875, 4297.0458984375, 3844.354248046875, 3502.69921875, 3456.2373046875, 3184.830078125, 3056.561767578125, 2763.015380859375, 2763.650634765625, 2373.079833984375, 2290.96044921875, 2268.16748046875, 2207.36474609375, 2025.231689453125, 1862.0279541015625, 1793.2520751953125, 1798.221923828125, 1755.4954833984375, 1740.4991455078125, 1677.476806640625, 20582.287109375, 11872.197265625, 11091.5634765625, 17873.556640625, 10199.861328125, 24178.40625, 23010.79296875, 9501.119140625, 4495.76953125, 8394.287109375, 6572.83251953125, 25499.5859375, 7388.20166015625, 15212.4111328125, 19930.853515625, 15992.517578125, 11463.3359375, 93047.984375, 64167.94140625, 85361.453125, 15961.9375, 13602.7392578125, 30303.212890625], \"loglift\": [30.0, 29.0, 28.0, 27.0, 26.0, 25.0, 24.0, 23.0, 22.0, 21.0, 20.0, 19.0, 18.0, 17.0, 16.0, 15.0, 14.0, 13.0, 12.0, 11.0, 10.0, 9.0, 8.0, 7.0, 6.0, 5.0, 4.0, 3.0, 2.0, 1.0, 1.1921000480651855, 1.1921000480651855, 1.1921000480651855, 1.1921000480651855, 1.1921000480651855, 1.1921000480651855, 1.1921000480651855, 1.1921000480651855, 1.1921000480651855, 1.1920000314712524, 1.1920000314712524, 1.1920000314712524, 1.1920000314712524, 1.1920000314712524, 1.1920000314712524, 1.1920000314712524, 1.1920000314712524, 1.1920000314712524, 1.1920000314712524, 1.1920000314712524, 1.1920000314712524, 1.1920000314712524, 1.1920000314712524, 1.1919000148773193, 1.1919000148773193, 1.1919000148773193, 1.1919000148773193, 1.1919000148773193, 1.1919000148773193, 1.1917999982833862, 1.1885000467300415, 1.1829999685287476, 1.156499981880188, 1.155400037765503, 1.1699999570846558, 1.177299976348877, 1.0913000106811523, 1.1658999919891357, 1.1385999917984009, 1.1341999769210815, 1.1698999404907227, 1.1540000438690186, 1.1474000215530396, 0.9758999943733215, 1.1035000085830688, 1.089900016784668, 0.9301000237464905, 1.0539000034332275, 0.9204000234603882, 0.9577999711036682, 0.8245000243186951, 0.8845999836921692, 0.890500009059906, 1.0132999420166016, 1.0058000087738037, 1.0219999551773071, 0.8450999855995178, 1.0032000541687012, 1.037600040435791, 0.678600013256073, 0.6816999912261963, 0.1956000030040741, 0.7588000297546387, 0.311599999666214, 0.6019999980926514, 0.0035000001080334187, 0.13979999721050262, 0.6794999837875366, 0.2004999965429306, 0.2838999927043915, 0.16060000658035278, -0.1152999997138977, 1.5013999938964844, 1.5013999938964844, 1.5013999938964844, 1.5013999938964844, 1.5013999938964844, 1.5013999938964844, 1.5013999938964844, 1.5012999773025513, 1.5012999773025513, 1.5012999773025513, 1.5012999773025513, 1.5012999773025513, 1.5012999773025513, 1.5012999773025513, 1.5012999773025513, 1.5012999773025513, 1.5012999773025513, 1.5012999773025513, 1.5012999773025513, 1.5012999773025513, 1.5012999773025513, 1.5011999607086182, 1.5011999607086182, 1.5011999607086182, 1.5011999607086182, 1.5011999607086182, 1.5011999607086182, 1.5011999607086182, 1.5011999607086182, 1.5011999607086182, 1.499500036239624, 1.4710999727249146, 1.495300054550171, 1.4947999715805054, 1.4628000259399414, 1.4930000305175781, 1.4651000499725342, 1.4436999559402466, 1.395799994468689, 1.4663000106811523, 1.4769999980926514, 1.4083000421524048, 1.4550000429153442, 1.2506999969482422, 1.173200011253357, 1.0128999948501587, 1.3708000183105469, 1.2001999616622925, 0.9325000047683716, 1.1275999546051025, 0.9925000071525574, 1.1523000001907349, 0.9217000007629395, 1.2454999685287476, 0.779699981212616, 1.1907000541687012, 1.0184999704360962, 1.0430999994277954, 0.5315999984741211, 0.8184000253677368, 0.3763999938964844, 0.7627000212669373, 0.24240000545978546, 0.0340999998152256, 0.32910001277923584, -0.05310000106692314, 2.0599000453948975, 2.059799909591675, 2.059799909591675, 2.059799909591675, 2.059799909591675, 2.059799909591675, 2.0597000122070312, 2.0597000122070312, 2.0597000122070312, 2.0597000122070312, 2.0597000122070312, 2.0597000122070312, 2.0597000122070312, 2.0597000122070312, 2.0596001148223877, 2.0596001148223877, 2.0596001148223877, 2.0596001148223877, 2.0596001148223877, 2.0596001148223877, 2.0596001148223877, 2.0596001148223877, 2.0596001148223877, 2.0596001148223877, 2.059499979019165, 2.059499979019165, 2.059499979019165, 2.059499979019165, 2.059499979019165, 2.059499979019165, 2.0485000610351562, 2.026599884033203, 2.0304999351501465, 1.972599983215332, 2.045599937438965, 1.919700026512146, 1.811400055885315, 1.8997999429702759, 1.9319000244140625, 1.9098000526428223, 1.965499997138977, 1.9012000560760498, 1.8504999876022339, 1.9164999723434448, 1.9168000221252441, 1.0108000040054321, 1.2282999753952026, 1.5622999668121338, 1.4601000547409058, 0.840399980545044, 1.669100046157837, 1.2675000429153442, 1.628100037574768, 1.6073999404907227, 1.0026999711990356, 0.7444000244140625, 0.7595000267028809, 0.7954000234603882, 0.054999999701976776, 1.4809999465942383, 0.5669000148773193, 0.17749999463558197, 1.167099952697754, 0.09220000356435776, 2.129300117492676, 2.129199981689453, 2.129199981689453, 2.129199981689453, 2.129199981689453, 2.129199981689453, 2.129199981689453, 2.129199981689453, 2.129199981689453, 2.129199981689453, 2.129199981689453, 2.129199981689453, 2.1291000843048096, 2.1291000843048096, 2.1291000843048096, 2.1291000843048096, 2.1291000843048096, 2.1291000843048096, 2.1291000843048096, 2.1291000843048096, 2.128999948501587, 2.128999948501587, 2.128999948501587, 2.128999948501587, 2.128999948501587, 2.128999948501587, 2.128999948501587, 2.128999948501587, 2.128999948501587, 2.128999948501587, 2.066499948501587, 1.98580002784729, 1.9133000373840332, 1.8603999614715576, 1.9083000421524048, 1.948099970817566, 1.5938999652862549, 1.8598999977111816, 1.8341000080108643, 1.549299955368042, 1.892799973487854, 1.374899983406067, 1.899399995803833, 1.6117000579833984, 1.0081000328063965, 1.5836999416351318, 1.5821000337600708, 0.7835999727249146, 0.645799994468689, -0.21469999849796295, -0.7221999764442444, 0.6151000261306763, 2.3747000694274902, 2.3747000694274902, 2.3747000694274902, 2.3747000694274902, 2.3745999336242676, 2.3745999336242676, 2.3745999336242676, 2.374500036239624, 2.374500036239624, 2.374500036239624, 2.374500036239624, 2.374500036239624, 2.374500036239624, 2.3743999004364014, 2.3743999004364014, 2.3743999004364014, 2.3743999004364014, 2.3743999004364014, 2.3743999004364014, 2.3743999004364014, 2.3743999004364014, 2.374300003051758, 2.374300003051758, 2.374300003051758, 2.374300003051758, 2.374300003051758, 2.374300003051758, 2.374300003051758, 2.374300003051758, 2.3742001056671143, 2.3671998977661133, 2.358299970626831, 2.359999895095825, 2.328000068664551, 2.322999954223633, 2.257200002670288, 2.1682000160217285, 2.236299991607666, 2.289299964904785, 1.9973000288009644, 2.2441999912261963, 2.1475000381469727, 2.2767999172210693, 2.046299934387207, 2.0274999141693115, 2.1052000522613525, 1.694100022315979, 1.9769999980926514, 1.7711999416351318, 1.1446000337600708, 1.677299976348877, 1.2508000135421753, 1.4732999801635742, 1.4558000564575195, 0.6686000227928162, 1.1197999715805054, 0.9462000131607056, 1.4675999879837036, 0.557200014591217, 1.6693999767303467, 1.517199993133545, 0.9901000261306763, 0.637499988079071, 0.6915000081062317, 0.6761000156402588, 1.357200026512146, 0.847599983215332, 1.6491999626159668, 0.808899998664856, 1.2134000062942505, 0.7488999962806702, 2.415299892425537, 2.4151999950408936, 2.4151999950408936, 2.4151999950408936, 2.4151999950408936, 2.4151999950408936, 2.41510009765625, 2.41510009765625, 2.41510009765625, 2.41510009765625, 2.41510009765625, 2.41510009765625, 2.41510009765625, 2.41510009765625, 2.41510009765625, 2.41510009765625, 2.4149999618530273, 2.4149999618530273, 2.4149999618530273, 2.4149999618530273, 2.4149999618530273, 2.4149999618530273, 2.4149999618530273, 2.4149999618530273, 2.4149999618530273, 2.4149999618530273, 2.414900064468384, 2.414900064468384, 2.414900064468384, 2.414900064468384, 2.247999906539917, 2.3921000957489014, 2.265700101852417, 2.2428998947143555, 2.0053000450134277, 2.236999988555908, 2.089200019836426, 1.9068000316619873, 2.232300043106079, 1.9449000358581543, 1.9889999628067017, 1.7798000574111938, 1.812399983406067, 1.6777000427246094, 2.0622000694274902, 1.17739999294281, 0.6331999897956848, 0.10080000013113022, 1.478600025177002, 1.0455000400543213, 1.6842999458312988, 1.5424000024795532, 1.1629999876022339, 1.405900001525879, 3.1041998863220215, 3.1041998863220215, 3.1041998863220215, 3.1041998863220215, 3.104099988937378, 3.104099988937378, 3.104099988937378, 3.104099988937378, 3.1040000915527344, 3.1040000915527344, 3.1038999557495117, 3.1038999557495117, 3.1038999557495117, 3.1038999557495117, 3.1038999557495117, 3.103800058364868, 3.103800058364868, 3.103800058364868, 3.103800058364868, 3.1036999225616455, 3.1036999225616455, 3.1036999225616455, 3.103600025177002, 3.103600025177002, 3.1034998893737793, 3.1034998893737793, 3.1034998893737793, 3.1034998893737793, 3.1034998893737793, 3.1034998893737793, 3.0866000652313232, 3.0587000846862793, 2.9235999584198, 2.857800006866455, 2.9137001037597656, 2.7709999084472656, 2.775099992752075, 2.8303000926971436, 2.9540998935699463, 2.8027000427246094, 2.8234000205993652, 2.1823999881744385, 2.6284000873565674, 2.2360999584198, 2.042099952697754, 2.0594000816345215, 2.282900094985962, 0.7653999924659729, 0.9420999884605408, 0.6819999814033508, 1.979099988937378, 2.0801000595092773, 1.3410999774932861], \"logprob\": [30.0, 29.0, 28.0, 27.0, 26.0, 25.0, 24.0, 23.0, 22.0, 21.0, 20.0, 19.0, 18.0, 17.0, 16.0, 15.0, 14.0, 13.0, 12.0, 11.0, 10.0, 9.0, 8.0, 7.0, 6.0, 5.0, 4.0, 3.0, 2.0, 1.0, -4.3414998054504395, -4.606800079345703, -4.787399768829346, -5.521699905395508, -5.684700012207031, -5.778900146484375, -5.826399803161621, -5.879899978637695, -5.951700210571289, -6.189499855041504, -6.257400035858154, -6.270899772644043, -6.274799823760986, -6.312600135803223, -6.3302001953125, -6.555500030517578, -6.571599960327148, -6.633500099182129, -6.695899963378906, -6.73829984664917, -6.745299816131592, -6.760700225830078, -6.810100078582764, -6.885000228881836, -6.930600166320801, -7.060699939727783, -7.079400062561035, -7.085299968719482, -7.103799819946289, -7.305500030517578, -5.984399795532227, -5.954100131988525, -3.623800039291382, -4.397299766540527, -5.357500076293945, -6.341599941253662, -3.585400104522705, -6.035200119018555, -5.495699882507324, -5.4355998039245605, -6.27239990234375, -6.021399974822998, -6.061699867248535, -4.2083001136779785, -5.565000057220459, -5.4359002113342285, -4.004799842834473, -5.158999919891357, -4.622900009155273, -4.868899822235107, -4.1092000007629395, -4.524799823760986, -4.654399871826172, -5.312300205230713, -5.408599853515625, -5.479400157928467, -4.823500156402588, -5.482100009918213, -5.597599983215332, -4.816999912261963, -4.837600231170654, -3.950900077819824, -5.030600070953369, -4.562300205230713, -5.077000141143799, -4.48360013961792, -4.948800086975098, -5.2895002365112305, -5.098700046539307, -5.247300148010254, -5.328199863433838, -5.368500232696533, -4.246500015258789, -4.497399806976318, -4.604499816894531, -5.073699951171875, -5.166900157928467, -5.718599796295166, -5.9309000968933105, -6.05049991607666, -6.086400032043457, -6.134300231933594, -6.23859977722168, -6.285399913787842, -6.297800064086914, -6.331200122833252, -6.399199962615967, -6.410399913787842, -6.505000114440918, -6.571800231933594, -6.57420015335083, -6.574699878692627, -6.60230016708374, -6.6331000328063965, -6.703800201416016, -6.735199928283691, -6.767399787902832, -6.770199775695801, -6.774199962615967, -6.779200077056885, -6.816999912261963, -6.861599922180176, -6.373600006103516, -4.470099925994873, -6.309899806976318, -6.347700119018555, -4.786799907684326, -6.346199989318848, -5.366399765014648, -4.926499843597412, -4.631999969482422, -6.113999843597412, -6.262800216674805, -5.631400108337402, -6.16510009765625, -4.717599868774414, -5.066800117492676, -4.471499919891357, -5.882999897003174, -5.304100036621094, -4.622000217437744, -5.319799900054932, -5.01230001449585, -5.459499835968018, -4.936100006103516, -5.692699909210205, -4.709000110626221, -5.585100173950195, -5.276899814605713, -5.422900199890137, -4.810100078582764, -5.183000087738037, -4.783400058746338, -5.262700080871582, -5.010799884796143, -4.900700092315674, -5.190199851989746, -5.35230016708374, -3.9137001037597656, -4.6417999267578125, -5.183599948883057, -5.357100009918213, -5.419099807739258, -5.535200119018555, -5.621099948883057, -5.6367998123168945, -5.6880998611450195, -5.780399799346924, -5.833499908447266, -5.839399814605713, -5.8755998611450195, -6.107600212097168, -6.225599765777588, -6.245699882507324, -6.288300037384033, -6.3308000564575195, -6.33519983291626, -6.436600208282471, -6.457799911499023, -6.468599796295166, -6.48390007019043, -6.490799903869629, -6.50600004196167, -6.5731000900268555, -6.633999824523926, -6.644000053405762, -6.726200103759766, -6.754000186920166, -5.392499923706055, -5.685800075531006, -5.853099822998047, -4.685500144958496, -6.338900089263916, -4.867000102996826, -4.164599895477295, -4.99970006942749, -5.32289981842041, -5.337600231170654, -5.896900177001953, -5.595699787139893, -5.449399948120117, -5.740799903869629, -5.825099945068359, -3.135699987411499, -3.93149995803833, -4.973499774932861, -4.814300060272217, -3.646699905395508, -5.3125, -4.714099884033203, -5.253799915313721, -5.3429999351501465, -4.929900169372559, -4.934599876403809, -5.098400115966797, -5.205999851226807, -5.033599853515625, -5.4664998054504395, -5.222499847412109, -5.1641998291015625, -5.44379997253418, -5.396500110626221, -2.1507999897003174, -4.243199825286865, -4.261199951171875, -4.348499774932861, -4.430200099945068, -4.4567999839782715, -4.676300048828125, -4.740300178527832, -4.971799850463867, -5.016900062561035, -5.176000118255615, -5.385300159454346, -5.565299987792969, -5.59250020980835, -5.67549991607666, -5.723899841308594, -5.770100116729736, -6.015999794006348, -6.06279993057251, -6.084199905395508, -6.093200206756592, -6.139100074768066, -6.164899826049805, -6.172699928283691, -6.1890997886657715, -6.206200122833252, -6.224899768829346, -6.242000102996826, -6.365600109100342, -6.441299915313721, -5.665900230407715, -4.808499813079834, -4.366399765014648, -4.417099952697754, -4.774199962615967, -5.033299922943115, -3.2799999713897705, -4.883600234985352, -5.123300075531006, -4.467100143432617, -5.431099891662598, -4.209799766540527, -5.501500129699707, -5.065700054168701, -4.376500129699707, -5.150899887084961, -5.242800235748291, -4.761300086975098, -4.777400016784668, -4.891300201416016, -5.2093000411987305, -5.360899925231934, -5.076300144195557, -5.367499828338623, -5.698200225830078, -5.739200115203857, -5.886300086975098, -6.083899974822998, -6.159599781036377, -6.364099979400635, -6.376999855041504, -6.428699970245361, -6.4604997634887695, -6.477099895477295, -6.496200084686279, -6.519899845123291, -6.533299922943115, -6.546199798583984, -6.609099864959717, -6.627699851989746, -6.647299766540527, -6.693699836730957, -6.696899890899658, -6.775700092315674, -6.8242998123168945, -6.820099830627441, -6.831699848175049, -6.844200134277344, -6.853899955749512, -6.875, -6.88100004196167, -6.93120002746582, -5.485199928283691, -5.160399913787842, -6.224899768829346, -5.603400230407715, -5.763199806213379, -4.841599941253662, -4.224699974060059, -5.065100193023682, -6.093800067901611, -4.066800117492676, -5.924900054931641, -5.384799957275391, -6.161900043487549, -5.358099937438965, -5.391200065612793, -5.675099849700928, -4.604300022125244, -5.4959001541137695, -5.115099906921387, -3.789099931716919, -4.933599948883057, -4.048399925231934, -4.6529998779296875, -4.665999889373779, -3.4779000282287598, -4.375800132751465, -4.213600158691406, -4.967199802398682, -3.9298999309539795, -5.252999782562256, -5.111400127410889, -4.678500175476074, -4.451099872589111, -4.561699867248535, -4.665599822998047, -5.115499973297119, -4.9334001541137695, -5.261099815368652, -5.0177998542785645, -5.270899772644043, -5.255300045013428, -2.336400032043457, -4.590799808502197, -4.6605000495910645, -4.6545000076293945, -4.962299823760986, -5.188899993896484, -5.320499897003174, -5.377600193023682, -5.391900062561035, -5.496799945831299, -5.562699794769287, -5.574699878692627, -5.5920000076293945, -5.62529993057251, -5.653500080108643, -5.723800182342529, -5.815199851989746, -5.89739990234375, -5.962100028991699, -5.980800151824951, -6.055799961090088, -6.059800148010254, -6.091800212860107, -6.0929999351501465, -6.103300094604492, -6.11269998550415, -6.223700046539307, -6.273900032043457, -6.316699981689453, -6.367700099945068, -3.6217000484466553, -5.976200103759766, -4.5625, -4.395400047302246, -3.379300117492676, -4.992099761962891, -4.374000072479248, -3.516400098800659, -5.138800144195557, -3.836199998855591, -4.3231000900268555, -3.8048999309539795, -4.1691999435424805, -3.8534998893737793, -5.0100998878479, -3.9112000465393066, -3.8538999557495117, -4.045599937438965, -5.057199954986572, -4.99560022354126, -5.29610013961792, -5.282599925994873, -5.25439977645874, -5.285399913787842, -2.6738998889923096, -3.5130999088287354, -3.7070999145507812, -4.048999786376953, -4.552000045776367, -4.722499847412109, -4.810200214385986, -4.920000076293945, -5.161600112915039, -5.2683000564575195, -5.354300022125244, -5.38070011138916, -5.492000102996826, -5.585100173950195, -5.598499774932861, -5.680300235748291, -5.721399784088135, -5.822400093078613, -5.822199821472168, -5.974599838256836, -6.009900093078613, -6.019899845123291, -6.047100067138672, -6.133200168609619, -6.217299938201904, -6.255000114440918, -6.252200126647949, -6.276299953460693, -6.284900188446045, -6.321800231933594, -3.8315000534057617, -4.409599781036377, -4.61269998550415, -4.201399803161621, -4.706399917602539, -3.9860000610351562, -4.031400203704834, -4.860799789428711, -5.485199928283691, -5.012199878692627, -5.236199855804443, -4.521500110626221, -5.314300060272217, -4.984300136566162, -4.908199787139893, -5.111000061035156, -5.2204999923706055, -4.644100189208984, -4.838900089263916, -4.813700199127197, -5.19320011138916, -5.252099990844727, -5.190100193023682]}, \"token.table\": {\"Topic\": [4, 4, 7, 3, 6, 6, 5, 6, 5, 1, 5, 7, 5, 4, 3, 7, 4, 1, 2, 3, 4, 5, 6, 1, 2, 3, 5, 6, 1, 4, 4, 7, 1, 3, 1, 2, 3, 6, 2, 6, 2, 7, 2, 3, 1, 2, 3, 4, 5, 6, 3, 1, 2, 5, 6, 2, 3, 1, 2, 3, 4, 6, 3, 1, 6, 1, 2, 6, 4, 3, 1, 2, 3, 5, 6, 2, 3, 2, 3, 1, 2, 3, 5, 2, 4, 1, 2, 4, 6, 7, 3, 6, 1, 4, 6, 7, 5, 6, 4, 4, 3, 1, 6, 2, 1, 2, 6, 1, 3, 4, 5, 6, 2, 5, 6, 1, 5, 2, 5, 6, 1, 3, 5, 6, 1, 2, 4, 5, 6, 7, 4, 2, 1, 2, 1, 2, 4, 1, 2, 5, 6, 7, 1, 4, 5, 1, 6, 1, 4, 3, 7, 7, 3, 3, 5, 6, 7, 1, 2, 7, 5, 6, 5, 1, 2, 4, 5, 6, 5, 6, 6, 1, 2, 3, 4, 3, 6, 7, 1, 2, 3, 4, 5, 2, 6, 1, 1, 7, 4, 1, 3, 5, 6, 5, 5, 1, 2, 6, 2, 4, 6, 7, 1, 7, 2, 7, 6, 2, 1, 6, 1, 5, 1, 2, 5, 1, 2, 5, 1, 2, 5, 1, 2, 4, 6, 2, 3, 4, 5, 6, 7, 6, 3, 4, 4, 1, 3, 4, 5, 6, 6, 2, 1, 2, 6, 2, 3, 4, 1, 2, 4, 4, 2, 1, 3, 5, 7, 1, 1, 2, 3, 5, 7, 7, 4, 4, 7, 6, 7, 2, 4, 1, 7, 2, 1, 2, 3, 4, 5, 6, 7, 6, 3, 4, 4, 5, 6, 6, 1, 2, 2, 4, 1, 2, 3, 5, 7, 3, 1, 2, 3, 6, 1, 4, 6, 2, 2, 3, 1, 2, 4, 5, 1, 2, 2, 5, 1, 3, 7, 1, 2, 4, 5, 6, 6, 7, 2, 5, 1, 3, 4, 6, 7, 1, 2, 5, 2, 5, 2, 5, 7, 7, 1, 1, 3, 4, 6, 7, 2, 4, 3, 5, 1, 1, 3, 4, 2, 2, 3, 2, 3, 4, 6, 7, 1, 5, 6, 4, 1, 2, 3, 4, 6, 6, 2, 1, 4, 5, 1, 3, 4, 2, 4, 6, 1, 2, 4, 6, 1, 3, 5, 7, 4, 6, 1, 5, 1, 2, 6, 5, 1, 2, 5, 6, 1, 2, 1, 2, 3, 5, 1, 4, 6, 7, 1, 6, 7, 3, 3, 3, 3, 1, 1, 2, 3, 1, 3, 5, 7, 1, 2, 3, 6, 7, 3, 2, 1, 4, 1, 3, 4, 7, 7, 4, 4, 1, 6, 4, 5, 7, 4, 1, 5, 1, 5, 6, 7, 7, 3, 1, 2, 4, 6, 4, 6, 4, 3, 4, 6, 6, 6, 6, 3, 4, 1, 2, 6, 6, 7, 1, 6, 1, 1, 3, 6, 1, 3, 4, 5, 6, 7, 1, 3, 4, 6, 7, 3, 4, 1, 3, 1, 2, 4, 6, 1, 5, 5, 5, 2, 5, 6, 5, 6, 7, 1, 5, 6, 7, 7, 5, 5, 1, 5, 1, 3, 3, 1, 7, 1, 5, 7, 2, 2, 3, 1, 2, 3, 4, 1, 7, 5, 3, 7, 1, 4, 5, 6, 6, 1, 2, 4, 6, 3, 6, 1, 1, 1, 2, 3, 5, 2, 3, 1, 7, 6, 3, 1, 3, 5, 6, 7, 1, 2, 3, 6, 1, 4, 6, 5, 3, 2, 7, 1, 3, 4, 7, 6, 1, 2, 3, 4, 6, 2, 4, 1, 4, 1, 2, 3, 4, 5, 7, 1, 2, 1, 2, 1, 2, 4, 4, 4, 4, 1, 2, 6, 1, 4, 6, 7, 1, 2, 4, 1, 2, 4, 1, 4, 7, 7, 1, 5, 6, 1, 2, 3, 5, 6, 4, 1, 4, 6, 7, 1, 2, 1, 4, 5, 3, 6, 1, 2, 3, 4, 5, 6, 5, 2, 6, 6, 5, 6, 5, 1, 4, 6, 1, 4, 5, 1, 2, 3, 4, 5, 6, 1, 2, 5, 1, 2, 5, 1, 5, 6, 1, 2, 1, 2, 3, 4, 6, 4, 5, 7, 2, 4, 5, 6, 7, 6, 1, 2, 3, 5, 3, 5, 2, 3, 2, 1, 2, 6, 3, 3, 6, 3, 4, 6, 1, 6, 2, 5, 7, 1, 5, 7, 5, 2, 3, 1, 2, 3, 6, 3, 5, 3, 1, 2, 5, 1, 2, 5, 5, 2, 3, 6, 5, 5, 6, 1, 5, 6, 1, 3, 4, 5, 6, 7, 7], \"Freq\": [0.9997548460960388, 0.9999262094497681, 0.9995449781417847, 0.9998165369033813, 0.9998257756233215, 0.9997441172599792, 0.9995303750038147, 0.9996055364608765, 0.9996408224105835, 0.4921734929084778, 0.49393022060394287, 0.013907341286540031, 0.9992322325706482, 0.9999045133590698, 0.9996773600578308, 0.999921977519989, 0.9997304677963257, 0.3046371638774872, 0.011528797447681427, 0.2953858971595764, 0.0577593594789505, 0.16240306198596954, 0.16828711330890656, 0.3691668212413788, 0.00020061431860085577, 0.3502695560455322, 0.18153773248195648, 0.09882383048534393, 0.7396137118339539, 0.26037484407424927, 0.3785765767097473, 0.6213961243629456, 0.9997698664665222, 0.9997596144676208, 0.04263053834438324, 0.33318865299224854, 0.5605015158653259, 0.06359555572271347, 0.2782376706600189, 0.721734881401062, 0.9998205900192261, 0.9994852542877197, 0.13075481355190277, 0.8691850900650024, 0.3713749647140503, 0.3259465992450714, 0.01042203139513731, 0.013909028843045235, 0.19673289358615875, 0.0816035345196724, 0.9996767640113831, 0.16946710646152496, 0.13899901509284973, 0.6855630278587341, 0.005957101006060839, 0.3506385087966919, 0.6493114829063416, 0.02516419254243374, 0.7782106399536133, 0.1315341293811798, 0.024186942726373672, 0.04089416190981865, 0.9996473789215088, 0.9998510479927063, 0.9998904466629028, 0.04243646562099457, 0.30458301305770874, 0.6529543399810791, 0.9998312592506409, 0.9999837875366211, 0.5542659759521484, 0.11895623058080673, 0.26833754777908325, 0.05841562896966934, 2.8145328542450443e-05, 0.18883690237998962, 0.8110804557800293, 0.08993733674287796, 0.9098660349845886, 0.356454461812973, 0.4858987033367157, 0.1397872120141983, 0.017847156152129173, 0.954613208770752, 0.045294374227523804, 0.27001914381980896, 0.06454582512378693, 0.2985427975654602, 0.007792548276484013, 0.35911884903907776, 0.9857499003410339, 0.013895662501454353, 0.9999586343765259, 0.8017287254333496, 0.12440883368253708, 0.07381616532802582, 0.022787943482398987, 0.9769813418388367, 0.9998853206634521, 0.9998524188995361, 0.9998610615730286, 0.9998841881752014, 0.9997643828392029, 0.999818742275238, 0.036855198442935944, 0.9438526630401611, 0.01927032507956028, 0.349130243062973, 0.13467855751514435, 0.050179868936538696, 0.17599214613437653, 0.2900061011314392, 0.9997390508651733, 0.9994555115699768, 0.9998647570610046, 0.014663183130323887, 0.9852630496025085, 0.774173378944397, 0.15180064737796783, 0.0739668756723404, 0.3220119774341583, 0.1063646748661995, 0.5467897057533264, 0.024755671620368958, 0.5983848571777344, 0.000984050682745874, 0.0064431894570589066, 0.28507012128829956, 0.02039562352001667, 0.08871685713529587, 0.999934732913971, 0.9998047351837158, 0.0379195362329483, 0.9620557427406311, 0.2114713042974472, 0.7053097486495972, 0.08320064842700958, 0.11735878884792328, 0.6323338150978088, 0.22964727878570557, 0.020404847338795662, 0.0002473314816597849, 0.05570529028773308, 0.23772934079170227, 0.7065354585647583, 0.9650010466575623, 0.034991368651390076, 0.9040459990501404, 0.09594587236642838, 0.9998993873596191, 0.9997393488883972, 0.999642014503479, 0.9998912215232849, 0.043027717620134354, 0.21714892983436584, 0.6247512102127075, 0.11508861929178238, 0.996426522731781, 0.0035105308052152395, 0.9999871253967285, 0.1671474426984787, 0.8328329920768738, 0.9993588328361511, 0.5511711239814758, 0.08230778574943542, 0.02203229069709778, 0.0903121829032898, 0.25417986512184143, 0.9997802376747131, 0.9997422695159912, 0.999878466129303, 0.09568151086568832, 0.04714741185307503, 0.853246808052063, 0.003813393646851182, 0.0294121652841568, 0.14392352104187012, 0.8265798687934875, 0.12502798438072205, 0.5050462484359741, 0.28238141536712646, 0.08296993374824524, 0.004565191920846701, 0.9999597072601318, 0.999824583530426, 0.9997025728225708, 0.9997462630271912, 0.9998337030410767, 0.9998761415481567, 0.9741252064704895, 0.0257926844060421, 0.13886848092079163, 0.8610556125640869, 0.9998142123222351, 0.9993358850479126, 0.9998342990875244, 0.9998388290405273, 0.9997155666351318, 0.07386816293001175, 0.08938445895910263, 0.8366862535476685, 0.9997466206550598, 0.2803901731967926, 0.7195754051208496, 0.26017695665359497, 0.7396697402000427, 0.9999037981033325, 0.9996395707130432, 0.8708838224411011, 0.12909893691539764, 0.9639015793800354, 0.03609282150864601, 0.7620322108268738, 0.16569016873836517, 0.07226675748825073, 0.5927872657775879, 0.0012546461075544357, 0.40593305230140686, 0.2416866272687912, 0.7201768159866333, 0.038102637976408005, 0.2148028314113617, 0.7329087257385254, 0.020650066435337067, 0.0316072441637516, 0.16040043532848358, 0.22173692286014557, 0.07608235627412796, 0.5062483549118042, 0.03550509735941887, 0.9991196393966675, 0.9996083974838257, 0.16563448309898376, 0.8343319296836853, 0.999786913394928, 0.45980381965637207, 0.11843498051166534, 0.022832423448562622, 0.39888814091682434, 0.9997736215591431, 0.9998160600662231, 0.999794065952301, 0.41319194436073303, 0.10532749444246292, 0.48144540190696716, 0.9758001565933228, 0.02408837527036667, 0.9999960660934448, 0.31438353657722473, 0.12571002542972565, 0.5598878264427185, 0.99977046251297, 0.9999451041221619, 0.9999446868896484, 0.8667234182357788, 0.1332142949104309, 0.9998997449874878, 0.9998442530632019, 0.0003600509080570191, 0.3246319591999054, 0.435376912355423, 0.23963481187820435, 0.9993918538093567, 0.9994890689849854, 0.9996922016143799, 0.9999631643295288, 0.9995807409286499, 0.1651705801486969, 0.8347786068916321, 0.9997626543045044, 0.9996941685676575, 0.04447365552186966, 0.9555097222328186, 0.9998580813407898, 0.2705231010913849, 0.28392699360847473, 0.0926780179142952, 0.0770309641957283, 0.18575134873390198, 0.07087142765522003, 0.01922326534986496, 0.9999902844429016, 0.133640319108963, 0.8663224577903748, 0.32588788866996765, 0.010420864447951317, 0.6636853218078613, 0.9998920559883118, 0.9998701810836792, 0.9997092485427856, 0.9999188184738159, 0.999941885471344, 0.9997968673706055, 0.13161738216876984, 0.24896416068077087, 0.4840434193611145, 0.13532966375350952, 0.9994751811027527, 0.010417086072266102, 0.6247540712356567, 0.0003872522502206266, 0.3644430935382843, 0.40324774384498596, 0.11845303326845169, 0.47827932238578796, 0.9997237324714661, 0.9999820590019226, 0.9998217821121216, 0.6923391819000244, 0.00037399912253022194, 0.015066822059452534, 0.29222020506858826, 0.006489541847258806, 0.9932672381401062, 0.9998200535774231, 0.9996351003646851, 0.8299474120140076, 0.07513214647769928, 0.09489139914512634, 0.6002289652824402, 0.30964505672454834, 0.053596798330545425, 0.008564931340515614, 0.027961982414126396, 0.017490766942501068, 0.9824953079223633, 0.9997965097427368, 0.999623715877533, 0.23051531612873077, 0.0005558239063248038, 0.7443492412567139, 0.02450678125023842, 0.9993017911911011, 0.9999719858169556, 0.093133345246315, 0.9066608548164368, 0.999860405921936, 0.9996665716171265, 0.2541937530040741, 0.029158249497413635, 0.7166311740875244, 0.9997800588607788, 0.9999821782112122, 0.49797165393829346, 0.019417131319642067, 0.010285560972988605, 0.1265876591205597, 0.3456951677799225, 0.9110168814659119, 0.08888504654169083, 0.9998610019683838, 0.9996307492256165, 0.9998331665992737, 0.9999534487724304, 0.7799815535545349, 0.21999479830265045, 0.9998452663421631, 0.13339556753635406, 0.8664097785949707, 0.6880441308021545, 0.1847548484802246, 0.05279576778411865, 0.07439955323934555, 0.9993205070495605, 0.04142021760344505, 0.8774635791778564, 0.08097313344478607, 0.9998160004615784, 0.19681422412395477, 0.613518238067627, 0.07576015591621399, 0.07236600667238235, 0.04152907431125641, 0.9998109340667725, 0.9997510313987732, 0.9151987433433533, 0.08032309263944626, 0.00446659978479147, 0.13925042748451233, 0.860624372959137, 0.9999568462371826, 0.003629832761362195, 0.5786042213439941, 0.4177406430244446, 0.007255814969539642, 0.1209680363535881, 0.1692078709602356, 0.7025102376937866, 0.028835685923695564, 0.9709715843200684, 0.9923790097236633, 0.007544257212430239, 0.7946509122848511, 0.2052769511938095, 0.7911063432693481, 0.20888900756835938, 0.9437117576599121, 0.03549593687057495, 0.02074883133172989, 0.9997981786727905, 0.31874969601631165, 0.10816540569067001, 0.4241509735584259, 0.14893655478954315, 0.7694523334503174, 0.23053614795207977, 0.0520753376185894, 0.08059278130531311, 0.8520421981811523, 0.015260172076523304, 0.4141727685928345, 0.043979622423648834, 0.21720421314239502, 0.3245846629142761, 0.4161075949668884, 0.1640765517950058, 0.4197230637073517, 0.9998276233673096, 0.9998654723167419, 0.9999406933784485, 0.9996429085731506, 0.9997470378875732, 0.3398280441761017, 0.3126983940601349, 0.34744465351104736, 0.07778282463550568, 0.030721915885806084, 0.7636755108833313, 0.12783539295196533, 0.36308062076568604, 0.06496519595384598, 0.23762653768062592, 0.28586453199386597, 0.0484146773815155, 0.9997653365135193, 0.9999787211418152, 0.9909790754318237, 0.009012199938297272, 0.9996517300605774, 0.05805457755923271, 0.08118743449449539, 0.8605868220329285, 0.999947190284729, 0.9999487996101379, 0.9997444152832031, 0.9999403953552246, 0.9997932314872742, 0.9999490976333618, 0.9996528625488281, 0.9996325373649597, 0.9997575283050537, 0.04563877731561661, 0.9542653560638428, 0.10442152619361877, 0.813332736492157, 0.019280914217233658, 0.06295750290155411, 0.9997565746307373, 0.9997064471244812, 0.9998849630355835, 0.0979924350976944, 0.06030868738889694, 0.8416771292686462, 0.15399542450904846, 0.8459786176681519, 0.9997906684875488, 0.8798397183418274, 0.04789353907108307, 0.07224849611520767, 0.9998993277549744, 0.9997629523277283, 0.9999527335166931, 0.9994444251060486, 0.9997872114181519, 0.008298659697175026, 0.9915677309036255, 0.9997991323471069, 0.23944547772407532, 0.7604367136955261, 0.9779732823371887, 0.021911460906267166, 0.9999886155128479, 0.11689608544111252, 0.6765270233154297, 0.2065095156431198, 0.24843540787696838, 0.10866843163967133, 0.1690223515033722, 0.0030196569859981537, 0.07306001335382462, 0.3977711796760559, 0.7352657914161682, 0.06813688576221466, 0.0764659196138382, 0.02368670329451561, 0.09643411636352539, 0.19423887133598328, 0.805719256401062, 0.9998476505279541, 0.9998981952667236, 0.032757118344306946, 0.8774421811103821, 0.06198027357459068, 0.027728017419576645, 0.9626240134239197, 0.0373309850692749, 0.9999226927757263, 0.999790370464325, 0.9998210072517395, 0.9994354248046875, 0.9998677968978882, 0.8890306949615479, 0.015601114369928837, 0.09529487043619156, 0.01857118494808674, 0.4929180145263672, 0.1367514580488205, 0.3517269790172577, 0.9991481304168701, 0.9995239973068237, 0.9994980692863464, 0.6869489550590515, 0.31302809715270996, 0.9998956322669983, 0.9995295405387878, 0.9997618198394775, 0.24464339017868042, 0.7552299499511719, 0.947818398475647, 0.052126169204711914, 0.9991386532783508, 0.999800443649292, 0.03257783502340317, 0.967228353023529, 0.6483387351036072, 0.022299068048596382, 0.224687859416008, 0.10467518866062164, 0.9997274279594421, 0.9994027614593506, 0.9997657537460327, 0.999887228012085, 0.9996477365493774, 0.5608972311019897, 0.02505255863070488, 0.3614415228366852, 0.05259481444954872, 0.9998590350151062, 0.09370798617601395, 0.8997402787208557, 0.004009217489510775, 0.0025331873912364244, 0.4527493417263031, 0.547230064868927, 0.9999116659164429, 0.9998327493667603, 0.11714532971382141, 0.5600290298461914, 0.27242472767829895, 0.05038544908165932, 0.999986469745636, 0.9996294975280762, 0.9999533295631409, 0.9997796416282654, 0.999525249004364, 0.9997426867485046, 0.5992103815078735, 0.048113711178302765, 0.10573136061429977, 0.07543754577636719, 0.17149996757507324, 0.5989120006561279, 0.2917925715446472, 0.09681285172700882, 0.012468322180211544, 0.9998443126678467, 0.4702870845794678, 0.5296956896781921, 0.9998409748077393, 0.9996201992034912, 0.993837296962738, 0.006016821600496769, 0.3899551033973694, 0.5489542484283447, 0.058019764721393585, 0.003037550486624241, 0.9996443390846252, 0.113857701420784, 0.6169899106025696, 0.18626995384693146, 0.04384355619549751, 0.039047352969646454, 0.965391218662262, 0.03448162227869034, 0.8567957282066345, 0.14318981766700745, 0.28220728039741516, 0.3791388273239136, 0.15223203599452972, 0.003495200304314494, 0.18291547894477844, 0.9998010396957397, 0.8278701305389404, 0.17208553850650787, 0.9999203681945801, 0.9998899698257446, 0.06328228116035461, 0.17283284664154053, 0.7638754844665527, 0.9999324083328247, 0.9999496340751648, 0.999915599822998, 0.8055753707885742, 0.1528664529323578, 0.04155201092362404, 0.8362746238708496, 0.049594029784202576, 0.10230447351932526, 0.011820895597338676, 0.07225114852190018, 0.1382322609424591, 0.789440393447876, 0.9562962055206299, 0.0436127744615078, 0.999875009059906, 0.4204021990299225, 0.5795443058013916, 0.9995148777961731, 0.9994479417800903, 0.9027849435806274, 0.09491253644227982, 0.0022645106073468924, 0.3709811568260193, 0.2112920582294464, 0.06624353677034378, 0.3249514102935791, 0.026528218761086464, 0.9998058676719666, 0.06076531112194061, 0.9391201734542847, 0.2183113396167755, 0.7816015481948853, 0.9996818900108337, 0.9999049305915833, 0.09857659786939621, 0.5959663391113281, 0.3054690361022949, 0.6360406279563904, 0.36391058564186096, 0.00488251680508256, 0.7398619055747986, 0.05399678274989128, 0.08907381445169449, 0.06051751226186752, 0.05165189132094383, 0.9996824264526367, 0.9998281598091125, 0.9998486042022705, 0.9997820258140564, 0.9836137890815735, 0.01629907637834549, 0.9994332194328308, 0.17171549797058105, 0.22684010863304138, 0.6014237999916077, 0.4145694375038147, 0.5854225158691406, 0.9993811845779419, 0.194400817155838, 0.5660819411277771, 0.06979892402887344, 0.04716210812330246, 0.08631063252687454, 0.03624127432703972, 0.7067883014678955, 0.04281201958656311, 0.25038206577301025, 0.22549329698085785, 0.05451659858226776, 0.7199351787567139, 0.9780847430229187, 0.007889901287853718, 0.014004574157297611, 0.0017675557173788548, 0.9980376958847046, 0.25964486598968506, 0.4776836931705475, 0.03189598768949509, 0.14941170811653137, 0.08134172856807709, 0.999861478805542, 0.8706210255622864, 0.129302978515625, 0.07048250734806061, 0.018276376649737358, 0.6717414259910583, 0.08435901999473572, 0.15509536862373352, 0.9998182654380798, 0.08359391242265701, 0.07443539798259735, 0.04525384679436684, 0.7966113686561584, 0.999652624130249, 0.9994194507598877, 0.01114687416702509, 0.9887113571166992, 0.9998276829719543, 0.843510091304779, 0.08423570543527603, 0.07219288498163223, 0.9998859763145447, 0.6080287098884583, 0.39194825291633606, 0.21533823013305664, 0.7642842531204224, 0.020355992019176483, 0.9852870106697083, 0.014619816094636917, 0.9997996687889099, 0.9995001554489136, 0.999647855758667, 0.21328869462013245, 0.346757709980011, 0.4398370683193207, 0.9996337890625, 0.0835382416844368, 0.9164107441902161, 0.17494182288646698, 0.6010981798171997, 0.15531325340270996, 0.06863177567720413, 0.050312239676713943, 0.949526309967041, 0.9997843503952026, 0.03568887338042259, 0.9642679691314697, 0.9997069239616394, 0.9998157620429993, 0.9701083898544312, 0.029870031401515007, 0.999553382396698, 0.9999039173126221, 0.9998392462730408, 0.9999328255653381, 0.999573290348053, 0.9179447889328003, 0.08178665488958359, 0.5456807613372803, 0.4036276042461395, 0.0506669320166111, 0.028623588383197784, 0.4095210134983063, 0.029659898951649666, 0.49782174825668335, 0.03437689319252968, 0.9993817210197449, 0.9999485611915588], \"Term\": [\"classic\", \"visa\", \"\\u0430\\u0431\\u0441\\u043e\\u043b\\u044e\\u0442\", \"\\u0430\\u0432\\u0430\\u043d\\u0433\\u0430\\u0440\\u0434\", \"\\u0430\\u0432\\u0442\\u043e\\u043a\\u0440\\u0435\\u0434\\u0438\\u0442\", \"\\u0430\\u0432\\u0442\\u043e\\u043c\\u043e\\u0431\\u0438\\u043b\\u044c\", \"\\u0430\\u0432\\u0442\\u043e\\u043e\\u0442\\u0432\\u0435\\u0442\\u0447\\u0438\\u043a\", \"\\u0430\\u0432\\u0442\\u043e\\u0441\\u0430\\u043b\\u043e\\u043d\", \"\\u0430\\u0433\\u0435\\u043d\\u0442\\u0441\\u0442\\u0432\\u043e\", \"\\u0430\\u0434\\u0440\\u0435\\u0441\", \"\\u0430\\u0434\\u0440\\u0435\\u0441\", \"\\u0430\\u0434\\u0440\\u0435\\u0441\", \"\\u0430\\u043a\\u0442\", \"\\u0430\\u043a\\u0442\\u0438\\u0432\\u0438\\u0440\\u043e\\u0432\\u0430\\u0442\\u044c\", \"\\u0430\\u043a\\u0446\\u0438\\u044f\", \"\\u0430\\u043d\\u043a\\u0435\\u0442\\u0430\", \"\\u0431\\u0430\\u043b\\u0430\\u043d\\u0441\", \"\\u0431\\u0430\\u043d\\u043a\", \"\\u0431\\u0430\\u043d\\u043a\", \"\\u0431\\u0430\\u043d\\u043a\", \"\\u0431\\u0430\\u043d\\u043a\", \"\\u0431\\u0430\\u043d\\u043a\", \"\\u0431\\u0430\\u043d\\u043a\", \"\\u0431\\u0430\\u043d\\u043a\\u0430\", \"\\u0431\\u0430\\u043d\\u043a\\u0430\", \"\\u0431\\u0430\\u043d\\u043a\\u0430\", \"\\u0431\\u0430\\u043d\\u043a\\u0430\", \"\\u0431\\u0430\\u043d\\u043a\\u0430\", \"\\u0431\\u0430\\u043d\\u043a\\u043e\\u043c\\u0430\\u0442\", \"\\u0431\\u0430\\u043d\\u043a\\u043e\\u043c\\u0430\\u0442\", \"\\u0431\\u0435\\u0437\\u043e\\u043f\\u0430\\u0441\\u043d\\u043e\\u0441\\u0442\\u044c\", \"\\u0431\\u0435\\u0437\\u043e\\u043f\\u0430\\u0441\\u043d\\u043e\\u0441\\u0442\\u044c\", \"\\u0431\\u043b\\u0430\\u043d\\u043a\", \"\\u0431\\u043e\\u043b\\u044c\\u0448\\u0438\\u043d\\u0441\\u0442\\u0432\\u043e\", \"\\u0431\\u043e\\u043b\\u044c\\u0448\\u043e\\u0439\", \"\\u0431\\u043e\\u043b\\u044c\\u0448\\u043e\\u0439\", \"\\u0431\\u043e\\u043b\\u044c\\u0448\\u043e\\u0439\", \"\\u0431\\u043e\\u043b\\u044c\\u0448\\u043e\\u0439\", \"\\u0431\\u0440\\u0430\\u0442\\u044c\", \"\\u0431\\u0440\\u0430\\u0442\\u044c\", \"\\u0431\\u0443\\u043c\\u0430\\u0436\\u043a\\u0430\", \"\\u0431\\u0443\\u0445\\u0433\\u0430\\u043b\\u0442\\u0435\\u0440\\u0438\\u044f\", \"\\u0431\\u044b\\u0441\\u0442\\u0440\\u043e\", \"\\u0431\\u044b\\u0441\\u0442\\u0440\\u043e\", \"\\u0431\\u044b\\u0442\\u044c\", \"\\u0431\\u044b\\u0442\\u044c\", \"\\u0431\\u044b\\u0442\\u044c\", \"\\u0431\\u044b\\u0442\\u044c\", \"\\u0431\\u044b\\u0442\\u044c\", \"\\u0431\\u044b\\u0442\\u044c\", \"\\u0432\\u0430\\u043b\\u044e\\u0442\\u043d\\u044b\\u0439\", \"\\u0432\\u0430\\u0448\", \"\\u0432\\u0430\\u0448\", \"\\u0432\\u0430\\u0448\", \"\\u0432\\u0430\\u0448\", \"\\u0432\\u0435\\u0436\\u043b\\u0438\\u0432\\u044b\\u0439\", \"\\u0432\\u0435\\u0436\\u043b\\u0438\\u0432\\u044b\\u0439\", \"\\u0432\\u0435\\u0441\\u044c\", \"\\u0432\\u0435\\u0441\\u044c\", \"\\u0432\\u0435\\u0441\\u044c\", \"\\u0432\\u0435\\u0441\\u044c\", \"\\u0432\\u0435\\u0441\\u044c\", \"\\u0432\\u0435\\u0441\\u044c\\u043c\\u0430\", \"\\u0432\\u0435\\u0447\\u0435\\u0440\\u043e\\u043c\", \"\\u0432\\u0437\\u043d\\u043e\\u0441\", \"\\u0432\\u0437\\u044f\\u0442\\u044c\", \"\\u0432\\u0437\\u044f\\u0442\\u044c\", \"\\u0432\\u0437\\u044f\\u0442\\u044c\", \"\\u0432\\u0438\\u0437\\u0430\", \"\\u0432\\u043a\\u043b\\u0430\\u0434\", \"\\u0432\\u043e\\u043f\\u0440\\u043e\\u0441\", \"\\u0432\\u043e\\u043f\\u0440\\u043e\\u0441\", \"\\u0432\\u043e\\u043f\\u0440\\u043e\\u0441\", \"\\u0432\\u043e\\u043f\\u0440\\u043e\\u0441\", \"\\u0432\\u043e\\u043f\\u0440\\u043e\\u0441\", \"\\u0432\\u043f\\u0435\\u0447\\u0430\\u0442\\u043b\\u0435\\u043d\\u0438\\u0435\", \"\\u0432\\u043f\\u0435\\u0447\\u0430\\u0442\\u043b\\u0435\\u043d\\u0438\\u0435\", \"\\u0432\\u043f\\u043e\\u043b\\u043d\\u0435\", \"\\u0432\\u043f\\u043e\\u043b\\u043d\\u0435\", \"\\u0432\\u0440\\u0435\\u043c\\u044f\", \"\\u0432\\u0440\\u0435\\u043c\\u044f\", \"\\u0432\\u0440\\u0435\\u043c\\u044f\", \"\\u0432\\u0440\\u0435\\u043c\\u044f\", \"\\u0432\\u0440\\u043e\\u0434\\u0435\", \"\\u0432\\u0440\\u043e\\u0434\\u0435\", \"\\u0432\\u0442\\u0431\", \"\\u0432\\u0442\\u0431\", \"\\u0432\\u0442\\u0431\", \"\\u0432\\u0442\\u0431\", \"\\u0432\\u0442\\u0431\", \"\\u0432\\u044b\\u0431\\u043e\\u0440\", \"\\u0432\\u044b\\u0431\\u043e\\u0440\", \"\\u0432\\u044b\\u0434\\u0430\\u0442\\u044c\", \"\\u0432\\u044b\\u043f\\u0438\\u0441\\u043a\\u0430\", \"\\u0432\\u044b\\u043f\\u0438\\u0441\\u043a\\u0430\", \"\\u0432\\u044b\\u043f\\u0438\\u0441\\u043a\\u0430\", \"\\u0432\\u044b\\u043f\\u043b\\u0430\\u0442\\u0438\\u0442\\u044c\", \"\\u0432\\u044b\\u043f\\u043b\\u0430\\u0442\\u0438\\u0442\\u044c\", \"\\u0432\\u044b\\u043f\\u0443\\u0441\\u043a\", \"\\u0432\\u044b\\u043f\\u0443\\u0441\\u0442\\u0438\\u0442\\u044c\", \"\\u0432\\u044b\\u0441\\u043e\\u043a\\u0438\\u0439\", \"\\u0432\\u044b\\u044f\\u0441\\u043d\\u0438\\u0442\\u044c\", \"\\u0433\\u0430\\u0441\\u0438\\u0442\\u044c\", \"\\u0433\\u043b\\u0430\\u0437\", \"\\u0433\\u043e\\u0432\\u043e\\u0440\\u0438\\u0442\\u044c\", \"\\u0433\\u043e\\u0432\\u043e\\u0440\\u0438\\u0442\\u044c\", \"\\u0433\\u043e\\u0432\\u043e\\u0440\\u0438\\u0442\\u044c\", \"\\u0433\\u043e\\u0434\", \"\\u0433\\u043e\\u0434\", \"\\u0433\\u043e\\u0434\", \"\\u0433\\u043e\\u0434\", \"\\u0433\\u043e\\u0434\", \"\\u0433\\u043e\\u0441\\u043f\\u043e\\u0434\\u0438\\u043d\", \"\\u0433\\u0440\\u0430\\u0436\\u0434\\u0430\\u043d\\u0441\\u043a\\u0438\\u0439\", \"\\u0433\\u0440\\u0430\\u0444\\u0438\\u043a\", \"\\u0433\\u0440\\u0443\\u0431\\u044b\\u0439\", \"\\u0433\\u0440\\u0443\\u0431\\u044b\\u0439\", \"\\u0434\\u0430\\u0432\\u0430\\u0442\\u044c\", \"\\u0434\\u0430\\u0432\\u0430\\u0442\\u044c\", \"\\u0434\\u0430\\u0432\\u0430\\u0442\\u044c\", \"\\u0434\\u0430\\u043d\\u043d\\u044b\\u0439\", \"\\u0434\\u0430\\u043d\\u043d\\u044b\\u0439\", \"\\u0434\\u0430\\u043d\\u043d\\u044b\\u0439\", \"\\u0434\\u0430\\u043d\\u043d\\u044b\\u0439\", \"\\u0434\\u0430\\u0442\\u044c\", \"\\u0434\\u0430\\u0442\\u044c\", \"\\u0434\\u0430\\u0442\\u044c\", \"\\u0434\\u0430\\u0442\\u044c\", \"\\u0434\\u0430\\u0442\\u044c\", \"\\u0434\\u0430\\u0442\\u044c\", \"\\u0434\\u0435\\u0431\\u0435\\u0442\\u043e\\u0432\\u044b\\u0439\", \"\\u0434\\u0435\\u0432\\u043e\\u0447\\u043a\\u0430\", \"\\u0434\\u0435\\u0432\\u0443\\u0448\\u043a\\u0430\", \"\\u0434\\u0435\\u0432\\u0443\\u0448\\u043a\\u0430\", \"\\u0434\\u0435\\u043b\\u0430\\u0442\\u044c\", \"\\u0434\\u0435\\u043b\\u0430\\u0442\\u044c\", \"\\u0434\\u0435\\u043b\\u0430\\u0442\\u044c\", \"\\u0434\\u0435\\u043b\\u043e\", \"\\u0434\\u0435\\u043b\\u043e\", \"\\u0434\\u0435\\u043b\\u043e\", \"\\u0434\\u0435\\u043b\\u043e\", \"\\u0434\\u0435\\u043b\\u043e\", \"\\u0434\\u0435\\u043d\\u0435\\u0436\\u043d\\u044b\\u0439\", \"\\u0434\\u0435\\u043d\\u0435\\u0436\\u043d\\u044b\\u0439\", \"\\u0434\\u0435\\u043d\\u0435\\u0436\\u043d\\u044b\\u0439\", \"\\u0434\\u0435\\u043d\\u044c\", \"\\u0434\\u0435\\u043d\\u044c\", \"\\u0434\\u0435\\u043d\\u044c\\u0433\\u0430\", \"\\u0434\\u0435\\u043d\\u044c\\u0433\\u0430\", \"\\u0434\\u0435\\u043f\\u043e\\u0437\\u0438\\u0442\", \"\\u0434\\u0438\\u0440\\u0435\\u043a\\u0442\\u043e\\u0440\", \"\\u0434\\u043e\\u0432\\u0435\\u0440\\u0435\\u043d\\u043d\\u043e\\u0441\\u0442\\u044c\", \"\\u0434\\u043e\\u0432\\u043e\\u043b\\u044c\\u043d\\u044b\\u0439\", \"\\u0434\\u043e\\u0433\\u043e\\u0432\\u043e\\u0440\", \"\\u0434\\u043e\\u0433\\u043e\\u0432\\u043e\\u0440\", \"\\u0434\\u043e\\u0433\\u043e\\u0432\\u043e\\u0440\", \"\\u0434\\u043e\\u0433\\u043e\\u0432\\u043e\\u0440\", \"\\u0434\\u043e\\u0437\\u0432\\u043e\\u043d\\u0438\\u0442\\u044c\\u0441\\u044f\", \"\\u0434\\u043e\\u0437\\u0432\\u043e\\u043d\\u0438\\u0442\\u044c\\u0441\\u044f\", \"\\u0434\\u043e\\u043a\\u0443\\u043c\\u0435\\u043d\\u0442\", \"\\u0434\\u043e\\u043b\\u0433\", \"\\u0434\\u043e\\u043b\\u0433\", \"\\u0434\\u043e\\u043b\\u0436\\u043d\\u0438\\u043a\", \"\\u0434\\u043e\\u043b\\u0436\\u043d\\u044b\\u0439\", \"\\u0434\\u043e\\u043b\\u0436\\u043d\\u044b\\u0439\", \"\\u0434\\u043e\\u043b\\u0436\\u043d\\u044b\\u0439\", \"\\u0434\\u043e\\u043b\\u0436\\u043d\\u044b\\u0439\", \"\\u0434\\u043e\\u043b\\u0436\\u043d\\u044b\\u0439\", \"\\u0434\\u043e\\u043c\\u0430\\u0448\\u043d\\u0438\\u0439\", \"\\u0434\\u043e\\u0441\\u0440\\u043e\\u0447\\u043d\\u043e\", \"\\u0434\\u043e\\u0441\\u0440\\u043e\\u0447\\u043d\\u044b\\u0439\", \"\\u0434\\u043e\\u0441\\u0442\\u0430\\u0442\\u043e\\u0447\\u043d\\u043e\", \"\\u0434\\u043e\\u0441\\u0442\\u0430\\u0442\\u043e\\u0447\\u043d\\u043e\", \"\\u0434\\u043e\\u0441\\u0442\\u0430\\u0442\\u043e\\u0447\\u043d\\u043e\", \"\\u0434\\u043e\\u0441\\u0442\\u0430\\u0442\\u043e\\u0447\\u043d\\u043e\", \"\\u0434\\u043e\\u0445\\u043e\\u0434\", \"\\u0434\\u043e\\u0445\\u043e\\u0434\", \"\\u0434\\u043e\\u0445\\u043e\\u0434\", \"\\u0434\\u0440\\u0443\\u0433\\u043e\\u0439\", \"\\u0434\\u0440\\u0443\\u0433\\u043e\\u0439\", \"\\u0434\\u0440\\u0443\\u0433\\u043e\\u0439\", \"\\u0434\\u0440\\u0443\\u0433\\u043e\\u0439\", \"\\u0434\\u0440\\u0443\\u0433\\u043e\\u0439\", \"\\u0434\\u0443\\u043c\\u0430\\u0442\\u044c\", \"\\u0435\\u0436\\u0435\\u043c\\u0435\\u0441\\u044f\\u0447\\u043d\\u044b\\u0439\", \"\\u0435\\u0437\\u0434\\u0438\\u0442\\u044c\", \"\\u0436\\u0430\\u043b\\u044c\", \"\\u0436\\u0435\\u043d\\u0430\", \"\\u0437\\u0430\\u0431\\u043b\\u043e\\u043a\\u0438\\u0440\\u043e\\u0432\\u0430\\u0442\\u044c\", \"\\u0437\\u0430\\u0431\\u0440\\u0430\\u0442\\u044c\", \"\\u0437\\u0430\\u0431\\u0440\\u0430\\u0442\\u044c\", \"\\u0437\\u0430\\u0434\\u043e\\u043b\\u0436\\u0435\\u043d\\u043d\\u043e\\u0441\\u0442\\u044c\", \"\\u0437\\u0430\\u0434\\u043e\\u043b\\u0436\\u0435\\u043d\\u043d\\u043e\\u0441\\u0442\\u044c\", \"\\u0437\\u0430\\u043a\\u043e\\u043d\", \"\\u0437\\u0430\\u043a\\u043e\\u043d\\u043e\\u0434\\u0430\\u0442\\u0435\\u043b\\u044c\\u0441\\u0442\\u0432\\u043e\", \"\\u0437\\u0430\\u043a\\u0440\\u044b\\u0442\\u044b\\u0439\", \"\\u0437\\u0430\\u043b\", \"\\u0437\\u0430\\u043b\\u043e\\u0433\", \"\\u0437\\u0430\\u043f\\u043b\\u0430\\u0442\\u0438\\u0442\\u044c\", \"\\u0437\\u0430\\u043f\\u043b\\u0430\\u0442\\u0438\\u0442\\u044c\", \"\\u0437\\u0430\\u043f\\u043b\\u0430\\u0442\\u0438\\u0442\\u044c\", \"\\u0437\\u0430\\u043f\\u043e\\u043b\\u043d\\u0435\\u043d\\u0438\\u0435\", \"\\u0437\\u0430\\u043f\\u043e\\u043b\\u043d\\u0438\\u0442\\u044c\", \"\\u0437\\u0430\\u043f\\u043e\\u043b\\u043d\\u0438\\u0442\\u044c\", \"\\u0437\\u0430\\u043f\\u043e\\u043b\\u043d\\u044f\\u0442\\u044c\", \"\\u0437\\u0430\\u043f\\u043e\\u043b\\u043d\\u044f\\u0442\\u044c\", \"\\u0437\\u0430\\u0440\\u043f\\u043b\\u0430\\u0442\\u0430\", \"\\u0437\\u0430\\u0442\\u043e\", \"\\u0437\\u0430\\u044f\\u0432\\u043a\\u0430\", \"\\u0437\\u0430\\u044f\\u0432\\u043a\\u0430\", \"\\u0437\\u0430\\u044f\\u0432\\u043b\\u0435\\u043d\\u0438\\u0435\", \"\\u0437\\u0430\\u044f\\u0432\\u043b\\u0435\\u043d\\u0438\\u0435\", \"\\u0437\\u0432\\u043e\\u043d\\u0438\\u0442\\u044c\", \"\\u0437\\u0432\\u043e\\u043d\\u0438\\u0442\\u044c\", \"\\u0437\\u0432\\u043e\\u043d\\u0438\\u0442\\u044c\", \"\\u0437\\u0432\\u043e\\u043d\\u043e\\u043a\", \"\\u0437\\u0432\\u043e\\u043d\\u043e\\u043a\", \"\\u0437\\u0432\\u043e\\u043d\\u043e\\u043a\", \"\\u0437\\u043d\\u0430\\u0442\\u044c\", \"\\u0437\\u043d\\u0430\\u0442\\u044c\", \"\\u0437\\u043d\\u0430\\u0442\\u044c\", \"\\u0438\\u0434\\u0442\\u0438\", \"\\u0438\\u0434\\u0442\\u0438\", \"\\u0438\\u0434\\u0442\\u0438\", \"\\u0438\\u0434\\u0442\\u0438\", \"\\u0438\\u043c\\u0435\\u0442\\u044c\", \"\\u0438\\u043c\\u0435\\u0442\\u044c\", \"\\u0438\\u043c\\u0435\\u0442\\u044c\", \"\\u0438\\u043c\\u0435\\u0442\\u044c\", \"\\u0438\\u043c\\u0435\\u0442\\u044c\", \"\\u0438\\u043d\\u043e\\u0441\\u0442\\u0440\\u0430\\u043d\\u043d\\u044b\\u0439\", \"\\u0438\\u043d\\u0441\\u043f\\u0435\\u043a\\u0442\\u043e\\u0440\", \"\\u0438\\u043d\\u0442\\u0435\\u0440\\u043d\\u0435\\u0442\", \"\\u0438\\u043d\\u0442\\u0435\\u0440\\u043d\\u0435\\u0442\", \"\\u0438\\u043d\\u0442\\u0435\\u0440\\u043d\\u0435\\u0442\\u0431\\u0430\\u043d\\u043a\", \"\\u0438\\u043d\\u0444\\u043e\\u0440\\u043c\\u0430\\u0446\\u0438\\u044f\", \"\\u0438\\u043d\\u0444\\u043e\\u0440\\u043c\\u0430\\u0446\\u0438\\u044f\", \"\\u0438\\u043d\\u0444\\u043e\\u0440\\u043c\\u0430\\u0446\\u0438\\u044f\", \"\\u0438\\u043d\\u0444\\u043e\\u0440\\u043c\\u0430\\u0446\\u0438\\u044f\", \"\\u0438\\u043f\\u043e\\u0442\\u0435\\u043a\\u0430\", \"\\u0438\\u043f\\u043e\\u0442\\u0435\\u0447\\u043d\\u044b\\u0439\", \"\\u0438\\u0441\\u043a\\u0430\\u0442\\u044c\", \"\\u0438\\u0441\\u0442\\u043e\\u0440\\u0438\\u044f\", \"\\u0438\\u0441\\u0442\\u043e\\u0440\\u0438\\u044f\", \"\\u0438\\u0441\\u0442\\u043e\\u0440\\u0438\\u044f\", \"\\u043a\\u0430\\u043a\\u0442\\u043e\", \"\\u043a\\u0430\\u043a\\u0442\\u043e\", \"\\u043a\\u0430\\u0440\\u0442\\u0430\", \"\\u043a\\u0430\\u0440\\u0442\\u043e\\u0447\\u043a\\u0430\", \"\\u043a\\u0430\\u0440\\u0442\\u043e\\u0447\\u043a\\u0430\", \"\\u043a\\u0430\\u0440\\u0442\\u043e\\u0447\\u043a\\u0430\", \"\\u043a\\u0430\\u0440\\u0442\\u043e\\u0447\\u043d\\u044b\\u0439\", \"\\u043a\\u0430\\u0441\\u0441\\u0430\", \"\\u043a\\u0430\\u0441\\u0441\\u0438\\u0440\", \"\\u043a\\u0430\\u0447\\u0435\\u0441\\u0442\\u0432\\u043e\", \"\\u043a\\u0430\\u0447\\u0435\\u0441\\u0442\\u0432\\u043e\", \"\\u043a\\u0432\\u0430\\u0440\\u0442\\u0438\\u0440\\u0430\", \"\\u043a\\u0432\\u0438\\u0442\\u0430\\u043d\\u0446\\u0438\\u044f\", \"\\u043a\\u043b\\u0438\\u0435\\u043d\\u0442\", \"\\u043a\\u043b\\u0438\\u0435\\u043d\\u0442\", \"\\u043a\\u043b\\u0438\\u0435\\u043d\\u0442\", \"\\u043a\\u043b\\u0438\\u0435\\u043d\\u0442\", \"\\u043a\\u043d\\u0438\\u0433\\u0430\", \"\\u043a\\u043d\\u0438\\u0436\\u043a\\u0430\", \"\\u043a\\u043e\\u0434\", \"\\u043a\\u043e\\u043c\\u0438\\u0441\\u0441\\u0438\\u044f\", \"\\u043a\\u043e\\u043c\\u0438\\u0442\\u0435\\u0442\", \"\\u043a\\u043e\\u043c\\u043f\\u0430\\u043d\\u0438\\u044f\", \"\\u043a\\u043e\\u043c\\u043f\\u0430\\u043d\\u0438\\u044f\", \"\\u043a\\u043e\\u043c\\u043f\\u044c\\u044e\\u0442\\u0435\\u0440\", \"\\u043a\\u043e\\u043d\\u0432\\u0435\\u0440\\u0442\\u0430\\u0446\\u0438\\u044f\", \"\\u043a\\u043e\\u043f\\u0438\\u044f\", \"\\u043a\\u043e\\u043f\\u0438\\u044f\", \"\\u043a\\u043e\\u0440\\u043e\\u0447\\u0435\", \"\\u043a\\u043e\\u0442\\u043e\\u0440\\u044b\\u0439\", \"\\u043a\\u043e\\u0442\\u043e\\u0440\\u044b\\u0439\", \"\\u043a\\u043e\\u0442\\u043e\\u0440\\u044b\\u0439\", \"\\u043a\\u043e\\u0442\\u043e\\u0440\\u044b\\u0439\", \"\\u043a\\u043e\\u0442\\u043e\\u0440\\u044b\\u0439\", \"\\u043a\\u043e\\u0442\\u043e\\u0440\\u044b\\u0439\", \"\\u043a\\u043e\\u0442\\u043e\\u0440\\u044b\\u0439\", \"\\u043a\\u0440\\u0435\\u0434\\u0438\\u0442\", \"\\u043a\\u0440\\u0435\\u0434\\u0438\\u0442\\u043a\\u0430\", \"\\u043a\\u0440\\u0435\\u0434\\u0438\\u0442\\u043a\\u0430\", \"\\u043a\\u0440\\u0435\\u0434\\u0438\\u0442\\u043d\\u044b\\u0439\", \"\\u043a\\u0440\\u0435\\u0434\\u0438\\u0442\\u043d\\u044b\\u0439\", \"\\u043a\\u0440\\u0435\\u0434\\u0438\\u0442\\u043d\\u044b\\u0439\", \"\\u043a\\u0440\\u0435\\u0434\\u0438\\u0442\\u043e\\u0432\\u0430\\u043d\\u0438\\u0435\", \"\\u043a\\u0443\\u043f\\u044e\\u0440\\u0430\", \"\\u043a\\u0443\\u0447\\u0430\", \"\\u043b\\u0430\\u0434\\u043d\\u044b\\u0439\", \"\\u043b\\u0438\\u043c\\u0438\\u0442\", \"\\u043b\\u0438\\u043d\\u0438\\u044f\", \"\\u043b\\u0438\\u0446\\u043e\", \"\\u043b\\u0438\\u0446\\u043e\", \"\\u043b\\u0438\\u0446\\u043e\", \"\\u043b\\u0438\\u0446\\u043e\", \"\\u043c\\u0435\\u043b\\u043a\\u0438\\u0439\", \"\\u043c\\u0435\\u043d\\u0435\\u0434\\u0436\\u0435\\u0440\", \"\\u043c\\u0435\\u043d\\u0435\\u0434\\u0436\\u0435\\u0440\", \"\\u043c\\u0435\\u043d\\u0435\\u0434\\u0436\\u0435\\u0440\", \"\\u043c\\u0435\\u043d\\u0435\\u0434\\u0436\\u0435\\u0440\", \"\\u043c\\u0435\\u0441\\u044f\\u0446\", \"\\u043c\\u0435\\u0441\\u044f\\u0446\", \"\\u043c\\u0435\\u0441\\u044f\\u0446\", \"\\u043c\\u0438\\u043b\\u044b\\u0439\", \"\\u043c\\u0438\\u043d\\u0443\\u0442\\u0430\", \"\\u043c\\u043d\\u043e\\u0433\\u0438\\u0439\", \"\\u043c\\u043e\\u0439\", \"\\u043c\\u043e\\u0439\", \"\\u043c\\u043e\\u0439\", \"\\u043c\\u043e\\u0439\", \"\\u043c\\u043e\\u043b\", \"\\u043c\\u043e\\u043b\", \"\\u043c\\u043e\\u043b\\u043e\\u0434\\u0430\\u044f\", \"\\u043c\\u043e\\u0440\\u0430\\u043b\\u044c\\u043d\\u044b\\u0439\", \"\\u043c\\u043e\\u0441\\u043a\\u0432\\u0430\", \"\\u043c\\u043e\\u0441\\u043a\\u0432\\u0430\", \"\\u043c\\u043e\\u0441\\u043a\\u0432\\u0430\", \"\\u043c\\u043e\\u0447\\u044c\", \"\\u043c\\u043e\\u0447\\u044c\", \"\\u043c\\u043e\\u0447\\u044c\", \"\\u043c\\u043e\\u0447\\u044c\", \"\\u043c\\u043e\\u0447\\u044c\", \"\\u043c\\u044b\", \"\\u043c\\u044b\", \"\\u043d\\u0430\\u0432\\u0435\\u0440\\u043d\\u043e\\u0435\", \"\\u043d\\u0430\\u0437\\u0432\\u0430\\u043d\\u0438\\u0432\\u0430\\u0442\\u044c\", \"\\u043d\\u0430\\u043b\\u0438\\u0447\\u043d\\u044b\\u0439\", \"\\u043d\\u0430\\u043b\\u0438\\u0447\\u043d\\u044b\\u0439\", \"\\u043d\\u0430\\u043b\\u0438\\u0447\\u043d\\u044b\\u0439\", \"\\u043d\\u0430\\u043b\\u0438\\u0447\\u043d\\u044b\\u0439\", \"\\u043d\\u0430\\u043b\\u043e\\u0433\\u043e\\u0432\\u044b\\u0439\", \"\\u043d\\u0430\\u043f\\u0438\\u0441\\u0430\\u0442\\u044c\", \"\\u043d\\u0430\\u043f\\u0440\\u0430\\u0432\\u0438\\u0442\\u044c\", \"\\u043d\\u0430\\u043f\\u0440\\u0430\\u0432\\u0438\\u0442\\u044c\", \"\\u043d\\u0430\\u0440\\u043e\\u0434\", \"\\u043d\\u0430\\u0440\\u0443\\u0448\\u0435\\u043d\\u0438\\u0435\", \"\\u043d\\u0430\\u0448\", \"\\u043d\\u0430\\u0448\", \"\\u043d\\u0430\\u0448\", \"\\u043d\\u0434\\u0444\\u043b\", \"\\u043d\\u0435\\u0434\\u0435\\u043b\\u044f\", \"\\u043d\\u0435\\u043e\\u0431\\u0445\\u043e\\u0434\\u0438\\u043c\\u044b\\u0439\", \"\\u043d\\u0435\\u043e\\u0431\\u0445\\u043e\\u0434\\u0438\\u043c\\u044b\\u0439\", \"\\u043d\\u0435\\u043e\\u0431\\u0445\\u043e\\u0434\\u0438\\u043c\\u044b\\u0439\", \"\\u043d\\u0435\\u043e\\u0431\\u0445\\u043e\\u0434\\u0438\\u043c\\u044b\\u0439\", \"\\u043d\\u0435\\u043e\\u0431\\u0445\\u043e\\u0434\\u0438\\u043c\\u044b\\u0439\", \"\\u043d\\u043e\\u0440\\u043c\\u0430\\u043b\\u044c\\u043d\\u044b\\u0439\", \"\\u043d\\u043e\\u0440\\u043c\\u0430\\u043b\\u044c\\u043d\\u044b\\u0439\", \"\\u043d\\u0440\\u0430\\u0432\\u0438\\u0442\\u044c\\u0441\\u044f\", \"\\u043e\\u0430\\u043e\", \"\\u043e\\u0431\\u0435\\u0434\", \"\\u043e\\u0431\\u0435\\u0449\\u0430\\u0442\\u044c\", \"\\u043e\\u0431\\u0441\\u043b\\u0443\\u0436\\u0438\\u0432\\u0430\\u043d\\u0438\\u0435\", \"\\u043e\\u0431\\u0441\\u043b\\u0443\\u0436\\u0438\\u0432\\u0430\\u043d\\u0438\\u0435\", \"\\u043e\\u0431\\u0441\\u043b\\u0443\\u0436\\u0438\\u0432\\u0430\\u0442\\u044c\", \"\\u043e\\u0431\\u0441\\u043b\\u0443\\u0436\\u0438\\u0432\\u0430\\u0442\\u044c\\u0441\\u044f\", \"\\u043e\\u0431\\u0441\\u043b\\u0443\\u0436\\u0438\\u0432\\u0430\\u0442\\u044c\\u0441\\u044f\", \"\\u043e\\u0431\\u0449\\u0438\\u0439\", \"\\u043e\\u0431\\u0449\\u0438\\u0439\", \"\\u043e\\u0431\\u0449\\u0438\\u0439\", \"\\u043e\\u0431\\u0449\\u0438\\u0439\", \"\\u043e\\u0431\\u044a\\u044f\\u0432\\u0438\\u0442\\u044c\", \"\\u043e\\u0431\\u044f\\u0437\\u0430\\u0442\\u044c\", \"\\u043e\\u0431\\u044f\\u0437\\u0430\\u0442\\u044c\", \"\\u043e\\u0431\\u044f\\u0437\\u0430\\u0442\\u044c\", \"\\u043e\\u0432\\u0435\\u0440\\u0434\\u0440\\u0430\\u0444\\u0442\", \"\\u043e\\u0434\\u0438\\u043d\", \"\\u043e\\u0434\\u0438\\u043d\", \"\\u043e\\u0434\\u0438\\u043d\", \"\\u043e\\u0434\\u0438\\u043d\", \"\\u043e\\u0434\\u0438\\u043d\", \"\\u043e\\u0434\\u043e\\u0431\\u0440\\u0438\\u0442\\u044c\", \"\\u043e\\u0436\\u0438\\u0434\\u0430\\u043d\\u0438\\u0435\", \"\\u043e\\u043f\\u0435\\u0440\\u0430\\u0442\\u043e\\u0440\", \"\\u043e\\u043f\\u0435\\u0440\\u0430\\u0442\\u043e\\u0440\", \"\\u043e\\u043f\\u0435\\u0440\\u0430\\u0442\\u043e\\u0440\", \"\\u043e\\u043f\\u0435\\u0440\\u0430\\u0446\\u0438\\u043e\\u043d\\u0438\\u0441\\u0442\\u043a\\u0430\", \"\\u043e\\u043f\\u0435\\u0440\\u0430\\u0446\\u0438\\u043e\\u043d\\u0438\\u0441\\u0442\\u043a\\u0430\", \"\\u043e\\u043f\\u0435\\u0440\\u0430\\u0446\\u0438\\u044f\", \"\\u043e\\u043f\\u043b\\u0430\\u0442\\u0430\", \"\\u043e\\u043f\\u043b\\u0430\\u0442\\u0430\", \"\\u043e\\u043f\\u043b\\u0430\\u0442\\u0430\", \"\\u043e\\u043f\\u043b\\u0430\\u0442\\u0438\\u0442\\u044c\", \"\\u043e\\u043f\\u043b\\u0430\\u0442\\u0438\\u0442\\u044c\", \"\\u043e\\u043f\\u043b\\u0430\\u0442\\u0438\\u0442\\u044c\", \"\\u043e\\u043f\\u043b\\u0430\\u0442\\u0438\\u0442\\u044c\", \"\\u043e\\u043f\\u044b\\u0442\", \"\\u043e\\u043f\\u044b\\u0442\", \"\\u043e\\u0441\\u043d\\u043e\\u0432\\u0430\\u043d\\u0438\\u0435\", \"\\u043e\\u0441\\u043d\\u043e\\u0432\\u0430\\u043d\\u0438\\u0435\", \"\\u043e\\u0441\\u0442\\u0430\\u0442\\u043e\\u043a\", \"\\u043e\\u0441\\u0442\\u0430\\u0442\\u043e\\u043a\", \"\\u043e\\u0442\\u0432\\u0435\\u0442\", \"\\u043e\\u0442\\u0432\\u0435\\u0442\", \"\\u043e\\u0442\\u0432\\u0435\\u0442\\u0438\\u0442\\u044c\", \"\\u043e\\u0442\\u0432\\u0435\\u0442\\u0438\\u0442\\u044c\", \"\\u043e\\u0442\\u0432\\u0435\\u0442\\u0438\\u0442\\u044c\", \"\\u043e\\u0442\\u0432\\u0435\\u0442\\u0441\\u0442\\u0432\\u0435\\u043d\\u043d\\u043e\\u0441\\u0442\\u044c\", \"\\u043e\\u0442\\u0434\\u0435\\u043b\", \"\\u043e\\u0442\\u0434\\u0435\\u043b\", \"\\u043e\\u0442\\u0434\\u0435\\u043b\", \"\\u043e\\u0442\\u0434\\u0435\\u043b\", \"\\u043e\\u0442\\u0434\\u0435\\u043b\\u0435\\u043d\\u0438\\u0435\", \"\\u043e\\u0442\\u0434\\u0435\\u043b\\u0435\\u043d\\u0438\\u0435\", \"\\u043e\\u0442\\u0437\\u044b\\u0432\", \"\\u043e\\u0442\\u0437\\u044b\\u0432\", \"\\u043e\\u0442\\u0437\\u044b\\u0432\", \"\\u043e\\u0442\\u0437\\u044b\\u0432\", \"\\u043e\\u0442\\u043a\\u0430\\u0437\", \"\\u043e\\u0442\\u043a\\u0430\\u0437\", \"\\u043e\\u0442\\u043a\\u0430\\u0437\", \"\\u043e\\u0442\\u043a\\u0430\\u0437\", \"\\u043e\\u0442\\u043a\\u0430\\u0437\\u0430\\u0442\\u044c\", \"\\u043e\\u0442\\u043a\\u0430\\u0437\\u0430\\u0442\\u044c\", \"\\u043e\\u0442\\u043a\\u0430\\u0437\\u0430\\u0442\\u044c\", \"\\u043e\\u0442\\u043a\\u0440\\u044b\\u0432\\u0430\\u0442\\u044c\", \"\\u043e\\u0442\\u043a\\u0440\\u044b\\u0442\\u0438\\u0435\", \"\\u043e\\u0442\\u043a\\u0440\\u044b\\u0442\\u044c\", \"\\u043e\\u0442\\u043b\\u0438\\u0447\\u043d\\u044b\\u0439\", \"\\u043e\\u0442\\u043f\\u0443\\u0441\\u043a\", \"\\u043e\\u0444\\u0438\\u0441\", \"\\u043e\\u0444\\u0438\\u0441\", \"\\u043e\\u0444\\u0438\\u0441\", \"\\u043e\\u0444\\u0438\\u0446\\u0438\\u0430\\u043b\\u044c\\u043d\\u044b\\u0439\", \"\\u043e\\u0444\\u0438\\u0446\\u0438\\u0430\\u043b\\u044c\\u043d\\u044b\\u0439\", \"\\u043e\\u0444\\u0438\\u0446\\u0438\\u0430\\u043b\\u044c\\u043d\\u044b\\u0439\", \"\\u043e\\u0444\\u0438\\u0446\\u0438\\u0430\\u043b\\u044c\\u043d\\u044b\\u0439\", \"\\u043e\\u0444\\u043e\\u0440\\u043c\\u0438\\u0442\\u044c\", \"\\u043e\\u0444\\u043e\\u0440\\u043c\\u0438\\u0442\\u044c\", \"\\u043e\\u0444\\u043e\\u0440\\u043c\\u0438\\u0442\\u044c\", \"\\u043e\\u0444\\u043e\\u0440\\u043c\\u0438\\u0442\\u044c\", \"\\u043e\\u0444\\u043e\\u0440\\u043c\\u0438\\u0442\\u044c\", \"\\u043e\\u0446\\u0435\\u043d\\u043a\\u0430\", \"\\u043e\\u0447\\u0435\\u0440\\u0435\\u0434\\u044c\", \"\\u043e\\u0448\\u0438\\u0431\\u043a\\u0430\", \"\\u043e\\u0448\\u0438\\u0431\\u043a\\u0430\", \"\\u043f\\u0430\\u0432\\u0435\\u043b\\u0435\\u0446\\u043a\\u0438\\u0439\", \"\\u043f\\u0430\\u043a\\u0435\\u0442\", \"\\u043f\\u0430\\u043a\\u0435\\u0442\", \"\\u043f\\u0430\\u043a\\u0435\\u0442\", \"\\u043f\\u0430\\u0441\\u043f\\u043e\\u0440\\u0442\", \"\\u043f\\u0435\\u0440\\u0435\\u0432\\u043e\\u0434\", \"\\u043f\\u0435\\u0440\\u0435\\u0432\\u044b\\u043f\\u0443\\u0441\\u043a\", \"\\u043f\\u0435\\u0440\\u0435\\u0437\\u0432\\u043e\\u043d\\u0438\\u0442\\u044c\", \"\\u043f\\u0435\\u0440\\u0435\\u043f\\u043b\\u0430\\u0442\\u0430\", \"\\u043f\\u0435\\u0440\\u0441\\u043e\\u043d\\u0430\\u043b\", \"\\u043f\\u0435\\u0440\\u0441\\u043e\\u043d\\u0430\\u043b\\u044c\\u043d\\u044b\\u0439\", \"\\u043f\\u0435\\u0447\\u0430\\u0442\\u044c\", \"\\u043f\\u0438\\u043d\\u043a\\u043e\\u0434\", \"\\u043f\\u0438\\u0441\\u044c\\u043c\\u0435\\u043d\\u043d\\u044b\\u0439\", \"\\u043f\\u0438\\u0441\\u044c\\u043c\\u0435\\u043d\\u043d\\u044b\\u0439\", \"\\u043f\\u0438\\u0441\\u044c\\u043c\\u043e\", \"\\u043f\\u0438\\u0441\\u044c\\u043c\\u043e\", \"\\u043f\\u0438\\u0441\\u044c\\u043c\\u043e\", \"\\u043f\\u0438\\u0441\\u044c\\u043c\\u043e\", \"\\u043f\\u0438\\u0442\\u0435\\u0440\", \"\\u043f\\u043b\\u0430\\u043d\", \"\\u043f\\u043b\\u0430\\u0441\\u0442\\u0438\\u043a\\u043e\\u0432\\u044b\\u0439\", \"\\u043f\\u043b\\u0430\\u0442\\u0438\\u0442\\u044c\", \"\\u043f\\u043b\\u0430\\u0442\\u0438\\u0442\\u044c\", \"\\u043f\\u043b\\u0430\\u0442\\u0438\\u0442\\u044c\", \"\\u043f\\u043b\\u0430\\u0442\\u0451\\u0436\", \"\\u043f\\u043b\\u0430\\u0442\\u0451\\u0436\", \"\\u043f\\u043b\\u0430\\u0442\\u0451\\u0436\\u043d\\u044b\\u0439\", \"\\u043f\\u043b\\u044e\\u0441\", \"\\u043f\\u043b\\u044e\\u0441\", \"\\u043f\\u043b\\u044e\\u0441\", \"\\u043f\\u043e\\u0433\\u0430\\u0441\\u0438\\u0442\\u044c\", \"\\u043f\\u043e\\u0433\\u0430\\u0448\\u0430\\u0442\\u044c\", \"\\u043f\\u043e\\u0433\\u0430\\u0448\\u0435\\u043d\\u0438\\u0435\", \"\\u043f\\u043e\\u0434\\u0430\\u0440\\u043e\\u043a\", \"\\u043f\\u043e\\u0434\\u043a\\u043b\\u044e\\u0447\\u0438\\u0442\\u044c\", \"\\u043f\\u043e\\u0434\\u043e\\u0439\\u0442\\u0438\", \"\\u043f\\u043e\\u0434\\u043e\\u0439\\u0442\\u0438\", \"\\u043f\\u043e\\u0434\\u043f\\u0438\\u0441\\u0430\\u043d\\u0438\\u0435\", \"\\u043f\\u043e\\u0434\\u043f\\u0438\\u0441\\u0430\\u0442\\u044c\", \"\\u043f\\u043e\\u0434\\u043f\\u0438\\u0441\\u0430\\u0442\\u044c\", \"\\u043f\\u043e\\u0435\\u0445\\u0430\\u0442\\u044c\", \"\\u043f\\u043e\\u0435\\u0445\\u0430\\u0442\\u044c\", \"\\u043f\\u043e\\u0437\\u0432\\u043e\\u043d\\u0438\\u0442\\u044c\", \"\\u043f\\u043e\\u043b\\u043e\\u0436\\u0438\\u0442\\u0435\\u043b\\u044c\\u043d\\u044b\\u0439\", \"\\u043f\\u043e\\u043b\\u043e\\u0436\\u0438\\u0442\\u0435\\u043b\\u044c\\u043d\\u044b\\u0439\", \"\\u043f\\u043e\\u043b\\u043e\\u0436\\u0438\\u0442\\u0435\\u043b\\u044c\\u043d\\u044b\\u0439\", \"\\u043f\\u043e\\u043b\\u0443\\u0447\\u0435\\u043d\\u0438\\u0435\", \"\\u043f\\u043e\\u043b\\u0443\\u0447\\u0435\\u043d\\u0438\\u0435\", \"\\u043f\\u043e\\u043b\\u0443\\u0447\\u0435\\u043d\\u0438\\u0435\", \"\\u043f\\u043e\\u043b\\u0443\\u0447\\u0435\\u043d\\u0438\\u0435\", \"\\u043f\\u043e\\u043b\\u0443\\u0447\\u0435\\u043d\\u0438\\u0435\", \"\\u043f\\u043e\\u043b\\u0443\\u0447\\u0435\\u043d\\u0438\\u0435\", \"\\u043f\\u043e\\u043b\\u0443\\u0447\\u0438\\u0442\\u044c\", \"\\u043f\\u043e\\u043b\\u0443\\u0447\\u0438\\u0442\\u044c\", \"\\u043f\\u043e\\u043b\\u0443\\u0447\\u0438\\u0442\\u044c\", \"\\u043f\\u043e\\u043b\\u0443\\u0447\\u0438\\u0442\\u044c\", \"\\u043f\\u043e\\u043b\\u0443\\u0447\\u0438\\u0442\\u044c\", \"\\u043f\\u043e\\u043b\\u044c\\u0437\\u043e\\u0432\\u0430\\u0442\\u044c\\u0441\\u044f\", \"\\u043f\\u043e\\u043b\\u044c\\u0437\\u043e\\u0432\\u0430\\u0442\\u044c\\u0441\\u044f\", \"\\u043f\\u043e\\u043d\\u0435\\u0434\\u0435\\u043b\\u044c\\u043d\\u0438\\u043a\", \"\\u043f\\u043e\\u043d\\u0440\\u0430\\u0432\\u0438\\u0442\\u044c\\u0441\\u044f\", \"\\u043f\\u043e\\u043d\\u044f\\u0442\\u044c\", \"\\u043f\\u043e\\u043d\\u044f\\u0442\\u044c\", \"\\u043f\\u043e\\u043d\\u044f\\u0442\\u044c\", \"\\u043f\\u043e\\u043d\\u044f\\u0442\\u044c\", \"\\u043f\\u043e\\u0440\\u0430\", \"\\u043f\\u043e\\u0440\\u0430\", \"\\u043f\\u043e\\u0440\\u0443\\u0447\\u0438\\u0442\\u0435\\u043b\\u044c\", \"\\u043f\\u043e\\u0441\\u0442\\u0443\\u043f\\u0430\\u0442\\u044c\", \"\\u043f\\u043e\\u0442\\u0440\\u0430\\u0442\\u0438\\u0442\\u044c\", \"\\u043f\\u043e\\u0442\\u0440\\u0435\\u0431\\u0438\\u0442\\u0435\\u043b\\u044c\", \"\\u043f\\u043e\\u0442\\u0440\\u0435\\u0431\\u0438\\u0442\\u0435\\u043b\\u044c\\u0441\\u043a\\u0438\\u0439\", \"\\u043f\\u0440\\u0430\\u0432\\u043e\", \"\\u043f\\u0440\\u0430\\u0432\\u043e\", \"\\u043f\\u0440\\u0430\\u0432\\u043e\", \"\\u043f\\u0440\\u0435\\u0434\\u043e\\u0441\\u0442\\u0430\\u0432\\u0438\\u0442\\u044c\", \"\\u043f\\u0440\\u0435\\u0434\\u043e\\u0441\\u0442\\u0430\\u0432\\u0438\\u0442\\u044c\", \"\\u043f\\u0440\\u0435\\u0434\\u043e\\u0441\\u0442\\u0430\\u0432\\u0438\\u0442\\u044c\", \"\\u043f\\u0440\\u0435\\u0434\\u043e\\u0441\\u0442\\u0430\\u0432\\u0438\\u0442\\u044c\", \"\\u043f\\u0440\\u0435\\u0434\\u043f\\u0440\\u0438\\u044f\\u0442\\u0438\\u0435\", \"\\u043f\\u0440\\u0435\\u0434\\u0441\\u0442\\u0430\\u0432\\u043b\\u044f\\u0442\\u044c\\u0441\\u044f\", \"\\u043f\\u0440\\u0435\\u043a\\u0440\\u0430\\u0442\\u0438\\u0442\\u044c\", \"\\u043f\\u0440\\u0435\\u0442\\u0435\\u043d\\u0437\\u0438\\u044f\", \"\\u043f\\u0440\\u0435\\u0442\\u0435\\u043d\\u0437\\u0438\\u044f\", \"\\u043f\\u0440\\u0438\\u0435\\u0437\\u0436\\u0430\\u0442\\u044c\", \"\\u043f\\u0440\\u0438\\u043b\\u0438\\u0447\\u043d\\u044b\\u0439\", \"\\u043f\\u0440\\u0438\\u043c\\u0435\\u0440\", \"\\u043f\\u0440\\u0438\\u043d\\u0435\\u0441\\u0442\\u0438\", \"\\u043f\\u0440\\u0438\\u043d\\u0435\\u0441\\u0442\\u0438\", \"\\u043f\\u0440\\u0438\\u043d\\u044f\\u0442\\u044c\", \"\\u043f\\u0440\\u0438\\u043d\\u044f\\u0442\\u044c\", \"\\u043f\\u0440\\u0438\\u0442\\u043e\\u043c\", \"\\u043f\\u0440\\u0438\\u044f\\u0442\\u043d\\u043e\", \"\\u043f\\u0440\\u0438\\u044f\\u0442\\u043d\\u044b\\u0439\", \"\\u043f\\u0440\\u0438\\u044f\\u0442\\u043d\\u044b\\u0439\", \"\\u043f\\u0440\\u043e\\u0431\\u043b\\u0435\\u043c\\u0430\", \"\\u043f\\u0440\\u043e\\u0431\\u043b\\u0435\\u043c\\u0430\", \"\\u043f\\u0440\\u043e\\u0431\\u043b\\u0435\\u043c\\u0430\", \"\\u043f\\u0440\\u043e\\u0431\\u043b\\u0435\\u043c\\u0430\", \"\\u043f\\u0440\\u043e\\u0432\\u0435\\u0440\\u043a\\u0430\", \"\\u043f\\u0440\\u043e\\u0434\\u0430\\u0432\\u0435\\u0446\", \"\\u043f\\u0440\\u043e\\u0434\\u043e\\u043b\\u0436\\u0430\\u0442\\u044c\\u0441\\u044f\", \"\\u043f\\u0440\\u043e\\u0434\\u0443\\u043a\\u0442\", \"\\u043f\\u0440\\u043e\\u043f\\u0438\\u0441\\u043a\\u0430\", \"\\u043f\\u0440\\u043e\\u0441\\u0438\\u0442\\u044c\", \"\\u043f\\u0440\\u043e\\u0441\\u0438\\u0442\\u044c\", \"\\u043f\\u0440\\u043e\\u0441\\u0438\\u0442\\u044c\", \"\\u043f\\u0440\\u043e\\u0441\\u0438\\u0442\\u044c\", \"\\u043f\\u0440\\u043e\\u0441\\u0440\\u043e\\u0447\\u043a\\u0430\", \"\\u043f\\u0440\\u043e\\u0441\\u0442\\u043e\", \"\\u043f\\u0440\\u043e\\u0441\\u0442\\u043e\", \"\\u043f\\u0440\\u043e\\u0441\\u0442\\u043e\", \"\\u043f\\u0440\\u043e\\u0441\\u0442\\u043e\", \"\\u043f\\u0440\\u043e\\u0446\\u0435\\u043d\\u0442\", \"\\u043f\\u0440\\u043e\\u0446\\u0435\\u043d\\u0442\", \"\\u043f\\u0440\\u043e\\u0448\\u043b\\u044b\\u0439\", \"\\u043f\\u044f\\u0442\\u043d\\u0438\\u0446\\u0430\", \"\\u0440\\u0430\\u0431\\u043e\\u0442\\u0430\", \"\\u0440\\u0430\\u0431\\u043e\\u0442\\u0430\", \"\\u0440\\u0430\\u0431\\u043e\\u0442\\u0430\", \"\\u0440\\u0430\\u0431\\u043e\\u0442\\u0430\", \"\\u0440\\u0430\\u0431\\u043e\\u0442\\u0430\\u0442\\u044c\", \"\\u0440\\u0430\\u0434\\u043e\\u0432\\u0430\\u0442\\u044c\", \"\\u0440\\u0430\\u0441\\u0441\\u043c\\u043e\\u0442\\u0440\\u0435\\u043d\\u0438\\u0435\", \"\\u0440\\u0435\\u0433\\u0438\\u0441\\u0442\\u0440\\u0430\\u0446\\u0438\\u044f\", \"\\u0440\\u0435\\u0433\\u0443\\u043b\\u044f\\u0440\\u043d\\u043e\", \"\\u0440\\u0435\\u0439\\u0442\\u0438\\u043d\\u0433\", \"\\u0440\\u0435\\u0448\\u0435\\u043d\\u0438\\u0435\", \"\\u0440\\u0435\\u0448\\u0435\\u043d\\u0438\\u0435\", \"\\u0440\\u0435\\u0448\\u0435\\u043d\\u0438\\u0435\", \"\\u0440\\u0435\\u0448\\u0435\\u043d\\u0438\\u0435\", \"\\u0440\\u0435\\u0448\\u0435\\u043d\\u0438\\u0435\", \"\\u0440\\u0435\\u0448\\u0438\\u0442\\u044c\", \"\\u0440\\u0435\\u0448\\u0438\\u0442\\u044c\", \"\\u0440\\u0435\\u0448\\u0438\\u0442\\u044c\", \"\\u0440\\u0435\\u0448\\u0438\\u0442\\u044c\", \"\\u0440\\u043e\\u0441\\u0431\\u0430\\u043d\\u043a\", \"\\u0440\\u0443\\u0431\\u043b\\u044c\", \"\\u0440\\u0443\\u0431\\u043b\\u044c\", \"\\u0440\\u0444\", \"\\u0440\\u044b\\u043d\\u043e\\u043a\", \"\\u0440\\u044f\\u0434\", \"\\u0440\\u044f\\u0434\", \"\\u0441\\u0430\\u0439\\u0442\", \"\\u0441\\u0430\\u0439\\u0442\", \"\\u0441\\u0430\\u0439\\u0442\", \"\\u0441\\u0430\\u0439\\u0442\", \"\\u0441\\u0430\\u043b\\u043e\\u043d\", \"\\u0441\\u0430\\u043c\\u044b\\u0439\", \"\\u0441\\u0430\\u043c\\u044b\\u0439\", \"\\u0441\\u0430\\u043c\\u044b\\u0439\", \"\\u0441\\u0430\\u043c\\u044b\\u0439\", \"\\u0441\\u0430\\u043c\\u044b\\u0439\", \"\\u0441\\u0431\\u0435\\u0440\", \"\\u0441\\u0431\\u0435\\u0440\", \"\\u0441\\u0431\\u0435\\u0440\\u0431\\u0430\\u043d\\u043a\", \"\\u0441\\u0431\\u0435\\u0440\\u0431\\u0430\\u043d\\u043a\", \"\\u0441\\u0432\\u043e\\u0439\", \"\\u0441\\u0432\\u043e\\u0439\", \"\\u0441\\u0432\\u043e\\u0439\", \"\\u0441\\u0432\\u043e\\u0439\", \"\\u0441\\u0432\\u043e\\u0439\", \"\\u0441\\u0434\\u0435\\u043b\\u043a\\u0430\", \"\\u0441\\u0435\\u0433\\u043e\\u0434\\u043d\\u044f\", \"\\u0441\\u0435\\u0433\\u043e\\u0434\\u043d\\u044f\", \"\\u0441\\u0435\\u0439\", \"\\u0441\\u0438\\u0434\\u0435\\u0442\\u044c\", \"\\u0441\\u0438\\u0441\\u0442\\u0435\\u043c\\u0430\", \"\\u0441\\u0438\\u0441\\u0442\\u0435\\u043c\\u0430\", \"\\u0441\\u0438\\u0441\\u0442\\u0435\\u043c\\u0430\", \"\\u0441\\u0438\\u0442\\u0438\", \"\\u0441\\u0438\\u0442\\u0438\\u0431\\u0430\\u043d\\u043a\", \"\\u0441\\u0438\\u0442\\u0438\\u0444\\u043e\\u043d\", \"\\u0441\\u043a\\u0430\\u0437\\u0430\\u0442\\u044c\", \"\\u0441\\u043a\\u0430\\u0437\\u0430\\u0442\\u044c\", \"\\u0441\\u043a\\u0430\\u0437\\u0430\\u0442\\u044c\", \"\\u0441\\u043b\\u0435\\u0434\\u0443\\u044e\\u0449\\u0438\\u0439\", \"\\u0441\\u043b\\u0435\\u0434\\u0443\\u044e\\u0449\\u0438\\u0439\", \"\\u0441\\u043b\\u0435\\u0434\\u0443\\u044e\\u0449\\u0438\\u0439\", \"\\u0441\\u043b\\u0435\\u0434\\u0443\\u044e\\u0449\\u0438\\u0439\", \"\\u0441\\u043d\\u0438\\u043c\\u0430\\u0442\\u044c\", \"\\u0441\\u043d\\u0438\\u043c\\u0430\\u0442\\u044c\", \"\\u0441\\u043d\\u0438\\u043c\\u0430\\u0442\\u044c\", \"\\u0441\\u043d\\u043e\\u0432\\u0430\", \"\\u0441\\u043d\\u043e\\u0432\\u0430\", \"\\u0441\\u043d\\u044f\\u0442\\u0438\\u0435\", \"\\u0441\\u043d\\u044f\\u0442\\u044c\", \"\\u0441\\u043d\\u044f\\u0442\\u044c\", \"\\u0441\\u043e\\u0431\\u0440\\u0430\\u0442\\u044c\", \"\\u0441\\u043e\\u043b\\u0438\\u0434\\u043d\\u044b\\u0439\", \"\\u0441\\u043e\\u043e\\u0431\\u0449\\u0438\\u0442\\u044c\", \"\\u0441\\u043e\\u043e\\u0431\\u0449\\u0438\\u0442\\u044c\", \"\\u0441\\u043e\\u043e\\u0431\\u0449\\u0438\\u0442\\u044c\", \"\\u0441\\u043e\\u0442\\u0440\\u0443\\u0434\\u043d\\u0438\\u043a\", \"\\u0441\\u043e\\u0442\\u0440\\u0443\\u0434\\u043d\\u0438\\u043a\", \"\\u0441\\u043e\\u0442\\u0440\\u0443\\u0434\\u043d\\u0438\\u043a\", \"\\u0441\\u043e\\u0442\\u0440\\u0443\\u0434\\u043d\\u0438\\u043a\", \"\\u0441\\u043e\\u0442\\u0440\\u0443\\u0434\\u043d\\u0438\\u043a\", \"\\u0441\\u043f\\u0438\\u0441\\u0430\\u043d\\u0438\\u0435\", \"\\u0441\\u043f\\u0438\\u0441\\u0430\\u0442\\u044c\", \"\\u0441\\u043f\\u0438\\u0441\\u0430\\u0442\\u044c\", \"\\u0441\\u043f\\u0440\\u0430\\u0432\\u043a\\u0430\", \"\\u0441\\u043f\\u0440\\u0430\\u0432\\u043a\\u0430\", \"\\u0441\\u043f\\u0440\\u0430\\u0432\\u043e\\u0447\\u043d\\u044b\\u0439\", \"\\u0441\\u043f\\u0440\\u0430\\u0448\\u0438\\u0432\\u0430\\u0442\\u044c\", \"\\u0441\\u0440\\u0435\\u0434\\u0441\\u0442\\u0432\\u043e\", \"\\u0441\\u0440\\u0435\\u0434\\u0441\\u0442\\u0432\\u043e\", \"\\u0441\\u0440\\u0435\\u0434\\u0441\\u0442\\u0432\\u043e\", \"\\u0441\\u0442\\u0430\\u0432\\u043a\\u0430\", \"\\u0441\\u0442\\u0430\\u0432\\u043a\\u0430\", \"\\u0441\\u0442\\u0430\\u0442\\u044c\", \"\\u0441\\u0442\\u0430\\u0442\\u044c\", \"\\u0441\\u0442\\u0430\\u0442\\u044c\", \"\\u0441\\u0442\\u0430\\u0442\\u044c\", \"\\u0441\\u0442\\u0430\\u0442\\u044c\", \"\\u0441\\u0442\\u0430\\u0442\\u044c\", \"\\u0441\\u0442\\u0430\\u0442\\u044c\\u044f\", \"\\u0441\\u0442\\u043e\\u044f\\u0442\\u044c\", \"\\u0441\\u0442\\u0440\\u0430\\u0445\\u043e\\u0432\\u043a\\u0430\", \"\\u0441\\u0442\\u0440\\u0430\\u0445\\u043e\\u0432\\u043e\\u0439\", \"\\u0441\\u0443\\u0434\", \"\\u0441\\u0443\\u0434\", \"\\u0441\\u0443\\u0434\\u0435\\u0431\\u043d\\u044b\\u0439\", \"\\u0441\\u0443\\u043c\\u043c\\u0430\", \"\\u0441\\u0443\\u043c\\u043c\\u0430\", \"\\u0441\\u0443\\u043c\\u043c\\u0430\", \"\\u0441\\u0447\\u0451\\u0442\", \"\\u0441\\u0447\\u0451\\u0442\", \"\\u0442\\u0430\\u0439\\u043d\\u0430\", \"\\u0442\\u0430\\u043a\\u043e\\u0439\", \"\\u0442\\u0430\\u043a\\u043e\\u0439\", \"\\u0442\\u0430\\u043a\\u043e\\u0439\", \"\\u0442\\u0430\\u043a\\u043e\\u0439\", \"\\u0442\\u0430\\u043a\\u043e\\u0439\", \"\\u0442\\u0430\\u043a\\u043e\\u0439\", \"\\u0442\\u0435\\u043b\\u0435\\u0444\\u043e\\u043d\", \"\\u0442\\u0435\\u043b\\u0435\\u0444\\u043e\\u043d\", \"\\u0442\\u0435\\u043b\\u0435\\u0444\\u043e\\u043d\", \"\\u0442\\u0435\\u043b\\u0435\\u0444\\u043e\\u043d\\u043d\\u044b\\u0439\", \"\\u0442\\u0435\\u043b\\u0435\\u0444\\u043e\\u043d\\u043d\\u044b\\u0439\", \"\\u0442\\u0435\\u043b\\u0435\\u0444\\u043e\\u043d\\u043d\\u044b\\u0439\", \"\\u0442\\u0435\\u0447\\u0435\\u043d\\u0438\\u0435\", \"\\u0442\\u0435\\u0447\\u0435\\u043d\\u0438\\u0435\", \"\\u0442\\u0435\\u0447\\u0435\\u043d\\u0438\\u0435\", \"\\u0442\\u0438\\u043f\", \"\\u0442\\u0438\\u043f\", \"\\u0442\\u043e\\u0442\", \"\\u0442\\u043e\\u0442\", \"\\u0442\\u043e\\u0442\", \"\\u0442\\u043e\\u0442\", \"\\u0442\\u043e\\u0442\", \"\\u0442\\u0440\\u0430\\u043d\\u0437\\u0430\\u043a\\u0446\\u0438\\u044f\", \"\\u0442\\u0440\\u0435\\u0431\\u043e\\u0432\\u0430\\u043d\\u0438\\u0435\", \"\\u0442\\u0440\\u0435\\u0431\\u043e\\u0432\\u0430\\u043d\\u0438\\u0435\", \"\\u0442\\u0440\\u0435\\u0431\\u043e\\u0432\\u0430\\u0442\\u044c\", \"\\u0442\\u0440\\u0435\\u0431\\u043e\\u0432\\u0430\\u0442\\u044c\", \"\\u0442\\u0440\\u0435\\u0431\\u043e\\u0432\\u0430\\u0442\\u044c\", \"\\u0442\\u0440\\u0435\\u0431\\u043e\\u0432\\u0430\\u0442\\u044c\", \"\\u0442\\u0440\\u0435\\u0431\\u043e\\u0432\\u0430\\u0442\\u044c\", \"\\u0442\\u0440\\u0443\\u0434\\u043e\\u0432\\u043e\\u0439\", \"\\u0443\\u0432\\u0430\\u0436\\u0430\\u0435\\u043c\\u044b\\u0439\", \"\\u0443\\u0432\\u0430\\u0436\\u0430\\u0435\\u043c\\u044b\\u0439\", \"\\u0443\\u0432\\u0430\\u0436\\u0430\\u0435\\u043c\\u044b\\u0439\", \"\\u0443\\u0432\\u0430\\u0436\\u0430\\u0435\\u043c\\u044b\\u0439\", \"\\u0443\\u0432\\u0435\\u043b\\u0438\\u0447\\u0438\\u0442\\u044c\", \"\\u0443\\u0433\\u0440\\u043e\\u0437\\u0430\", \"\\u0443\\u0434\\u043e\\u0431\\u043d\\u043e\", \"\\u0443\\u0434\\u043e\\u0431\\u043d\\u043e\", \"\\u0443\\u0434\\u043e\\u0431\\u043d\\u044b\\u0439\", \"\\u0443\\u0437\\u043d\\u0430\\u0442\\u044c\", \"\\u0443\\u0437\\u043d\\u0430\\u0442\\u044c\", \"\\u0443\\u0437\\u043d\\u0430\\u0442\\u044c\", \"\\u0443\\u0440\\u043e\\u0432\\u0435\\u043d\\u044c\", \"\\u0443\\u0441\\u043b\\u043e\\u0432\\u0438\\u0435\", \"\\u0443\\u0441\\u043b\\u043e\\u0432\\u0438\\u0435\", \"\\u0443\\u0441\\u043b\\u0443\\u0433\\u0430\", \"\\u0443\\u0441\\u043b\\u0443\\u0433\\u0430\", \"\\u0443\\u0441\\u043b\\u0443\\u0433\\u0430\", \"\\u0443\\u0442\\u043e\\u0447\\u043d\\u0438\\u0442\\u044c\", \"\\u0443\\u0442\\u043e\\u0447\\u043d\\u0438\\u0442\\u044c\", \"\\u0443\\u0445\\u043e\\u0434\\u0438\\u0442\\u044c\", \"\\u0444\\u0438\\u043d\\u0430\\u043d\\u0441\", \"\\u0444\\u0438\\u0440\\u043c\\u0430\", \"\\u0444\\u043e\\u0440\\u043c\\u0430\", \"\\u0444\\u043e\\u0440\\u043c\\u0430\", \"\\u0444\\u043e\\u0440\\u043c\\u0430\", \"\\u0445\\u0430\\u043c\\u0438\\u0442\\u044c\", \"\\u0445\\u043e\\u0440\\u043e\\u0448\\u0438\\u0439\", \"\\u0445\\u043e\\u0440\\u043e\\u0448\\u0438\\u0439\", \"\\u0445\\u043e\\u0442\\u0435\\u0442\\u044c\", \"\\u0445\\u043e\\u0442\\u0435\\u0442\\u044c\", \"\\u0445\\u043e\\u0442\\u0435\\u0442\\u044c\", \"\\u0445\\u043e\\u0442\\u0435\\u0442\\u044c\", \"\\u0446\\u0431\", \"\\u0446\\u0431\", \"\\u0446\\u0435\\u043b\\u043e\\u0435\", \"\\u0447\\u0430\\u0441\", \"\\u0447\\u0430\\u0441\", \"\\u0447\\u0430\\u0441\\u0442\\u043d\\u043e\\u0435\", \"\\u0447\\u0435\\u043a\", \"\\u0447\\u0435\\u043b\\u043e\\u0432\\u0435\\u043a\", \"\\u0447\\u0435\\u043b\\u043e\\u0432\\u0435\\u043a\", \"\\u0447\\u0435\\u0441\\u0442\\u044c\", \"\\u0447\\u0442\\u043e\\u0442\\u044c\", \"\\u0447\\u0451\\u0442\\u043a\\u043e\", \"\\u0448\\u0442\\u0440\\u0430\\u0444\", \"\\u044d\\u043a\\u0441\\u043f\\u0440\\u0435\\u0441\\u0441\", \"\\u044e\\u0440\\u0438\\u0441\\u0442\", \"\\u044e\\u0440\\u0438\\u0441\\u0442\", \"\\u044f\", \"\\u044f\", \"\\u044f\", \"\\u044f\\u0432\\u043b\\u044f\\u0442\\u044c\\u0441\\u044f\", \"\\u044f\\u0432\\u043b\\u044f\\u0442\\u044c\\u0441\\u044f\", \"\\u044f\\u0432\\u043b\\u044f\\u0442\\u044c\\u0441\\u044f\", \"\\u044f\\u0432\\u043b\\u044f\\u0442\\u044c\\u0441\\u044f\", \"\\u044f\\u0432\\u043b\\u044f\\u0442\\u044c\\u0441\\u044f\", \"\\u044f\\u0449\\u0438\\u043a\", \"\\u2013\"]}, \"R\": 30, \"lambda.step\": 0.01, \"plot.opts\": {\"xlab\": \"PC1\", \"ylab\": \"PC2\"}, \"topic.order\": [2, 3, 5, 7, 6, 1, 4]};\n",
       "\n",
       "function LDAvis_load_lib(url, callback){\n",
       "  var s = document.createElement('script');\n",
       "  s.src = url;\n",
       "  s.async = true;\n",
       "  s.onreadystatechange = s.onload = callback;\n",
       "  s.onerror = function(){console.warn(\"failed to load library \" + url);};\n",
       "  document.getElementsByTagName(\"head\")[0].appendChild(s);\n",
       "}\n",
       "\n",
       "if(typeof(LDAvis) !== \"undefined\"){\n",
       "   // already loaded: just create the visualization\n",
       "   !function(LDAvis){\n",
       "       new LDAvis(\"#\" + \"ldavis_el4964150849966724925298142\", ldavis_el4964150849966724925298142_data);\n",
       "   }(LDAvis);\n",
       "}else if(typeof define === \"function\" && define.amd){\n",
       "   // require.js is available: use it to load d3/LDAvis\n",
       "   require.config({paths: {d3: \"https://cdnjs.cloudflare.com/ajax/libs/d3/3.5.5/d3.min\"}});\n",
       "   require([\"d3\"], function(d3){\n",
       "      window.d3 = d3;\n",
       "      LDAvis_load_lib(\"https://cdn.rawgit.com/bmabey/pyLDAvis/files/ldavis.v1.0.0.js\", function(){\n",
       "        new LDAvis(\"#\" + \"ldavis_el4964150849966724925298142\", ldavis_el4964150849966724925298142_data);\n",
       "      });\n",
       "    });\n",
       "}else{\n",
       "    // require.js not available: dynamically load d3 & LDAvis\n",
       "    LDAvis_load_lib(\"https://cdnjs.cloudflare.com/ajax/libs/d3/3.5.5/d3.min.js\", function(){\n",
       "         LDAvis_load_lib(\"https://cdn.rawgit.com/bmabey/pyLDAvis/files/ldavis.v1.0.0.js\", function(){\n",
       "                 new LDAvis(\"#\" + \"ldavis_el4964150849966724925298142\", ldavis_el4964150849966724925298142_data);\n",
       "            })\n",
       "         });\n",
       "}\n",
       "</script>"
      ],
      "text/plain": [
       "PreparedData(topic_coordinates=              x         y  topics  cluster       Freq\n",
       "topic                                                \n",
       "1     -0.014302 -0.006093       1        1  30.357382\n",
       "2     -0.098802 -0.360564       2        1  22.280373\n",
       "4     -0.332633 -0.126378       3        1  12.746881\n",
       "6     -0.278202  0.253707       4        1  11.892330\n",
       "5      0.251422 -0.250121       5        1   9.302924\n",
       "0      0.318609  0.065356       6        1   8.934264\n",
       "3      0.153908  0.424094       7        1   4.485841, topic_info=     Category           Freq          Term          Total  loglift  logprob\n",
       "term                                                                       \n",
       "132   Default  287858.000000         карта  287858.000000  30.0000  30.0000\n",
       "258   Default  179618.000000        кредит  179618.000000  29.0000  29.0000\n",
       "3     Default  328989.000000         банка  328989.000000  28.0000  28.0000\n",
       "200   Default  158955.000000          счёт  158955.000000  27.0000  27.0000\n",
       "25    Default   64354.000000      документ   64354.000000  26.0000  26.0000\n",
       "245   Default  174557.000000          день  174557.000000  25.0000  25.0000\n",
       "208   Default  193619.000000        деньга  193619.000000  24.0000  24.0000\n",
       "54    Default  149732.000000           мой  149732.000000  23.0000  23.0000\n",
       "47    Default   95385.000000     кредитный   95385.000000  22.0000  22.0000\n",
       "199   Default   91773.000000         сумма   91773.000000  21.0000  21.0000\n",
       "2     Default  234022.000000          банк  234022.000000  20.0000  20.0000\n",
       "193   Default   78086.000000         рубль   78086.000000  19.0000  19.0000\n",
       "44    Default  119427.000000        клиент  119427.000000  18.0000  18.0000\n",
       "186   Default   58722.000000        платёж   58722.000000  17.0000  17.0000\n",
       "216   Default   82378.000000         месяц   82378.000000  16.0000  16.0000\n",
       "854   Default   52931.000000         вклад   52931.000000  15.0000  15.0000\n",
       "144   Default  149555.000000     отделение  149555.000000  14.0000  14.0000\n",
       "777   Default   66325.000000      работать   66325.000000  13.0000  13.0000\n",
       "278   Default   82175.000000     позвонить   82175.000000  12.0000  12.0000\n",
       "24    Default   64167.000000       договор   64167.000000  11.0000  11.0000\n",
       "17    Default  128238.000000           год  128238.000000  10.0000  10.0000\n",
       "21    Default   85361.000000          дать   85361.000000   9.0000   9.0000\n",
       "1217  Default   27805.000000             –   27805.000000   8.0000   8.0000\n",
       "329   Default   52508.000000       процент   52508.000000   7.0000   7.0000\n",
       "7     Default   48345.000000           ваш   48345.000000   6.0000   6.0000\n",
       "217   Default   52801.000000  обслуживание   52801.000000   5.0000   5.0000\n",
       "36    Default   80625.000000     заявление   80625.000000   4.0000   4.0000\n",
       "1187  Default   51608.000000       очередь   51608.000000   3.0000   3.0000\n",
       "752   Default   81255.000000      банкомат   81255.000000   2.0000   2.0000\n",
       "442   Default  103889.000000     сотрудник  103889.000000   1.0000   1.0000\n",
       "...       ...            ...           ...            ...      ...      ...\n",
       "3900   Topic7    2023.917847         книга    2025.231689   3.1036  -6.1332\n",
       "6131   Topic7    1860.710815      солидный    1862.027954   3.1035  -6.2173\n",
       "3385   Topic7    1791.938599     налоговый    1793.252075   3.1035  -6.2550\n",
       "2045   Topic7    1796.903931      объявить    1798.221924   3.1035  -6.2522\n",
       "8686   Topic7    1754.179199   предприятие    1755.495483   3.1035  -6.2763\n",
       "2591   Topic7    1739.183105        притом    1740.499146   3.1035  -6.2849\n",
       "5245   Topic7    1676.159180   иностранный    1677.476807   3.1035  -6.3218\n",
       "1666   Topic7   20221.558594            мы   20582.287109   3.0866  -3.8315\n",
       "1347   Topic7   11343.546875         копия   11872.197266   3.0587  -4.4096\n",
       "256    Topic7    9258.620117      компания   11091.563477   2.9236  -4.6127\n",
       "403    Topic7   13970.112305       справка   17873.556641   2.8578  -4.2014\n",
       "1345   Topic7    8430.613281         доход   10199.861328   2.9137  -4.7064\n",
       "523    Topic7   17326.521484           наш   24178.406250   2.7710  -3.9860\n",
       "1552   Topic7   16557.667969     заполнить   23010.792969   2.7751  -4.0314\n",
       "1351   Topic7    7224.676270     подписать    9501.119141   2.8303  -4.8608\n",
       "1564   Topic7    3869.167725         пакет    4495.769531   2.9541  -5.4852\n",
       "3601   Topic7    6209.245117     заполнять    8394.287109   2.8027  -5.0122\n",
       "286    Topic7    4963.566406      принести    6572.832520   2.8234  -5.2362\n",
       "359    Topic7   10142.840820     получение   25499.585938   2.1824  -4.5215\n",
       "790    Topic7    4590.568848  безопасность    7388.201660   2.6284  -5.3143\n",
       "1273   Topic7    6385.333008      отказать   15212.411133   2.2361  -4.9843\n",
       "138    Topic7    6890.357910   необходимый   19930.853516   2.0421  -4.9082\n",
       "153    Topic7    5625.482422  предоставить   15992.517578   2.0594  -5.1110\n",
       "446    Topic7    5042.121582         форма   11463.335938   2.2829  -5.2205\n",
       "189    Topic7    8973.083008      получить   93047.984375   0.7654  -4.6441\n",
       "24     Topic7    7384.587402       договор   64167.941406   0.9421  -4.8389\n",
       "21     Topic7    7573.301270          дать   85361.453125   0.6820  -4.8137\n",
       "529    Topic7    5181.242188         отказ   15961.937500   1.9791  -5.1932\n",
       "453    Topic7    4884.816406           втб   13602.739258   2.0801  -5.2521\n",
       "90     Topic7    5197.326172       решение   30303.212891   1.3411  -5.1901\n",
       "\n",
       "[462 rows x 6 columns], token_table=       Topic      Freq          Term\n",
       "term                                \n",
       "1654       4  0.999755       classic\n",
       "985        4  0.999926          visa\n",
       "14735      7  0.999545       абсолют\n",
       "5468       3  0.999817      авангард\n",
       "6426       6  0.999826    автокредит\n",
       "2061       6  0.999744    автомобиль\n",
       "4054       5  0.999530  автоответчик\n",
       "4893       6  0.999606     автосалон\n",
       "2201       5  0.999641     агентство\n",
       "1          1  0.492173         адрес\n",
       "1          5  0.493930         адрес\n",
       "1          7  0.013907         адрес\n",
       "3102       5  0.999232           акт\n",
       "1369       4  0.999905  активировать\n",
       "3625       3  0.999677         акция\n",
       "1342       7  0.999922        анкета\n",
       "987        4  0.999730        баланс\n",
       "2          1  0.304637          банк\n",
       "2          2  0.011529          банк\n",
       "2          3  0.295386          банк\n",
       "2          4  0.057759          банк\n",
       "2          5  0.162403          банк\n",
       "2          6  0.168287          банк\n",
       "3          1  0.369167         банка\n",
       "3          2  0.000201         банка\n",
       "3          3  0.350270         банка\n",
       "3          5  0.181538         банка\n",
       "3          6  0.098824         банка\n",
       "752        1  0.739614      банкомат\n",
       "752        4  0.260375      банкомат\n",
       "...      ...       ...           ...\n",
       "108        1  0.174942        хотеть\n",
       "108        2  0.601098        хотеть\n",
       "108        3  0.155313        хотеть\n",
       "108        6  0.068632        хотеть\n",
       "1266       3  0.050312            цб\n",
       "1266       5  0.949526            цб\n",
       "2896       3  0.999784         целое\n",
       "914        1  0.035689           час\n",
       "914        2  0.964268           час\n",
       "3505       5  0.999707       частное\n",
       "747        1  0.999816           чек\n",
       "447        2  0.970108       человек\n",
       "447        5  0.029870       человек\n",
       "6783       5  0.999553         честь\n",
       "1051       2  0.999904         чтоть\n",
       "3233       3  0.999839         чётко\n",
       "448        6  0.999933         штраф\n",
       "1848       5  0.999573      экспресс\n",
       "2505       5  0.917945         юрист\n",
       "2505       6  0.081787         юрист\n",
       "203        1  0.545681             я\n",
       "203        5  0.403628             я\n",
       "203        6  0.050667             я\n",
       "112        1  0.028624      являться\n",
       "112        3  0.409521      являться\n",
       "112        4  0.029660      являться\n",
       "112        5  0.497822      являться\n",
       "112        6  0.034377      являться\n",
       "5655       7  0.999382          ящик\n",
       "1217       7  0.999949             –\n",
       "\n",
       "[758 rows x 3 columns], R=30, lambda_step=0.01, plot_opts={'xlab': 'PC1', 'ylab': 'PC2'}, topic_order=[2, 3, 5, 7, 6, 1, 4])"
      ]
     },
     "execution_count": 46,
     "metadata": {},
     "output_type": "execute_result"
    }
   ],
   "source": [
    "vis"
   ]
  },
  {
   "cell_type": "code",
   "execution_count": 47,
   "metadata": {},
   "outputs": [],
   "source": [
    "# примеры тем\n",
    "# 1 - претензии, заявления, звоновый центр\n",
    "# 2 - офисы\n",
    "# 3 - вклады\n",
    "# 4 - карты\n",
    "# 5 - проблемы, заявления, суды\n",
    "# 6 - кредиты\n",
    "# 7 - недвижимость\n"
   ]
  },
  {
   "cell_type": "code",
   "execution_count": 48,
   "metadata": {},
   "outputs": [],
   "source": [
    "##\n",
    "## Найдите темы, в которых упомянуты конкретные банки (Сбербанк, ВТБ, другой банк). \n",
    "## Можете ли вы их прокомментировать / объяснить?\n",
    "##"
   ]
  },
  {
   "cell_type": "code",
   "execution_count": 49,
   "metadata": {},
   "outputs": [],
   "source": [
    "# вот расклад тем по банкам\n",
    "from collections import defaultdict"
   ]
  },
  {
   "cell_type": "code",
   "execution_count": 50,
   "metadata": {},
   "outputs": [
    {
     "name": "stdout",
     "output_type": "stream",
     "text": [
      "Добрый день! Я не являюсь клиентом банка и поручителем по кредитному договору, а также не являюсь каким-либо другим лицом, письменно  оформившим отношения с банком по поводу урегулирования чьей-либо  задолженности.  Начиная с марта 2015 года начали приходить бесконечные письма из ООО \"Примо коллект\"на мой адрес: город Москва, Уваровский переулок, дом 10, квартира 111, с угрозами о возбуждении уголовного дела в отношении гражданина Филиппова Эдуарда Владимировича, который уклоняется от уплаты взятых им кредитов: договор № 81014 от 20.10.2013 года и договор № 2464946 от 09.10.2014 года. Со всей ответственностью  хочу Вас заверить, что вышеуказанный гражданин, которого Вы разыскиваете, мне не знаком и никогда в моем адресе не был зарегистрирован. Каким образом Вы не удостоверившись в подлинности его документов оформили на его имя кредитный договор, мне по меньшей мере не понятно,  и почему по Вашей милости я должна переживать и бояться за себе и свое имущество. Письма доставляют мне серьезные неудобства, нарушают мои гражданские права, а также нарушают закон о защите персональных данных. Убедительно прошу прекратить посылать на мой адрес письма с угрозами по вопросам, к которым я не имею отношения. В случае отклонения моей претензии буду вынуждена обратиться с жалобами в  другие органы: Росспотребнадзор, Центральный банк, Службу Финансового  омбудсмена. Кроме этого будет подано заявление в полицию и заявление в  суд возмещение причиненного мне морального вреда. Надеюсь на скорое решение моего вопроса.\n",
      "[(0, 0.05829743), (1, 0.10888717), (2, 0.12977025), (3, 0.042267464), (4, 0.032765552), (5, 0.6140904), (6, 0.013921755)]\n",
      "Здравствуйте!  Дублирую свое заявление от 03.06.2015 в ДО \"Можайский\".  02.06.2015 мною, по моей дебетовой карте была совершена покупка в интернет-магазине  на сумму 3028 руб., но с карты произошло двойное списание (два раза по 3028 руб.) то есть 6056 руб. (о чем имеются смс сообщения от банка). Интернет-магазин подтвердил только один платеж 3028 руб. , товар был получен 05.06.2015. Прошу разобраться в ситуации и вернуть мне на счет ошибочно списанную сумму в размере 3028 руб.!   С уважением, давний клиент Вашего банка Владимир. Номер карты указан в моем заявлении в ДО \"Можайский\".\n",
      "[(0, 0.062476683), (1, 0.26436552), (2, 0.072409764), (3, 0.013183066), (4, 0.06452762), (5, 0.15822889), (6, 0.36480844)]\n",
      "Здравствуйте, подскажите мне, пожалуйста, стационарный номер телефона офиса, который располагается в республике Башкортостан, г.Салават по адресу ул.Островского 13/32. Позвонила на горячую линию, мне там ответили, что у них нет контактного номера телефона, в интернете тоже не нашла, может здесь чем помогут?\n",
      "[(0, 0.034964137), (1, 0.5366506), (2, 0.13608712), (3, 0.10870826), (4, 0.08045449), (5, 0.040664144), (6, 0.062471263)]\n",
      "Доброго времени суток. Активно пользуюсь кредитной картой, обслуживание на высшем уровне - все отлично! Но, к сожалению, не увеличивают кредитный лимит. Есть ли возможность его хоть немного повысить? Я с большим уважением и доверием отношусь к БИН Банку. Договор 498-P-91963377. Заранее благодарю за помощь. С уважением, Валерий Иванович.\n",
      "[(0, 0.080956), (1, 0.11346872), (2, 0.17968573), (3, 0.018833958), (4, 0.44734916), (5, 0.02670996), (6, 0.13299645)]\n",
      "ООО изменило юридический адрес на адрес прописки ген. директора. Подал документы об изменении и продлении полномочий в банк. В следующем месяце звонит девушка из отделения и говорит: - Нужен договор аренды на нежилое помещение. Я отвечаю: -Такого договора у меня нет. ООО зарегистрировано в соответствии с законами РФ, подделывать адрес не хочу. Я сейчас не в городе, напишите, пожалуйста, на электронку или через клиентбанк подробнее, что от меня нужно и на какие внутренние правила или инструкции ЦБ РФ ссылаетесь. - Ничего писать не буду. Я вам все сказала, приходите в банк с печатью у Вас анкета не правильно заполнена, - ответила девушка и положила трубку. Поскольку, сотрудница банка не захотела со мной говорить, приходится задавать вопрос через интернет. Оценку не ставлю, поскольку давно работаем, с хамством столкнулся впервые. Надеюсь, это случайность. Вопрос к представителю банка:  Если юр. лицо зарегистрировано по месту прописки Генерального Директора, может ли оно открыть счет в Бинбанке? Какие документы можно предоставить вместо договора аренды? Согласие собственника квартиры подойдет?\n",
      "[(0, 0.02074324), (1, 0.2188056), (2, 0.22794236), (3, 0.26475886), (4, 0.08488227), (5, 0.15884663), (6, 0.024021072)]\n"
     ]
    }
   ],
   "source": [
    "banks_topics = defaultdict(lambda: defaultdict(int))\n",
    "banks_ntopics = defaultdict(lambda: defaultdict(int))\n",
    "for i in range(100):\n",
    "    topics = lda_model.get_document_topics( corpus[i] )\n",
    "    bank_name = responses[i]['bank_name']\n",
    "    if bank_name == 'Бинбанк':\n",
    "        print (responses[i]['text'])\n",
    "        print (topics)\n",
    "    ntopics = defaultdict(int)\n",
    "    for topic in topics:\n",
    "        banks_topics[bank_name][topic[0]]+=topic[1]\n",
    "        banks_ntopics[bank_name][topic[0]]+=1\n",
    "    \n",
    "for bank_name in banks_topics.keys():\n",
    "    for topic in banks_topics[bank_name].keys():\n",
    "        banks_topics[bank_name][topic] = banks_topics[bank_name][topic] / banks_ntopics[bank_name][topic]\n",
    "\n"
   ]
  },
  {
   "cell_type": "code",
   "execution_count": 51,
   "metadata": {},
   "outputs": [],
   "source": [
    "# keys = sorted(banks_topics['Бинбанк'].keys(), key=lambda x: banks_topics['Бинбанк'][x], reverse = True)\n",
    "# keys"
   ]
  },
  {
   "cell_type": "code",
   "execution_count": 52,
   "metadata": {},
   "outputs": [
    {
     "data": {
      "text/plain": [
       "defaultdict(int,\n",
       "            {0: 0.05148749724030495,\n",
       "             1: 0.24843552261590957,\n",
       "             2: 0.14917904436588286,\n",
       "             3: 0.08955032099038363,\n",
       "             4: 0.14199581891298294,\n",
       "             5: 0.19970800168812275,\n",
       "             6: 0.11964379716664553})"
      ]
     },
     "execution_count": 52,
     "metadata": {},
     "output_type": "execute_result"
    }
   ],
   "source": [
    "banks_topics['Бинбанк']\n"
   ]
  },
  {
   "cell_type": "code",
   "execution_count": 53,
   "metadata": {},
   "outputs": [],
   "source": [
    "# for i in banks_topics:\n",
    "#     #banks_topics[i].sort(key=lambda x: x[1], reverse = True)\n",
    "#     keys = sorted(banks_topics[i].keys(), key=lambda x: banks_topics[i][x], reverse = True)\n",
    "    \n",
    "#     banks_topics[i] = sorted(banks_topics[i].keys(),reverse = True)\n",
    "#     #rint (type(banks_topics[i]))"
   ]
  },
  {
   "cell_type": "code",
   "execution_count": 54,
   "metadata": {},
   "outputs": [
    {
     "name": "stdout",
     "output_type": "stream",
     "text": [
      "Бинбанк(1646): 2, \n",
      "Сбербанк России(26327): 2, 7, \n",
      "ОТП Банк(3237): 2, 1, \n",
      "Гагаринский(19): 2, \n",
      "Тинькофф Банк(5387): 5, 6, \n",
      "Восточный Экспресс Банк(3138): 6, \n",
      "ВТБ 24(8185): 2, 1, \n",
      "Альфа-Банк(10224): 2, \n",
      "БИНБАНК кредитные карты(1464): 2, 7, \n",
      "МТС Банк(1870): 3, \n",
      "Совкомбанк(919): 3, 1, \n",
      "Россельхозбанк(532): 3, 2, \n",
      "Московский Кредитный Банк(2944): 1, \n",
      "МДМ Банк(776): 3, \n",
      "Хоум Кредит Банк(7549): 2, \n",
      "Бенифит-Банк(115): 5, 2, \n",
      "Уральский Банк Реконструкции и Развития(532): 2, 3, \n",
      "Русский Стандарт(7943): 6, 3, \n",
      "Лето Банк(501): 2, 1, \n",
      "Петрокоммерц(339): 7, 2, 3, \n",
      "Русфинанс Банк(723): 2, \n",
      "Киви Банк(1741): 4, \n",
      "Ханты-Мансийский банк Открытие(2158): 7, \n",
      "Русславбанк(715): 2, 5, 7, \n",
      "Татфондбанк(159): 1, 3, 2, \n",
      "МАСТ-Банк(208): 2, \n",
      "Национальный Банк «Траст»(4607): 3, 2, \n",
      "Военно-Промышленный Банк(149): 2, \n",
      "АктивКапитал Банк(75): 5, \n",
      "Связной Банк(3775): 2, \n",
      "Платежный Центр(13): 2, 7, \n",
      "Московский Индустриальный Банк(271): 7, 3, \n",
      "Финансовый Стандарт(125): 5, 3, \n",
      "Ренессанс Кредит(3849): 2, 1, \n",
      "Югра(451): 3, 2, \n"
     ]
    }
   ],
   "source": [
    "# список наиболее обсуждаемых тем для каждого банка <название банка> (общее кол-во отзывов): <номера тем согласно vis выше>\n",
    "# если сюда добавить еще кол-во сообщений по каждой теме (лень), то можно делать интересные выводы \n",
    "# и погружаться в конкретные болевые проблемы того или иного банка\n",
    "for i in banks_topics:\n",
    "    ss = \"\"\n",
    "    keys = sorted(banks_topics[i].keys(), key=lambda x: banks_topics[i][x], reverse = True)\n",
    "    for topic in keys:\n",
    "        if banks_topics[i][topic] > 0.2:\n",
    "            ss += f'{topic+1}, '\n",
    "        else:\n",
    "            break\n",
    "    print (f'{i}({banks_cnt[i]}): {ss}')\n",
    "    "
   ]
  },
  {
   "cell_type": "code",
   "execution_count": 55,
   "metadata": {},
   "outputs": [],
   "source": [
    "# Похоже, что у Бинбанка проблемы с офисами (или они прекрасны, если все отзывы положительрные)\n",
    "# По Сберу часто обсуждают те же офисы и ипотеку \n",
    "# и так далее "
   ]
  },
  {
   "cell_type": "code",
   "execution_count": null,
   "metadata": {},
   "outputs": [],
   "source": []
  },
  {
   "cell_type": "code",
   "execution_count": 56,
   "metadata": {},
   "outputs": [
    {
     "data": {
      "text/plain": [
       "defaultdict(<function __main__.<lambda>()>,\n",
       "            {'Бинбанк': defaultdict(int,\n",
       "                         {0: 0.05148749724030495,\n",
       "                          1: 0.24843552261590957,\n",
       "                          2: 0.14917904436588286,\n",
       "                          3: 0.08955032099038363,\n",
       "                          4: 0.14199581891298294,\n",
       "                          5: 0.19970800168812275,\n",
       "                          6: 0.11964379716664553}),\n",
       "             'Сбербанк России': defaultdict(int,\n",
       "                         {0: 0.06615340212980907,\n",
       "                          1: 0.3673678507407506,\n",
       "                          2: 0.17095068941513697,\n",
       "                          3: 0.04436863539740443,\n",
       "                          4: 0.09889961468676726,\n",
       "                          5: 0.05144760970558439,\n",
       "                          6: 0.20623505140344303}),\n",
       "             'ОТП Банк': defaultdict(int,\n",
       "                         {0: 0.2446595405538877,\n",
       "                          1: 0.37332280973593396,\n",
       "                          2: 0.12236267824967702,\n",
       "                          3: 0.030085057641069095,\n",
       "                          4: 0.09471580572426319,\n",
       "                          5: 0.0848664790391922,\n",
       "                          6: 0.049987618500987686}),\n",
       "             'Гагаринский': defaultdict(int,\n",
       "                         {0: 0.1977822184562683,\n",
       "                          1: 0.2935860753059387,\n",
       "                          2: 0.1949702501296997,\n",
       "                          3: 0.020128967240452766,\n",
       "                          4: 0.12898384034633636,\n",
       "                          5: 0.09983476996421814,\n",
       "                          6: 0.06471387296915054}),\n",
       "             'Тинькофф Банк': defaultdict(int,\n",
       "                         {0: 0.03561236057430506,\n",
       "                          1: 0.1523333415389061,\n",
       "                          2: 0.14029214717447758,\n",
       "                          3: 0.10627135680988431,\n",
       "                          4: 0.23886255640536547,\n",
       "                          5: 0.22336482722312212,\n",
       "                          6: 0.10326339630410075}),\n",
       "             'Восточный Экспресс Банк': defaultdict(int,\n",
       "                         {0: 0.14519979884581907,\n",
       "                          1: 0.19237898077283586,\n",
       "                          2: 0.14413955807685852,\n",
       "                          3: 0.03191208187490702,\n",
       "                          4: 0.07833239382931165,\n",
       "                          5: 0.34550012914197786,\n",
       "                          6: 0.0656693944973605}),\n",
       "             'ВТБ 24': defaultdict(int,\n",
       "                         {0: 0.2279367558658123,\n",
       "                          1: 0.2719053979963064,\n",
       "                          2: 0.1832916783168912,\n",
       "                          4: 0.11925763078033924,\n",
       "                          5: 0.07755675946827978,\n",
       "                          6: 0.05488544376567006,\n",
       "                          3: 0.07311212058578219}),\n",
       "             'Альфа-Банк': defaultdict(int,\n",
       "                         {0: 0.126638893244995,\n",
       "                          1: 0.21924794134166506,\n",
       "                          2: 0.1841762616402573,\n",
       "                          3: 0.060511562041938305,\n",
       "                          4: 0.10196849641700585,\n",
       "                          5: 0.19108135915464824,\n",
       "                          6: 0.12816407800548607}),\n",
       "             'БИНБАНК кредитные карты': defaultdict(int,\n",
       "                         {0: 0.0716665219515562,\n",
       "                          1: 0.2871045768260956,\n",
       "                          2: 0.18923445045948029,\n",
       "                          4: 0.12210247293114662,\n",
       "                          5: 0.0719837173819542,\n",
       "                          6: 0.245478555560112,\n",
       "                          3: 0.017143528908491135}),\n",
       "             'МТС Банк': defaultdict(int,\n",
       "                         {0: 0.027508914470672607,\n",
       "                          1: 0.18856826424598694,\n",
       "                          2: 0.5059859156608582,\n",
       "                          3: 0.03887181729078293,\n",
       "                          4: 0.17815476655960083,\n",
       "                          5: 0.0158222746104002,\n",
       "                          6: 0.04508808255195618}),\n",
       "             'Совкомбанк': defaultdict(int,\n",
       "                         {0: 0.2541608475148678,\n",
       "                          1: 0.19695433229207993,\n",
       "                          2: 0.2555052898824215,\n",
       "                          3: 0.017993154004216194,\n",
       "                          4: 0.05873803049325943,\n",
       "                          5: 0.19422324746847153,\n",
       "                          6: 0.026950133964419365}),\n",
       "             'Россельхозбанк': defaultdict(int,\n",
       "                         {0: 0.07566325180232525,\n",
       "                          1: 0.2862340410550435,\n",
       "                          2: 0.31028367578983307,\n",
       "                          3: 0.0710634555046757,\n",
       "                          4: 0.163039098183314,\n",
       "                          5: 0.058112060030301414,\n",
       "                          6: 0.03560437882939974}),\n",
       "             'Московский Кредитный Банк': defaultdict(int,\n",
       "                         {0: 0.2831667438149452,\n",
       "                          1: 0.16987570375204086,\n",
       "                          2: 0.19681768119335175,\n",
       "                          3: 0.045507547445595264,\n",
       "                          4: 0.14032598584890366,\n",
       "                          5: 0.039741812739521265,\n",
       "                          6: 0.12456454336643219}),\n",
       "             'МДМ Банк': defaultdict(int,\n",
       "                         {0: 0.10589244216680527,\n",
       "                          1: 0.18022531270980835,\n",
       "                          2: 0.3562675192952156,\n",
       "                          3: 0.03173869522288442,\n",
       "                          4: 0.12708988040685654,\n",
       "                          5: 0.03513754718005657,\n",
       "                          6: 0.16364862769842148}),\n",
       "             'Хоум Кредит Банк': defaultdict(int,\n",
       "                         {0: 0.19064295424946717,\n",
       "                          1: 0.30985069274902344,\n",
       "                          2: 0.1464591845870018,\n",
       "                          3: 0.02576182666234672,\n",
       "                          4: 0.10963831256542887,\n",
       "                          5: 0.08826209542651971,\n",
       "                          6: 0.14967769065073558}),\n",
       "             'Бенифит-Банк': defaultdict(int,\n",
       "                         {0: 0.05923447012901306,\n",
       "                          1: 0.22836299240589142,\n",
       "                          2: 0.15379692614078522,\n",
       "                          3: 0.024979515001177788,\n",
       "                          4: 0.4099907875061035,\n",
       "                          5: 0.03942355886101723,\n",
       "                          6: 0.08421172201633453}),\n",
       "             'Уральский Банк Реконструкции и Развития': defaultdict(int,\n",
       "                         {0: 0.13842959329485893,\n",
       "                          1: 0.3274158239364624,\n",
       "                          2: 0.30159109830856323,\n",
       "                          3: 0.05774641906221708,\n",
       "                          4: 0.06842238704363506,\n",
       "                          5: 0.06174064862231413,\n",
       "                          6: 0.044654022281368576}),\n",
       "             'Русский Стандарт': defaultdict(int,\n",
       "                         {0: 0.03538390435278416,\n",
       "                          1: 0.14895160496234894,\n",
       "                          2: 0.22798360884189606,\n",
       "                          3: 0.06071734459449848,\n",
       "                          4: 0.10873063653707504,\n",
       "                          5: 0.3421148583292961,\n",
       "                          6: 0.07611801847815514}),\n",
       "             'Лето Банк': defaultdict(int,\n",
       "                         {0: 0.2840407444164157,\n",
       "                          1: 0.2929641306400299,\n",
       "                          2: 0.1309076063334942,\n",
       "                          3: 0.01631822157651186,\n",
       "                          4: 0.06125650368630886,\n",
       "                          5: 0.1533203199505806,\n",
       "                          6: 0.061192491091787815}),\n",
       "             'Петрокоммерц': defaultdict(int,\n",
       "                         {0: 0.026380138471722603,\n",
       "                          1: 0.2744715213775635,\n",
       "                          2: 0.22622621059417725,\n",
       "                          3: 0.039198484271764755,\n",
       "                          4: 0.044196717441082,\n",
       "                          5: 0.01624683476984501,\n",
       "                          6: 0.3732800781726837}),\n",
       "             'Русфинанс Банк': defaultdict(int,\n",
       "                         {0: 0.16687023639678955,\n",
       "                          1: 0.5372738838195801,\n",
       "                          2: 0.10325886309146881,\n",
       "                          3: 0.015944164246320724,\n",
       "                          4: 0.08747054636478424,\n",
       "                          5: 0.03345189616084099,\n",
       "                          6: 0.05573044344782829}),\n",
       "             'Киви Банк': defaultdict(int,\n",
       "                         {0: 0.02191644348204136,\n",
       "                          1: 0.14163262024521828,\n",
       "                          2: 0.1641063243150711,\n",
       "                          3: 0.23421774990856647,\n",
       "                          4: 0.1572436522692442,\n",
       "                          5: 0.16183632984757423,\n",
       "                          6: 0.1190468892455101}),\n",
       "             'Ханты-Мансийский банк Открытие': defaultdict(int,\n",
       "                         {0: 0.09957562014460564,\n",
       "                          1: 0.17245747335255146,\n",
       "                          2: 0.06701378803700209,\n",
       "                          3: 0.04118838533759117,\n",
       "                          4: 0.14266392588615417,\n",
       "                          5: 0.0881616473197937,\n",
       "                          6: 0.38893918693065643}),\n",
       "             'Русславбанк': defaultdict(int,\n",
       "                         {0: 0.10666609555482864,\n",
       "                          1: 0.271564319729805,\n",
       "                          2: 0.1497492790222168,\n",
       "                          3: 0.027827576734125614,\n",
       "                          4: 0.21448004245758057,\n",
       "                          5: 0.01997655024752021,\n",
       "                          6: 0.20973612274974585}),\n",
       "             'Татфондбанк': defaultdict(int,\n",
       "                         {0: 0.31179171800613403,\n",
       "                          1: 0.2255316525697708,\n",
       "                          2: 0.24674919247627258,\n",
       "                          4: 0.1299758106470108,\n",
       "                          5: 0.014252852648496628,\n",
       "                          6: 0.06185830757021904}),\n",
       "             'МАСТ-Банк': defaultdict(int,\n",
       "                         {0: 0.04654304310679436,\n",
       "                          1: 0.44195446372032166,\n",
       "                          2: 0.1339980661869049,\n",
       "                          3: 0.02596837840974331,\n",
       "                          4: 0.1480245590209961,\n",
       "                          5: 0.14151287078857422,\n",
       "                          6: 0.06199866533279419}),\n",
       "             'Национальный Банк «Траст»': defaultdict(int,\n",
       "                         {0: 0.028911465778946877,\n",
       "                          1: 0.3021678626537323,\n",
       "                          2: 0.3731352686882019,\n",
       "                          3: 0.018490897491574287,\n",
       "                          4: 0.10761089622974396,\n",
       "                          5: 0.1187041774392128,\n",
       "                          6: 0.05097946524620056}),\n",
       "             'Военно-Промышленный Банк': defaultdict(int,\n",
       "                         {0: 0.014819120988249779,\n",
       "                          1: 0.5989109873771667,\n",
       "                          2: 0.08137599378824234,\n",
       "                          4: 0.15224476158618927,\n",
       "                          5: 0.07602335512638092,\n",
       "                          6: 0.06814116984605789}),\n",
       "             'АктивКапитал Банк': defaultdict(int,\n",
       "                         {0: 0.1114966943860054,\n",
       "                          1: 0.11624984443187714,\n",
       "                          2: 0.17490121722221375,\n",
       "                          3: 0.0177273191511631,\n",
       "                          4: 0.4067564904689789,\n",
       "                          5: 0.15750740468502045,\n",
       "                          6: 0.015361015684902668}),\n",
       "             'Связной Банк': defaultdict(int,\n",
       "                         {0: 0.04657985270023346,\n",
       "                          1: 0.32985180616378784,\n",
       "                          2: 0.1395990401506424,\n",
       "                          3: 0.025614988058805466,\n",
       "                          4: 0.1293669044971466,\n",
       "                          5: 0.16909143328666687,\n",
       "                          6: 0.15989603102207184}),\n",
       "             'Платежный Центр': defaultdict(int,\n",
       "                         {0: 0.010937025770545006,\n",
       "                          1: 0.44324132800102234,\n",
       "                          2: 0.14651039242744446,\n",
       "                          3: 0.07396087050437927,\n",
       "                          4: 0.04345535486936569,\n",
       "                          6: 0.27565962076187134}),\n",
       "             'Московский Индустриальный Банк': defaultdict(int,\n",
       "                         {0: 0.03815475106239319,\n",
       "                          1: 0.17726784944534302,\n",
       "                          2: 0.20070569217205048,\n",
       "                          3: 0.021938439458608627,\n",
       "                          4: 0.11055973917245865,\n",
       "                          5: 0.10521771013736725,\n",
       "                          6: 0.3461557924747467}),\n",
       "             'Финансовый Стандарт': defaultdict(int,\n",
       "                         {0: 0.11093948036432266,\n",
       "                          1: 0.09239672869443893,\n",
       "                          2: 0.3264674246311188,\n",
       "                          3: 0.01571507565677166,\n",
       "                          4: 0.33388465642929077,\n",
       "                          5: 0.10766543447971344,\n",
       "                          6: 0.012931217439472675}),\n",
       "             'Ренессанс Кредит': defaultdict(int,\n",
       "                         {0: 0.21753795444965363,\n",
       "                          1: 0.36091941595077515,\n",
       "                          2: 0.13430899381637573,\n",
       "                          3: 0.07459590584039688,\n",
       "                          4: 0.05509562790393829,\n",
       "                          5: 0.12014076858758926,\n",
       "                          6: 0.037401314824819565}),\n",
       "             'Югра': defaultdict(int,\n",
       "                         {0: 0.07703252136707306,\n",
       "                          1: 0.24064898490905762,\n",
       "                          2: 0.36959776282310486,\n",
       "                          3: 0.05784736946225166,\n",
       "                          4: 0.16968934237957,\n",
       "                          5: 0.021295723039656878,\n",
       "                          6: 0.06388827785849571})})"
      ]
     },
     "execution_count": 56,
     "metadata": {},
     "output_type": "execute_result"
    }
   ],
   "source": [
    "banks_topics"
   ]
  },
  {
   "cell_type": "code",
   "execution_count": null,
   "metadata": {},
   "outputs": [],
   "source": []
  },
  {
   "cell_type": "markdown",
   "metadata": {},
   "source": [
    "## Часть 3. Классификация текстов [40/100]\n",
    "\n",
    "Сформулируем для простоты задачу бинарной классификации: будем классифицировать на два класса, то есть, различать резко отрицательные отзывы (с оценкой 1) и положительные отзывы (с оценкой 5). \n",
    "\n",
    "1.  Составьте обучающее и тестовое множество: выберите из всего набора данных N1 отзывов с оценкой 1 и N2 отзывов с оценкой 5 (значение N1 и N2 – на ваше усмотрение). Используйте ```sklearn.model_selection.train_test_split``` для разделения множества отобранных документов на обучающее и тестовое. \n",
    "2. Используйте любой известный вам алгоритм классификации текстов для решения задачи и получите baseline. Сравните разные варианты векторизации текста: использование только униграм, пар или троек слов или с использованием символьных $n$-грам. \n",
    "3. Сравните, как изменяется качество решения задачи при использовании скрытых тем в качестве признаков:\n",
    "* 1-ый вариант: $tf-idf$ преобразование (```sklearn.feature_extraction.text.TfidfTransformer```) и сингулярное разложение (оно же – латентый семантический анализ) (```sklearn.decomposition.TruncatedSVD```), \n",
    "* 2-ой вариант: тематические модели LDA (```sklearn.decomposition.LatentDirichletAllocation```). \n",
    "\n",
    "Используйте accuracy и F-measure для оценки качества классификации. \n",
    "\n",
    "Ниже написан примерный Pipeline для классификации текстов. \n",
    "\n",
    "Эта часть задания может быть сделана с использованием sklearn. "
   ]
  },
  {
   "cell_type": "code",
   "execution_count": 57,
   "metadata": {},
   "outputs": [],
   "source": [
    "from sklearn.model_selection import train_test_split\n",
    "from sklearn.ensemble import RandomForestClassifier\n",
    "from sklearn.feature_extraction.text import CountVectorizer\n",
    "from sklearn.metrics import *"
   ]
  },
  {
   "cell_type": "code",
   "execution_count": 58,
   "metadata": {},
   "outputs": [],
   "source": [
    "X_train_good, X_test_good = train_test_split(resp_bi_good)\n",
    "X_train_bad, X_test_bad = train_test_split(resp_bi_bad)\n",
    "\n",
    "X_train = X_train_good + X_train_bad\n",
    "X_test = X_test_good + X_test_bad\n",
    "y_train = [5 for i in range(len(X_train_good))] + [1 for i in range(len(X_train_bad))]\n",
    "y_test = [5 for i in range(len(X_test_good))] + [1 for i in range(len(X_test_bad))]"
   ]
  },
  {
   "cell_type": "code",
   "execution_count": 59,
   "metadata": {},
   "outputs": [
    {
     "name": "stderr",
     "output_type": "stream",
     "text": [
      "C:\\ProgramData\\Anaconda3\\lib\\site-packages\\sklearn\\ensemble\\forest.py:246: FutureWarning: The default value of n_estimators will change from 10 in version 0.20 to 100 in 0.22.\n",
      "  \"10 in version 0.20 to 100 in 0.22.\", FutureWarning)\n"
     ]
    }
   ],
   "source": [
    "vect = CountVectorizer()\n",
    "vect_train = vect.fit_transform(X_train)\n",
    "vect_test = vect.transform(X_test)\n",
    "\n",
    "clf = RandomForestClassifier( max_depth = 15 )\n",
    "clf.fit(vect_train, y_train)\n",
    "\n",
    "Y_test = clf.predict(vect_test)"
   ]
  },
  {
   "cell_type": "code",
   "execution_count": 60,
   "metadata": {},
   "outputs": [],
   "source": [
    "def print_result(y_test, Y_test):\n",
    "    print(\"Precision: {0:6.2f}\".format(precision_score(y_test, Y_test, average='macro')))\n",
    "    print(\"Recall: {0:6.2f}\".format(recall_score(y_test, Y_test, average='macro')))\n",
    "    print(\"F1-measure: {0:6.2f}\".format(f1_score(y_test, Y_test, average='macro')))\n",
    "    print(\"Accuracy: {0:6.2f}\".format(accuracy_score(y_test, Y_test)))\n",
    "    print(classification_report(y_test, Y_test))\n",
    "    labels = clf.classes_\n",
    "\n",
    "    sns.heatmap(data=confusion_matrix(y_test, Y_test), annot=True, fmt=\"d\", cbar=False, xticklabels=labels, yticklabels=labels)\n",
    "    plt.title(\"Confusion matrix\")\n",
    "    plt.show()"
   ]
  },
  {
   "cell_type": "code",
   "execution_count": 61,
   "metadata": {},
   "outputs": [
    {
     "name": "stdout",
     "output_type": "stream",
     "text": [
      "Precision:   0.89\n",
      "Recall:   0.55\n",
      "F1-measure:   0.53\n",
      "Accuracy:   0.79\n",
      "              precision    recall  f1-score   support\n",
      "\n",
      "           1       0.78      1.00      0.88     11847\n",
      "           5       0.99      0.10      0.18      3679\n",
      "\n",
      "   micro avg       0.79      0.79      0.79     15526\n",
      "   macro avg       0.89      0.55      0.53     15526\n",
      "weighted avg       0.83      0.79      0.71     15526\n",
      "\n"
     ]
    },
    {
     "data": {
      "image/png": "[encoded data removed]",
      "text/plain": [
       "<Figure size 432x288 with 1 Axes>"
      ]
     },
     "metadata": {
      "needs_background": "light"
     },
     "output_type": "display_data"
    }
   ],
   "source": [
    "print_result(y_test, Y_test)"
   ]
  },
  {
   "cell_type": "code",
   "execution_count": 62,
   "metadata": {},
   "outputs": [
    {
     "name": "stderr",
     "output_type": "stream",
     "text": [
      "C:\\ProgramData\\Anaconda3\\lib\\site-packages\\sklearn\\ensemble\\forest.py:246: FutureWarning: The default value of n_estimators will change from 10 in version 0.20 to 100 in 0.22.\n",
      "  \"10 in version 0.20 to 100 in 0.22.\", FutureWarning)\n"
     ]
    },
    {
     "name": "stdout",
     "output_type": "stream",
     "text": [
      "Precision:   0.89\n",
      "Recall:   0.56\n",
      "F1-measure:   0.55\n",
      "Accuracy:   0.79\n",
      "              precision    recall  f1-score   support\n",
      "\n",
      "           1       0.79      1.00      0.88     11847\n",
      "           5       0.99      0.13      0.23      3679\n",
      "\n",
      "   micro avg       0.79      0.79      0.79     15526\n",
      "   macro avg       0.89      0.56      0.55     15526\n",
      "weighted avg       0.83      0.79      0.73     15526\n",
      "\n"
     ]
    },
    {
     "data": {
      "image/png": "[encoded data removed]",
      "text/plain": [
       "<Figure size 432x288 with 1 Axes>"
      ]
     },
     "metadata": {
      "needs_background": "light"
     },
     "output_type": "display_data"
    }
   ],
   "source": [
    "# пробуем tfidf\n",
    "vect = TfidfVectorizer()\n",
    "vect_train = vect.fit_transform(X_train)\n",
    "vect_test = vect.transform(X_test)\n",
    "\n",
    "clf = RandomForestClassifier( max_depth = 15 )\n",
    "clf.fit(vect_train, y_train)\n",
    "\n",
    "Y_test = clf.predict(vect_test)\n",
    "\n",
    "print_result(y_test, Y_test)"
   ]
  },
  {
   "cell_type": "code",
   "execution_count": 63,
   "metadata": {},
   "outputs": [
    {
     "name": "stderr",
     "output_type": "stream",
     "text": [
      "C:\\ProgramData\\Anaconda3\\lib\\site-packages\\sklearn\\ensemble\\forest.py:246: FutureWarning: The default value of n_estimators will change from 10 in version 0.20 to 100 in 0.22.\n",
      "  \"10 in version 0.20 to 100 in 0.22.\", FutureWarning)\n"
     ]
    },
    {
     "name": "stdout",
     "output_type": "stream",
     "text": [
      "Precision:   0.90\n",
      "Recall:   0.73\n",
      "F1-measure:   0.77\n",
      "Accuracy:   0.87\n",
      "              precision    recall  f1-score   support\n",
      "\n",
      "           1       0.86      0.99      0.92     11847\n",
      "           5       0.95      0.46      0.62      3679\n",
      "\n",
      "   micro avg       0.87      0.87      0.87     15526\n",
      "   macro avg       0.90      0.73      0.77     15526\n",
      "weighted avg       0.88      0.87      0.85     15526\n",
      "\n"
     ]
    },
    {
     "data": {
      "image/png": "[encoded data removed]",
      "text/plain": [
       "<Figure size 432x288 with 1 Axes>"
      ]
     },
     "metadata": {
      "needs_background": "light"
     },
     "output_type": "display_data"
    }
   ],
   "source": [
    "# пробуем разные параметры, в итоге лучше всех \"1 слово\" и forest с параметрами по умолчанию\n",
    "vect = CountVectorizer(ngram_range=(3, 6), analyzer='char')\n",
    "vect_train = vect.fit_transform(X_train)\n",
    "vect_test = vect.transform(X_test)\n",
    "\n",
    "clf = RandomForestClassifier(  )\n",
    "clf.fit(vect_train, y_train)\n",
    "\n",
    "Y_test = clf.predict(vect_test)\n",
    "\n",
    "print_result(y_test, Y_test)"
   ]
  },
  {
   "cell_type": "code",
   "execution_count": 64,
   "metadata": {},
   "outputs": [
    {
     "name": "stderr",
     "output_type": "stream",
     "text": [
      "C:\\ProgramData\\Anaconda3\\lib\\site-packages\\sklearn\\ensemble\\forest.py:246: FutureWarning: The default value of n_estimators will change from 10 in version 0.20 to 100 in 0.22.\n",
      "  \"10 in version 0.20 to 100 in 0.22.\", FutureWarning)\n"
     ]
    },
    {
     "name": "stdout",
     "output_type": "stream",
     "text": [
      "Precision:   0.90\n",
      "Recall:   0.74\n",
      "F1-measure:   0.78\n",
      "Accuracy:   0.87\n",
      "              precision    recall  f1-score   support\n",
      "\n",
      "           1       0.86      0.99      0.92     11847\n",
      "           5       0.94      0.49      0.64      3679\n",
      "\n",
      "   micro avg       0.87      0.87      0.87     15526\n",
      "   macro avg       0.90      0.74      0.78     15526\n",
      "weighted avg       0.88      0.87      0.85     15526\n",
      "\n"
     ]
    },
    {
     "data": {
      "image/png": "[encoded data removed]",
      "text/plain": [
       "<Figure size 432x288 with 1 Axes>"
      ]
     },
     "metadata": {
      "needs_background": "light"
     },
     "output_type": "display_data"
    }
   ],
   "source": [
    "# пробуем разные параметры\n",
    "vect = TfidfVectorizer( ngram_range=(1, 1), analyzer='word' )\n",
    "vect_train = vect.fit_transform(X_train)\n",
    "vect_test = vect.transform(X_test)\n",
    "\n",
    "clf = RandomForestClassifier(  )\n",
    "clf.fit(vect_train, y_train)\n",
    "\n",
    "Y_test = clf.predict(vect_test)\n",
    "\n",
    "print_result(y_test, Y_test)"
   ]
  },
  {
   "cell_type": "code",
   "execution_count": 65,
   "metadata": {},
   "outputs": [],
   "source": [
    "from sklearn.linear_model import LogisticRegression\n",
    "from sklearn.naive_bayes import MultinomialNB\n",
    "from sklearn.neighbors import KNeighborsClassifier"
   ]
  },
  {
   "cell_type": "code",
   "execution_count": 66,
   "metadata": {},
   "outputs": [
    {
     "name": "stderr",
     "output_type": "stream",
     "text": [
      "C:\\ProgramData\\Anaconda3\\lib\\site-packages\\sklearn\\linear_model\\logistic.py:433: FutureWarning: Default solver will be changed to 'lbfgs' in 0.22. Specify a solver to silence this warning.\n",
      "  FutureWarning)\n"
     ]
    },
    {
     "name": "stdout",
     "output_type": "stream",
     "text": [
      "Precision:   0.96\n",
      "Recall:   0.93\n",
      "F1-measure:   0.95\n",
      "Accuracy:   0.96\n",
      "              precision    recall  f1-score   support\n",
      "\n",
      "           1       0.96      0.99      0.98     11847\n",
      "           5       0.97      0.87      0.92      3679\n",
      "\n",
      "   micro avg       0.96      0.96      0.96     15526\n",
      "   macro avg       0.96      0.93      0.95     15526\n",
      "weighted avg       0.96      0.96      0.96     15526\n",
      "\n"
     ]
    },
    {
     "data": {
      "image/png": "[encoded data removed]",
      "text/plain": [
       "<Figure size 432x288 with 1 Axes>"
      ]
     },
     "metadata": {
      "needs_background": "light"
     },
     "output_type": "display_data"
    }
   ],
   "source": [
    "# пробуем разные параметры, логистическая регрессия\n",
    "vect = TfidfVectorizer( ngram_range=(1, 1), analyzer='word' )\n",
    "vect_train = vect.fit_transform(X_train)\n",
    "vect_test = vect.transform(X_test)\n",
    "\n",
    "clf = LogisticRegression(  )\n",
    "clf.fit(vect_train, y_train)\n",
    "\n",
    "Y_test = clf.predict(vect_test)\n",
    "\n",
    "print_result(y_test, Y_test)"
   ]
  },
  {
   "cell_type": "code",
   "execution_count": 67,
   "metadata": {},
   "outputs": [
    {
     "name": "stdout",
     "output_type": "stream",
     "text": [
      "Precision:   0.84\n",
      "Recall:   0.69\n",
      "F1-measure:   0.72\n",
      "Accuracy:   0.84\n",
      "              precision    recall  f1-score   support\n",
      "\n",
      "           1       0.84      0.98      0.90     11847\n",
      "           5       0.85      0.40      0.54      3679\n",
      "\n",
      "   micro avg       0.84      0.84      0.84     15526\n",
      "   macro avg       0.84      0.69      0.72     15526\n",
      "weighted avg       0.84      0.84      0.82     15526\n",
      "\n"
     ]
    },
    {
     "data": {
      "image/png": "[encoded data removed]",
      "text/plain": [
       "<Figure size 432x288 with 1 Axes>"
      ]
     },
     "metadata": {
      "needs_background": "light"
     },
     "output_type": "display_data"
    }
   ],
   "source": [
    "# пробуем разные параметры, MultinomialNB\n",
    "vect = TfidfVectorizer( ngram_range=(1, 1), analyzer='word' )\n",
    "vect_train = vect.fit_transform(X_train)\n",
    "vect_test = vect.transform(X_test)\n",
    "\n",
    "clf = KNeighborsClassifier( n_neighbors=3 )\n",
    "clf.fit(vect_train, y_train)\n",
    "\n",
    "Y_test = clf.predict(vect_test)\n",
    "\n",
    "print_result(y_test, Y_test)"
   ]
  },
  {
   "cell_type": "code",
   "execution_count": 68,
   "metadata": {},
   "outputs": [],
   "source": [
    "from sklearn.decomposition import TruncatedSVD\n",
    "from sklearn.feature_extraction.text import TfidfTransformer"
   ]
  },
  {
   "cell_type": "code",
   "execution_count": 69,
   "metadata": {},
   "outputs": [
    {
     "name": "stderr",
     "output_type": "stream",
     "text": [
      "C:\\ProgramData\\Anaconda3\\lib\\site-packages\\sklearn\\ensemble\\forest.py:246: FutureWarning: The default value of n_estimators will change from 10 in version 0.20 to 100 in 0.22.\n",
      "  \"10 in version 0.20 to 100 in 0.22.\", FutureWarning)\n"
     ]
    },
    {
     "name": "stdout",
     "output_type": "stream",
     "text": [
      "Precision:   0.90\n",
      "Recall:   0.74\n",
      "F1-measure:   0.78\n",
      "Accuracy:   0.87\n",
      "              precision    recall  f1-score   support\n",
      "\n",
      "           1       0.86      0.99      0.92     11847\n",
      "           5       0.93      0.49      0.64      3679\n",
      "\n",
      "   micro avg       0.87      0.87      0.87     15526\n",
      "   macro avg       0.90      0.74      0.78     15526\n",
      "weighted avg       0.88      0.87      0.86     15526\n",
      "\n"
     ]
    },
    {
     "data": {
      "image/png": "[encoded data removed]",
      "text/plain": [
       "<Figure size 432x288 with 1 Axes>"
      ]
     },
     "metadata": {
      "needs_background": "light"
     },
     "output_type": "display_data"
    }
   ],
   "source": [
    "# пробуем tfidftransformer\n",
    "vect = TfidfVectorizer( ngram_range=(1, 1), analyzer='word' )\n",
    "vect_train = vect.fit_transform(X_train)\n",
    "vect_test = vect.transform(X_test)\n",
    "\n",
    "clf = RandomForestClassifier(  )\n",
    "clf.fit(vect_train, y_train)\n",
    "\n",
    "Y_test = clf.predict(vect_test)\n",
    "\n",
    "print_result(y_test, Y_test)"
   ]
  },
  {
   "cell_type": "code",
   "execution_count": 70,
   "metadata": {},
   "outputs": [],
   "source": [
    "# разницы существенной нет между tfidf vectorizer и transformer"
   ]
  },
  {
   "cell_type": "code",
   "execution_count": 71,
   "metadata": {},
   "outputs": [],
   "source": [
    "from sklearn.pipeline import make_pipeline\n",
    "from sklearn.preprocessing import Normalizer"
   ]
  },
  {
   "cell_type": "code",
   "execution_count": 72,
   "metadata": {},
   "outputs": [
    {
     "name": "stderr",
     "output_type": "stream",
     "text": [
      "C:\\ProgramData\\Anaconda3\\lib\\site-packages\\sklearn\\ensemble\\forest.py:246: FutureWarning: The default value of n_estimators will change from 10 in version 0.20 to 100 in 0.22.\n",
      "  \"10 in version 0.20 to 100 in 0.22.\", FutureWarning)\n"
     ]
    },
    {
     "name": "stdout",
     "output_type": "stream",
     "text": [
      "Precision:   0.86\n",
      "Recall:   0.67\n",
      "F1-measure:   0.70\n",
      "Accuracy:   0.84\n",
      "              precision    recall  f1-score   support\n",
      "\n",
      "           1       0.83      0.99      0.90     11847\n",
      "           5       0.89      0.35      0.50      3679\n",
      "\n",
      "   micro avg       0.84      0.84      0.84     15526\n",
      "   macro avg       0.86      0.67      0.70     15526\n",
      "weighted avg       0.85      0.84      0.81     15526\n",
      "\n"
     ]
    },
    {
     "data": {
      "image/png": "[encoded data removed]",
      "text/plain": [
       "<Figure size 432x288 with 1 Axes>"
      ]
     },
     "metadata": {
      "needs_background": "light"
     },
     "output_type": "display_data"
    }
   ],
   "source": [
    "# пробуем tfidftransformer\n",
    "vect = TfidfVectorizer( ngram_range=(1, 1), analyzer='word' )\n",
    "vect_train = vect.fit_transform(X_train)\n",
    "vect_test = vect.transform(X_test)\n",
    "\n",
    "svd = TruncatedSVD( 700 )\n",
    "normalizer = Normalizer(copy=False)\n",
    "lsa = make_pipeline(svd, normalizer)\n",
    "vect_train = lsa.fit_transform(vect_train)\n",
    "vect_test = lsa.transform(vect_test)\n",
    "\n",
    "clf = RandomForestClassifier(  )\n",
    "clf.fit(vect_train, y_train)\n",
    "\n",
    "Y_test = clf.predict(vect_test)\n",
    "\n",
    "print_result(y_test, Y_test)"
   ]
  },
  {
   "cell_type": "code",
   "execution_count": 73,
   "metadata": {},
   "outputs": [],
   "source": [
    "# при сокращении кол-ва фич до 700 через SVD качество существенно падает"
   ]
  },
  {
   "cell_type": "code",
   "execution_count": 74,
   "metadata": {},
   "outputs": [],
   "source": [
    "from sklearn.decomposition import NMF, LatentDirichletAllocation"
   ]
  },
  {
   "cell_type": "code",
   "execution_count": 75,
   "metadata": {},
   "outputs": [
    {
     "name": "stderr",
     "output_type": "stream",
     "text": [
      "C:\\ProgramData\\Anaconda3\\lib\\site-packages\\sklearn\\ensemble\\forest.py:246: FutureWarning: The default value of n_estimators will change from 10 in version 0.20 to 100 in 0.22.\n",
      "  \"10 in version 0.20 to 100 in 0.22.\", FutureWarning)\n"
     ]
    },
    {
     "name": "stdout",
     "output_type": "stream",
     "text": [
      "Precision:   0.58\n",
      "Recall:   0.50\n",
      "F1-measure:   0.44\n",
      "Accuracy:   0.76\n",
      "              precision    recall  f1-score   support\n",
      "\n",
      "           1       0.76      1.00      0.86     11847\n",
      "           5       0.39      0.01      0.01      3679\n",
      "\n",
      "   micro avg       0.76      0.76      0.76     15526\n",
      "   macro avg       0.58      0.50      0.44     15526\n",
      "weighted avg       0.68      0.76      0.66     15526\n",
      "\n"
     ]
    },
    {
     "data": {
      "image/png": "[encoded data removed]",
      "text/plain": [
       "<Figure size 432x288 with 1 Axes>"
      ]
     },
     "metadata": {
      "needs_background": "light"
     },
     "output_type": "display_data"
    }
   ],
   "source": [
    "# пробуем tfidftransformer\n",
    "vect = TfidfVectorizer( ngram_range=(1, 1), analyzer='word' )\n",
    "vect_train = vect.fit_transform(X_train)\n",
    "vect_test = vect.transform(X_test)\n",
    "\n",
    "lda = LatentDirichletAllocation(n_components=700, max_iter=5,\n",
    "                                learning_method='online',\n",
    "                                learning_offset=50.,\n",
    "                                random_state=0)\n",
    "vect_train = lda.fit_transform(vect_train)\n",
    "vect_test = lda.transform(vect_test)\n",
    "\n",
    "clf = RandomForestClassifier(  )\n",
    "clf.fit(vect_train, y_train)\n",
    "\n",
    "Y_test = clf.predict(vect_test)\n",
    "\n",
    "print_result(y_test, Y_test)"
   ]
  },
  {
   "cell_type": "code",
   "execution_count": null,
   "metadata": {},
   "outputs": [],
   "source": [
    "# итого лучшим получилась связка tfidf + логистическая регрессия"
   ]
  },
  {
   "cell_type": "code",
   "execution_count": null,
   "metadata": {},
   "outputs": [],
   "source": []
  },
  {
   "cell_type": "code",
   "execution_count": null,
   "metadata": {
    "collapsed": true
   },
   "outputs": [],
   "source": [
    "# from sklearn.pipeline import Pipeline\n",
    "# from sklearn.ensemble import RandomForestClassifier\n",
    "\n",
    "# # !!! На каждом этапе Pipeline нужно указать свои параметры\n",
    "# # 1-ый вариант: tf-idf + LSI\n",
    "# # 2-ой вариант: LDA\n",
    "\n",
    "# # clf = Pipeline([\n",
    "# #     ('vect', CountVectorizer(analyzer = 'char', ngram_range={4,6})),\n",
    "# #     ('clf', RandomForestClassifier()),\n",
    "# # ])\n",
    "\n",
    "\n",
    "\n",
    "# clf = Pipeline([ \n",
    "#     ('vect', CountVectorizer()), \n",
    "#     ('tfidf', TfidfTransformer()), \n",
    "#     ('tm', TruncatedSVD()), \n",
    "#     ('clf', RandomForestClassifier())\n",
    "# ])\n"
   ]
  }
 ],
 "metadata": {
  "kernelspec": {
   "display_name": "Python 3",
   "language": "python",
   "name": "python3"
  },
  "language_info": {
   "codemirror_mode": {
    "name": "ipython",
    "version": 3
   },
   "file_extension": ".py",
   "mimetype": "text/x-python",
   "name": "python",
   "nbconvert_exporter": "python",
   "pygments_lexer": "ipython3",
   "version": "3.7.1"
  }
 },
 "nbformat": 4,
 "nbformat_minor": 2
}
